{
 "cells": [
  {
   "cell_type": "markdown",
   "metadata": {},
   "source": [
    "### Quick Demo of Random Forest Classification"
   ]
  },
  {
   "cell_type": "markdown",
   "metadata": {},
   "source": [
    "#### For White Wine"
   ]
  },
  {
   "cell_type": "code",
   "execution_count": 14,
   "metadata": {},
   "outputs": [],
   "source": [
    "# Read the pickled file.\n",
    "\n",
    "import pickle\n",
    "\n",
    "with open('/Users/shinjinigupta/Desktop/SJSU/SPRING_2021/DATA_245/PROJECT/Wine_Quality_Prediction/Pickle_RF_White_Wine_Model','rb') as f:\n",
    "    white_wine=pickle.load(f)"
   ]
  },
  {
   "cell_type": "code",
   "execution_count": 15,
   "metadata": {},
   "outputs": [
    {
     "data": {
      "text/plain": [
       "array([1])"
      ]
     },
     "execution_count": 15,
     "metadata": {},
     "output_type": "execute_result"
    }
   ],
   "source": [
    "# Prediction on a test data\n",
    "\n",
    "import numpy as np\n",
    "\n",
    "test_data=np.array([[8.1,0.28,0.40,6.9,0.050,30.0,97.0,0.99510,3.26,0.44,10.1]])\n",
    "test_data1=np.array([[7.5,0.29,0.31,8.95,0.055,20,151,0.9968,3.08,0.54,9.3]])\n",
    "test_data2=np.array([[7.6,0.48,0.37,0.8,0.037,4,100,0.9902,3.03,0.39,11.4]])\n",
    "\n",
    "\n",
    "Predicted_label = white_wine.predict(test_data2)\n",
    "Predicted_label"
   ]
  },
  {
   "cell_type": "markdown",
   "metadata": {},
   "source": [
    "#### For Red Wine"
   ]
  },
  {
   "cell_type": "code",
   "execution_count": 16,
   "metadata": {},
   "outputs": [],
   "source": [
    "# Read the pickled file.\n",
    "\n",
    "import pickle\n",
    "\n",
    "with open('/Users/shinjinigupta/Desktop/SJSU/SPRING_2021/DATA_245/PROJECT/Wine_Quality_Prediction/Pickle_RF_Red_Wine_Model','rb') as f:\n",
    "    red_wine=pickle.load(f)"
   ]
  },
  {
   "cell_type": "code",
   "execution_count": 17,
   "metadata": {},
   "outputs": [
    {
     "data": {
      "text/plain": [
       "array([1])"
      ]
     },
     "execution_count": 17,
     "metadata": {},
     "output_type": "execute_result"
    }
   ],
   "source": [
    "# Prediction on a test data\n",
    "\n",
    "import numpy as np\n",
    "\n",
    "test_data=np.array([[7.8,0.58,0.02,2,0.073,9,18,0.9968,3.36,0.57,9.5]])\n",
    "\n",
    "Predicted_label = red_wine.predict(test_data)\n",
    "Predicted_label"
   ]
  },
  {
   "cell_type": "code",
   "execution_count": null,
   "metadata": {},
   "outputs": [],
   "source": []
  }
 ],
 "metadata": {
  "kernelspec": {
   "display_name": "Python 3",
   "language": "python",
   "name": "python3"
  },
  "language_info": {
   "codemirror_mode": {
    "name": "ipython",
    "version": 3
   },
   "file_extension": ".py",
   "mimetype": "text/x-python",
   "name": "python",
   "nbconvert_exporter": "python",
   "pygments_lexer": "ipython3",
   "version": "3.8.3"
  }
 },
 "nbformat": 4,
 "nbformat_minor": 4
}

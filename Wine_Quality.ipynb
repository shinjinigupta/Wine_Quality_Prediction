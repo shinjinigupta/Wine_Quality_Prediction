{
 "cells": [
  {
   "cell_type": "markdown",
   "metadata": {},
   "source": [
    "### This is our Project on Wine Quality Prediction using classification & regression techniques in ML."
   ]
  },
  {
   "cell_type": "markdown",
   "metadata": {},
   "source": [
    "# White-wine data reading and cleaning"
   ]
  },
  {
   "cell_type": "code",
   "execution_count": 1,
   "metadata": {},
   "outputs": [
    {
     "data": {
      "text/plain": [
       "DataFrame[fixed acidity: double, volatile acidity: double, citric acid: double, residual sugar: double, chlorides: double, free sulfur dioxide: double, total sulfur dioxide: double, density: double, pH: double, sulphates: double, alcohol: double, quality: int]"
      ]
     },
     "execution_count": 1,
     "metadata": {},
     "output_type": "execute_result"
    }
   ],
   "source": [
    "#Import the white-wine file which is in CSV format \n",
    "from pyspark.sql import SparkSession\n",
    "spark=SparkSession.builder.getOrCreate()\n",
    "dataFrame=spark.read.option(\"delimiter\", \";\").option(\"inferSchema\", \"true\").option(\"header\",\"true\").csv(r\"C:\\Users\\varsh\\OneDrive\\Desktop\\MSDA\\SEM2\\MACHINE_LEARNING\\Project\\datasets\\winequality-white.csv\")\n",
    "dataFrame"
   ]
  },
  {
   "cell_type": "code",
   "execution_count": 2,
   "metadata": {},
   "outputs": [
    {
     "name": "stdout",
     "output_type": "stream",
     "text": [
      "+-------------+----------------+-----------+--------------+---------+-------------------+--------------------+-------+----+---------+-------+-------+\n",
      "|fixed_acidity|volatile_acidity|citric_acid|residual_sugar|chlorides|free_sulfur_dioxide|total_sulfur_dioxide|density|  pH|sulphates|alcohol|quality|\n",
      "+-------------+----------------+-----------+--------------+---------+-------------------+--------------------+-------+----+---------+-------+-------+\n",
      "|          7.0|            0.27|       0.36|          20.7|    0.045|               45.0|               170.0|  1.001| 3.0|     0.45|    8.8|      6|\n",
      "|          6.3|             0.3|       0.34|           1.6|    0.049|               14.0|               132.0|  0.994| 3.3|     0.49|    9.5|      6|\n",
      "|          8.1|            0.28|        0.4|           6.9|     0.05|               30.0|                97.0| 0.9951|3.26|     0.44|   10.1|      6|\n",
      "+-------------+----------------+-----------+--------------+---------+-------------------+--------------------+-------+----+---------+-------+-------+\n",
      "only showing top 3 rows\n",
      "\n"
     ]
    }
   ],
   "source": [
    "#checking and renaming headers into single value:\n",
    "dataFrame = dataFrame.withColumnRenamed('fixed acidity', 'fixed_acidity')\n",
    "dataFrame = dataFrame.withColumnRenamed('volatile acidity', 'volatile_acidity')\n",
    "dataFrame = dataFrame.withColumnRenamed('citric acid', 'citric_acid')\n",
    "dataFrame = dataFrame.withColumnRenamed('free sulfur dioxide', 'free_sulfur_dioxide')\n",
    "dataFrame = dataFrame.withColumnRenamed('residual sugar', 'residual_sugar')\n",
    "dataFrame = dataFrame.withColumnRenamed('total sulfur dioxide', 'total_sulfur_dioxide')\n",
    "dataFrame.show(3)"
   ]
  },
  {
   "cell_type": "code",
   "execution_count": 3,
   "metadata": {},
   "outputs": [
    {
     "name": "stdout",
     "output_type": "stream",
     "text": [
      "root\n",
      " |-- fixed_acidity: double (nullable = true)\n",
      " |-- volatile_acidity: double (nullable = true)\n",
      " |-- citric_acid: double (nullable = true)\n",
      " |-- residual_sugar: double (nullable = true)\n",
      " |-- chlorides: double (nullable = true)\n",
      " |-- free_sulfur_dioxide: double (nullable = true)\n",
      " |-- total_sulfur_dioxide: double (nullable = true)\n",
      " |-- density: double (nullable = true)\n",
      " |-- pH: double (nullable = true)\n",
      " |-- sulphates: double (nullable = true)\n",
      " |-- alcohol: double (nullable = true)\n",
      " |-- quality: integer (nullable = true)\n",
      "\n"
     ]
    }
   ],
   "source": [
    "#checking for categorical values\n",
    "dataFrame.printSchema()"
   ]
  },
  {
   "cell_type": "code",
   "execution_count": 4,
   "metadata": {},
   "outputs": [
    {
     "name": "stdout",
     "output_type": "stream",
     "text": [
      "The number of non-distinct data is : 4898\n",
      "The number of distinct data is : 3961\n",
      "Therefore, the number of duplicates are: 937\n",
      "After dropping the duplicates, the count of the dictinct data is: 3961\n"
     ]
    }
   ],
   "source": [
    "#Checking and removing of duplicates:\n",
    "print(\"The number of non-distinct data is :\",dataFrame.count())\n",
    "print(\"The number of distinct data is :\",dataFrame.distinct().count()) \n",
    "print(\"Therefore, the number of duplicates are:\",dataFrame.count()-dataFrame.distinct().count()) \n",
    "dataFrame=dataFrame.dropDuplicates()\n",
    "print(\"After dropping the duplicates, the count of the dictinct data is:\",dataFrame.count()) "
   ]
  },
  {
   "cell_type": "code",
   "execution_count": 5,
   "metadata": {},
   "outputs": [
    {
     "data": {
      "text/plain": [
       "{'fixed_acidity': 0,\n",
       " 'volatile_acidity': 0,\n",
       " 'citric_acid': 0,\n",
       " 'residual_sugar': 0,\n",
       " 'chlorides': 0,\n",
       " 'free_sulfur_dioxide': 0,\n",
       " 'total_sulfur_dioxide': 0,\n",
       " 'density': 0,\n",
       " 'pH': 0,\n",
       " 'sulphates': 0,\n",
       " 'alcohol': 0,\n",
       " 'quality': 0}"
      ]
     },
     "execution_count": 5,
     "metadata": {},
     "output_type": "execute_result"
    }
   ],
   "source": [
    "#checking for nulls or missing values:\n",
    "nulls = {col:dataFrame.filter(dataFrame[col].isNull()).count() for col in dataFrame.columns}\n",
    "nulls"
   ]
  },
  {
   "cell_type": "code",
   "execution_count": 6,
   "metadata": {},
   "outputs": [
    {
     "data": {
      "text/plain": [
       "['fixed_acidity',\n",
       " 'volatile_acidity',\n",
       " 'citric_acid',\n",
       " 'residual_sugar',\n",
       " 'chlorides',\n",
       " 'free_sulfur_dioxide',\n",
       " 'total_sulfur_dioxide',\n",
       " 'density',\n",
       " 'pH',\n",
       " 'sulphates',\n",
       " 'alcohol',\n",
       " 'label']"
      ]
     },
     "execution_count": 6,
     "metadata": {},
     "output_type": "execute_result"
    }
   ],
   "source": [
    "#Create a user defined function to convert the interger values of 'quality' column into binary values such as 0 and 1.\n",
    "import pyspark.sql.functions as func\n",
    "def pred_col(feat1):\n",
    "    return func.when((func.col(feat1)>6),1).otherwise(0)\n",
    "\n",
    "quality_transformed=dataFrame.withColumn('label',pred_col('quality'))\n",
    "\n",
    "df=quality_transformed[['fixed_acidity',\n",
    "'volatile_acidity',\n",
    "'citric_acid',\n",
    "'residual_sugar',\n",
    "'chlorides',\n",
    "'free_sulfur_dioxide',\n",
    "'total_sulfur_dioxide',\n",
    "'density',\n",
    "'pH',\n",
    "'sulphates',\n",
    "'alcohol','label']]\n",
    "df.columns"
   ]
  },
  {
   "cell_type": "code",
   "execution_count": 7,
   "metadata": {},
   "outputs": [
    {
     "name": "stdout",
     "output_type": "stream",
     "text": [
      "+--------------------+-----+\n",
      "|      feature_vector|label|\n",
      "+--------------------+-----+\n",
      "|[6.7,0.23,0.26,1....|    0|\n",
      "|[7.4,0.2,0.36,1.2...|    0|\n",
      "|[6.7,0.17,0.5,2.1...|    0|\n",
      "|[6.4,0.24,0.32,14...|    0|\n",
      "|[7.2,0.55,0.09,1....|    0|\n",
      "|[6.6,0.24,0.29,2....|    0|\n",
      "|[6.5,0.26,0.28,12...|    0|\n",
      "|[7.4,0.24,0.31,8....|    0|\n",
      "|[7.2,0.37,0.15,2....|    1|\n",
      "|[7.5,0.23,0.32,9....|    0|\n",
      "|[9.0,0.31,0.48,6....|    0|\n",
      "|[6.2,0.27,0.49,1....|    0|\n",
      "|[7.6,0.26,0.58,7....|    0|\n",
      "|[10.0,0.23,0.27,1...|    0|\n",
      "|[6.8,0.31,0.09,1....|    0|\n",
      "|[7.7,0.24,0.31,1....|    0|\n",
      "|[6.3,0.18,0.22,1....|    0|\n",
      "|[7.6,0.1,0.33,1.0...|    0|\n",
      "|[6.6,0.45,0.43,7....|    0|\n",
      "|[7.1,0.27,0.28,1....|    0|\n",
      "+--------------------+-----+\n",
      "only showing top 20 rows\n",
      "\n"
     ]
    }
   ],
   "source": [
    "#Feature engineering: convert the features into feature vectors.\n",
    "from pyspark.ml.linalg import Vector\n",
    "from pyspark.ml.feature import VectorAssembler\n",
    "vectorAssembler=VectorAssembler(inputCols=['fixed_acidity',\n",
    " 'volatile_acidity',\n",
    " 'citric_acid',\n",
    " 'residual_sugar',\n",
    " 'chlorides',\n",
    " 'free_sulfur_dioxide',\n",
    " 'total_sulfur_dioxide',\n",
    " 'density',\n",
    " 'pH',\n",
    " 'sulphates',\n",
    " 'alcohol'],outputCol='feature_vector')\n",
    "\n",
    "df = vectorAssembler.transform(df)\n",
    "df = df.select(['feature_vector', 'label'])\n",
    "\n",
    "df.show()"
   ]
  },
  {
   "cell_type": "code",
   "execution_count": 8,
   "metadata": {},
   "outputs": [],
   "source": [
    "#Standardize the feature-vector values.\n",
    "from pyspark.ml.feature import StandardScaler  \n",
    "Scalerizer=StandardScaler().setInputCol(\"feature_vector\").setOutputCol(\"features\")\n",
    "df=Scalerizer.fit(df).transform(df)\n",
    "df=df.select(['features','label'])"
   ]
  },
  {
   "cell_type": "code",
   "execution_count": 9,
   "metadata": {},
   "outputs": [
    {
     "data": {
      "text/plain": [
       "(2736, 1225)"
      ]
     },
     "execution_count": 9,
     "metadata": {},
     "output_type": "execute_result"
    }
   ],
   "source": [
    "#split the data into training and test data.\n",
    "train,test=df.randomSplit([0.7,0.3]) # spitting the dataframe data into training data(70%) and test data(30%)\n",
    "train.count(),test.count()"
   ]
  },
  {
   "cell_type": "code",
   "execution_count": 10,
   "metadata": {},
   "outputs": [
    {
     "data": {
      "text/plain": [
       "'C:\\\\Users\\\\varsh\\\\OneDrive\\\\Desktop\\\\MSDA\\\\SEM2\\\\MACHINE_LEARNING\\\\Project\\\\github\\\\Wine_Quality_Prediction'"
      ]
     },
     "execution_count": 10,
     "metadata": {},
     "output_type": "execute_result"
    }
   ],
   "source": [
    "pwd\n"
   ]
  },
  {
   "cell_type": "code",
   "execution_count": null,
   "metadata": {},
   "outputs": [],
   "source": []
  }
 ],
 "metadata": {
  "kernelspec": {
   "display_name": "Python 3",
   "language": "python",
   "name": "python3"
  },
  "language_info": {
   "codemirror_mode": {
    "name": "ipython",
    "version": 3
   },
   "file_extension": ".py",
   "mimetype": "text/x-python",
   "name": "python",
   "nbconvert_exporter": "python",
   "pygments_lexer": "ipython3",
   "version": "3.7.6"
  }
 },
 "nbformat": 4,
 "nbformat_minor": 4
}

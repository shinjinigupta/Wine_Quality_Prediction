{
 "cells": [
  {
   "cell_type": "markdown",
   "metadata": {},
   "source": [
    "# White-wine data reading and cleaning"
   ]
  },
  {
   "cell_type": "code",
   "execution_count": 294,
   "metadata": {},
   "outputs": [
    {
     "data": {
      "text/html": [
       "<div>\n",
       "<style scoped>\n",
       "    .dataframe tbody tr th:only-of-type {\n",
       "        vertical-align: middle;\n",
       "    }\n",
       "\n",
       "    .dataframe tbody tr th {\n",
       "        vertical-align: top;\n",
       "    }\n",
       "\n",
       "    .dataframe thead th {\n",
       "        text-align: right;\n",
       "    }\n",
       "</style>\n",
       "<table border=\"1\" class=\"dataframe\">\n",
       "  <thead>\n",
       "    <tr style=\"text-align: right;\">\n",
       "      <th></th>\n",
       "      <th>fixed acidity</th>\n",
       "      <th>volatile acidity</th>\n",
       "      <th>citric acid</th>\n",
       "      <th>residual sugar</th>\n",
       "      <th>chlorides</th>\n",
       "      <th>free sulfur dioxide</th>\n",
       "      <th>total sulfur dioxide</th>\n",
       "      <th>density</th>\n",
       "      <th>pH</th>\n",
       "      <th>sulphates</th>\n",
       "      <th>alcohol</th>\n",
       "      <th>quality</th>\n",
       "    </tr>\n",
       "  </thead>\n",
       "  <tbody>\n",
       "    <tr>\n",
       "      <th>0</th>\n",
       "      <td>7.0</td>\n",
       "      <td>0.27</td>\n",
       "      <td>0.36</td>\n",
       "      <td>20.7</td>\n",
       "      <td>0.045</td>\n",
       "      <td>45.0</td>\n",
       "      <td>170.0</td>\n",
       "      <td>1.00100</td>\n",
       "      <td>3.00</td>\n",
       "      <td>0.45</td>\n",
       "      <td>8.8</td>\n",
       "      <td>6</td>\n",
       "    </tr>\n",
       "    <tr>\n",
       "      <th>1</th>\n",
       "      <td>6.3</td>\n",
       "      <td>0.30</td>\n",
       "      <td>0.34</td>\n",
       "      <td>1.6</td>\n",
       "      <td>0.049</td>\n",
       "      <td>14.0</td>\n",
       "      <td>132.0</td>\n",
       "      <td>0.99400</td>\n",
       "      <td>3.30</td>\n",
       "      <td>0.49</td>\n",
       "      <td>9.5</td>\n",
       "      <td>6</td>\n",
       "    </tr>\n",
       "    <tr>\n",
       "      <th>2</th>\n",
       "      <td>8.1</td>\n",
       "      <td>0.28</td>\n",
       "      <td>0.40</td>\n",
       "      <td>6.9</td>\n",
       "      <td>0.050</td>\n",
       "      <td>30.0</td>\n",
       "      <td>97.0</td>\n",
       "      <td>0.99510</td>\n",
       "      <td>3.26</td>\n",
       "      <td>0.44</td>\n",
       "      <td>10.1</td>\n",
       "      <td>6</td>\n",
       "    </tr>\n",
       "    <tr>\n",
       "      <th>3</th>\n",
       "      <td>7.2</td>\n",
       "      <td>0.23</td>\n",
       "      <td>0.32</td>\n",
       "      <td>8.5</td>\n",
       "      <td>0.058</td>\n",
       "      <td>47.0</td>\n",
       "      <td>186.0</td>\n",
       "      <td>0.99560</td>\n",
       "      <td>3.19</td>\n",
       "      <td>0.40</td>\n",
       "      <td>9.9</td>\n",
       "      <td>6</td>\n",
       "    </tr>\n",
       "    <tr>\n",
       "      <th>4</th>\n",
       "      <td>7.2</td>\n",
       "      <td>0.23</td>\n",
       "      <td>0.32</td>\n",
       "      <td>8.5</td>\n",
       "      <td>0.058</td>\n",
       "      <td>47.0</td>\n",
       "      <td>186.0</td>\n",
       "      <td>0.99560</td>\n",
       "      <td>3.19</td>\n",
       "      <td>0.40</td>\n",
       "      <td>9.9</td>\n",
       "      <td>6</td>\n",
       "    </tr>\n",
       "    <tr>\n",
       "      <th>...</th>\n",
       "      <td>...</td>\n",
       "      <td>...</td>\n",
       "      <td>...</td>\n",
       "      <td>...</td>\n",
       "      <td>...</td>\n",
       "      <td>...</td>\n",
       "      <td>...</td>\n",
       "      <td>...</td>\n",
       "      <td>...</td>\n",
       "      <td>...</td>\n",
       "      <td>...</td>\n",
       "      <td>...</td>\n",
       "    </tr>\n",
       "    <tr>\n",
       "      <th>4893</th>\n",
       "      <td>6.2</td>\n",
       "      <td>0.21</td>\n",
       "      <td>0.29</td>\n",
       "      <td>1.6</td>\n",
       "      <td>0.039</td>\n",
       "      <td>24.0</td>\n",
       "      <td>92.0</td>\n",
       "      <td>0.99114</td>\n",
       "      <td>3.27</td>\n",
       "      <td>0.50</td>\n",
       "      <td>11.2</td>\n",
       "      <td>6</td>\n",
       "    </tr>\n",
       "    <tr>\n",
       "      <th>4894</th>\n",
       "      <td>6.6</td>\n",
       "      <td>0.32</td>\n",
       "      <td>0.36</td>\n",
       "      <td>8.0</td>\n",
       "      <td>0.047</td>\n",
       "      <td>57.0</td>\n",
       "      <td>168.0</td>\n",
       "      <td>0.99490</td>\n",
       "      <td>3.15</td>\n",
       "      <td>0.46</td>\n",
       "      <td>9.6</td>\n",
       "      <td>5</td>\n",
       "    </tr>\n",
       "    <tr>\n",
       "      <th>4895</th>\n",
       "      <td>6.5</td>\n",
       "      <td>0.24</td>\n",
       "      <td>0.19</td>\n",
       "      <td>1.2</td>\n",
       "      <td>0.041</td>\n",
       "      <td>30.0</td>\n",
       "      <td>111.0</td>\n",
       "      <td>0.99254</td>\n",
       "      <td>2.99</td>\n",
       "      <td>0.46</td>\n",
       "      <td>9.4</td>\n",
       "      <td>6</td>\n",
       "    </tr>\n",
       "    <tr>\n",
       "      <th>4896</th>\n",
       "      <td>5.5</td>\n",
       "      <td>0.29</td>\n",
       "      <td>0.30</td>\n",
       "      <td>1.1</td>\n",
       "      <td>0.022</td>\n",
       "      <td>20.0</td>\n",
       "      <td>110.0</td>\n",
       "      <td>0.98869</td>\n",
       "      <td>3.34</td>\n",
       "      <td>0.38</td>\n",
       "      <td>12.8</td>\n",
       "      <td>7</td>\n",
       "    </tr>\n",
       "    <tr>\n",
       "      <th>4897</th>\n",
       "      <td>6.0</td>\n",
       "      <td>0.21</td>\n",
       "      <td>0.38</td>\n",
       "      <td>0.8</td>\n",
       "      <td>0.020</td>\n",
       "      <td>22.0</td>\n",
       "      <td>98.0</td>\n",
       "      <td>0.98941</td>\n",
       "      <td>3.26</td>\n",
       "      <td>0.32</td>\n",
       "      <td>11.8</td>\n",
       "      <td>6</td>\n",
       "    </tr>\n",
       "  </tbody>\n",
       "</table>\n",
       "<p>4898 rows × 12 columns</p>\n",
       "</div>"
      ],
      "text/plain": [
       "      fixed acidity  volatile acidity  citric acid  residual sugar  chlorides  \\\n",
       "0               7.0              0.27         0.36            20.7      0.045   \n",
       "1               6.3              0.30         0.34             1.6      0.049   \n",
       "2               8.1              0.28         0.40             6.9      0.050   \n",
       "3               7.2              0.23         0.32             8.5      0.058   \n",
       "4               7.2              0.23         0.32             8.5      0.058   \n",
       "...             ...               ...          ...             ...        ...   \n",
       "4893            6.2              0.21         0.29             1.6      0.039   \n",
       "4894            6.6              0.32         0.36             8.0      0.047   \n",
       "4895            6.5              0.24         0.19             1.2      0.041   \n",
       "4896            5.5              0.29         0.30             1.1      0.022   \n",
       "4897            6.0              0.21         0.38             0.8      0.020   \n",
       "\n",
       "      free sulfur dioxide  total sulfur dioxide  density    pH  sulphates  \\\n",
       "0                    45.0                 170.0  1.00100  3.00       0.45   \n",
       "1                    14.0                 132.0  0.99400  3.30       0.49   \n",
       "2                    30.0                  97.0  0.99510  3.26       0.44   \n",
       "3                    47.0                 186.0  0.99560  3.19       0.40   \n",
       "4                    47.0                 186.0  0.99560  3.19       0.40   \n",
       "...                   ...                   ...      ...   ...        ...   \n",
       "4893                 24.0                  92.0  0.99114  3.27       0.50   \n",
       "4894                 57.0                 168.0  0.99490  3.15       0.46   \n",
       "4895                 30.0                 111.0  0.99254  2.99       0.46   \n",
       "4896                 20.0                 110.0  0.98869  3.34       0.38   \n",
       "4897                 22.0                  98.0  0.98941  3.26       0.32   \n",
       "\n",
       "      alcohol  quality  \n",
       "0         8.8        6  \n",
       "1         9.5        6  \n",
       "2        10.1        6  \n",
       "3         9.9        6  \n",
       "4         9.9        6  \n",
       "...       ...      ...  \n",
       "4893     11.2        6  \n",
       "4894      9.6        5  \n",
       "4895      9.4        6  \n",
       "4896     12.8        7  \n",
       "4897     11.8        6  \n",
       "\n",
       "[4898 rows x 12 columns]"
      ]
     },
     "execution_count": 294,
     "metadata": {},
     "output_type": "execute_result"
    }
   ],
   "source": [
    "#Import and read the white-wine file which is in CSV format using pandas.\n",
    "import warnings\n",
    "warnings.filterwarnings('ignore')\n",
    "import pandas as pd\n",
    "df=pd.read_csv(r\"C:\\Users\\varsh\\OneDrive\\Desktop\\MSDA\\SEM2\\MACHINE_LEARNING\\Project\\datasets\\winequality-white.csv\",sep=';',header='infer')\n",
    "df"
   ]
  },
  {
   "cell_type": "code",
   "execution_count": 295,
   "metadata": {},
   "outputs": [
    {
     "data": {
      "text/html": [
       "<div>\n",
       "<style scoped>\n",
       "    .dataframe tbody tr th:only-of-type {\n",
       "        vertical-align: middle;\n",
       "    }\n",
       "\n",
       "    .dataframe tbody tr th {\n",
       "        vertical-align: top;\n",
       "    }\n",
       "\n",
       "    .dataframe thead th {\n",
       "        text-align: right;\n",
       "    }\n",
       "</style>\n",
       "<table border=\"1\" class=\"dataframe\">\n",
       "  <thead>\n",
       "    <tr style=\"text-align: right;\">\n",
       "      <th></th>\n",
       "      <th>fixed_acidity</th>\n",
       "      <th>volatile_acidity</th>\n",
       "      <th>citric_acid</th>\n",
       "      <th>residual_sugar</th>\n",
       "      <th>chlorides</th>\n",
       "      <th>free_sulfur_dioxide</th>\n",
       "      <th>total_sulfur_dioxide</th>\n",
       "      <th>density</th>\n",
       "      <th>pH</th>\n",
       "      <th>sulphates</th>\n",
       "      <th>alcohol</th>\n",
       "      <th>quality</th>\n",
       "    </tr>\n",
       "  </thead>\n",
       "  <tbody>\n",
       "    <tr>\n",
       "      <th>0</th>\n",
       "      <td>7.0</td>\n",
       "      <td>0.27</td>\n",
       "      <td>0.36</td>\n",
       "      <td>20.7</td>\n",
       "      <td>0.045</td>\n",
       "      <td>45.0</td>\n",
       "      <td>170.0</td>\n",
       "      <td>1.00100</td>\n",
       "      <td>3.00</td>\n",
       "      <td>0.45</td>\n",
       "      <td>8.8</td>\n",
       "      <td>6</td>\n",
       "    </tr>\n",
       "    <tr>\n",
       "      <th>1</th>\n",
       "      <td>6.3</td>\n",
       "      <td>0.30</td>\n",
       "      <td>0.34</td>\n",
       "      <td>1.6</td>\n",
       "      <td>0.049</td>\n",
       "      <td>14.0</td>\n",
       "      <td>132.0</td>\n",
       "      <td>0.99400</td>\n",
       "      <td>3.30</td>\n",
       "      <td>0.49</td>\n",
       "      <td>9.5</td>\n",
       "      <td>6</td>\n",
       "    </tr>\n",
       "    <tr>\n",
       "      <th>2</th>\n",
       "      <td>8.1</td>\n",
       "      <td>0.28</td>\n",
       "      <td>0.40</td>\n",
       "      <td>6.9</td>\n",
       "      <td>0.050</td>\n",
       "      <td>30.0</td>\n",
       "      <td>97.0</td>\n",
       "      <td>0.99510</td>\n",
       "      <td>3.26</td>\n",
       "      <td>0.44</td>\n",
       "      <td>10.1</td>\n",
       "      <td>6</td>\n",
       "    </tr>\n",
       "    <tr>\n",
       "      <th>3</th>\n",
       "      <td>7.2</td>\n",
       "      <td>0.23</td>\n",
       "      <td>0.32</td>\n",
       "      <td>8.5</td>\n",
       "      <td>0.058</td>\n",
       "      <td>47.0</td>\n",
       "      <td>186.0</td>\n",
       "      <td>0.99560</td>\n",
       "      <td>3.19</td>\n",
       "      <td>0.40</td>\n",
       "      <td>9.9</td>\n",
       "      <td>6</td>\n",
       "    </tr>\n",
       "    <tr>\n",
       "      <th>4</th>\n",
       "      <td>7.2</td>\n",
       "      <td>0.23</td>\n",
       "      <td>0.32</td>\n",
       "      <td>8.5</td>\n",
       "      <td>0.058</td>\n",
       "      <td>47.0</td>\n",
       "      <td>186.0</td>\n",
       "      <td>0.99560</td>\n",
       "      <td>3.19</td>\n",
       "      <td>0.40</td>\n",
       "      <td>9.9</td>\n",
       "      <td>6</td>\n",
       "    </tr>\n",
       "    <tr>\n",
       "      <th>...</th>\n",
       "      <td>...</td>\n",
       "      <td>...</td>\n",
       "      <td>...</td>\n",
       "      <td>...</td>\n",
       "      <td>...</td>\n",
       "      <td>...</td>\n",
       "      <td>...</td>\n",
       "      <td>...</td>\n",
       "      <td>...</td>\n",
       "      <td>...</td>\n",
       "      <td>...</td>\n",
       "      <td>...</td>\n",
       "    </tr>\n",
       "    <tr>\n",
       "      <th>4893</th>\n",
       "      <td>6.2</td>\n",
       "      <td>0.21</td>\n",
       "      <td>0.29</td>\n",
       "      <td>1.6</td>\n",
       "      <td>0.039</td>\n",
       "      <td>24.0</td>\n",
       "      <td>92.0</td>\n",
       "      <td>0.99114</td>\n",
       "      <td>3.27</td>\n",
       "      <td>0.50</td>\n",
       "      <td>11.2</td>\n",
       "      <td>6</td>\n",
       "    </tr>\n",
       "    <tr>\n",
       "      <th>4894</th>\n",
       "      <td>6.6</td>\n",
       "      <td>0.32</td>\n",
       "      <td>0.36</td>\n",
       "      <td>8.0</td>\n",
       "      <td>0.047</td>\n",
       "      <td>57.0</td>\n",
       "      <td>168.0</td>\n",
       "      <td>0.99490</td>\n",
       "      <td>3.15</td>\n",
       "      <td>0.46</td>\n",
       "      <td>9.6</td>\n",
       "      <td>5</td>\n",
       "    </tr>\n",
       "    <tr>\n",
       "      <th>4895</th>\n",
       "      <td>6.5</td>\n",
       "      <td>0.24</td>\n",
       "      <td>0.19</td>\n",
       "      <td>1.2</td>\n",
       "      <td>0.041</td>\n",
       "      <td>30.0</td>\n",
       "      <td>111.0</td>\n",
       "      <td>0.99254</td>\n",
       "      <td>2.99</td>\n",
       "      <td>0.46</td>\n",
       "      <td>9.4</td>\n",
       "      <td>6</td>\n",
       "    </tr>\n",
       "    <tr>\n",
       "      <th>4896</th>\n",
       "      <td>5.5</td>\n",
       "      <td>0.29</td>\n",
       "      <td>0.30</td>\n",
       "      <td>1.1</td>\n",
       "      <td>0.022</td>\n",
       "      <td>20.0</td>\n",
       "      <td>110.0</td>\n",
       "      <td>0.98869</td>\n",
       "      <td>3.34</td>\n",
       "      <td>0.38</td>\n",
       "      <td>12.8</td>\n",
       "      <td>7</td>\n",
       "    </tr>\n",
       "    <tr>\n",
       "      <th>4897</th>\n",
       "      <td>6.0</td>\n",
       "      <td>0.21</td>\n",
       "      <td>0.38</td>\n",
       "      <td>0.8</td>\n",
       "      <td>0.020</td>\n",
       "      <td>22.0</td>\n",
       "      <td>98.0</td>\n",
       "      <td>0.98941</td>\n",
       "      <td>3.26</td>\n",
       "      <td>0.32</td>\n",
       "      <td>11.8</td>\n",
       "      <td>6</td>\n",
       "    </tr>\n",
       "  </tbody>\n",
       "</table>\n",
       "<p>4898 rows × 12 columns</p>\n",
       "</div>"
      ],
      "text/plain": [
       "      fixed_acidity  volatile_acidity  citric_acid  residual_sugar  chlorides  \\\n",
       "0               7.0              0.27         0.36            20.7      0.045   \n",
       "1               6.3              0.30         0.34             1.6      0.049   \n",
       "2               8.1              0.28         0.40             6.9      0.050   \n",
       "3               7.2              0.23         0.32             8.5      0.058   \n",
       "4               7.2              0.23         0.32             8.5      0.058   \n",
       "...             ...               ...          ...             ...        ...   \n",
       "4893            6.2              0.21         0.29             1.6      0.039   \n",
       "4894            6.6              0.32         0.36             8.0      0.047   \n",
       "4895            6.5              0.24         0.19             1.2      0.041   \n",
       "4896            5.5              0.29         0.30             1.1      0.022   \n",
       "4897            6.0              0.21         0.38             0.8      0.020   \n",
       "\n",
       "      free_sulfur_dioxide  total_sulfur_dioxide  density    pH  sulphates  \\\n",
       "0                    45.0                 170.0  1.00100  3.00       0.45   \n",
       "1                    14.0                 132.0  0.99400  3.30       0.49   \n",
       "2                    30.0                  97.0  0.99510  3.26       0.44   \n",
       "3                    47.0                 186.0  0.99560  3.19       0.40   \n",
       "4                    47.0                 186.0  0.99560  3.19       0.40   \n",
       "...                   ...                   ...      ...   ...        ...   \n",
       "4893                 24.0                  92.0  0.99114  3.27       0.50   \n",
       "4894                 57.0                 168.0  0.99490  3.15       0.46   \n",
       "4895                 30.0                 111.0  0.99254  2.99       0.46   \n",
       "4896                 20.0                 110.0  0.98869  3.34       0.38   \n",
       "4897                 22.0                  98.0  0.98941  3.26       0.32   \n",
       "\n",
       "      alcohol  quality  \n",
       "0         8.8        6  \n",
       "1         9.5        6  \n",
       "2        10.1        6  \n",
       "3         9.9        6  \n",
       "4         9.9        6  \n",
       "...       ...      ...  \n",
       "4893     11.2        6  \n",
       "4894      9.6        5  \n",
       "4895      9.4        6  \n",
       "4896     12.8        7  \n",
       "4897     11.8        6  \n",
       "\n",
       "[4898 rows x 12 columns]"
      ]
     },
     "execution_count": 295,
     "metadata": {},
     "output_type": "execute_result"
    }
   ],
   "source": [
    "#checking and renaming headers into single value.\n",
    "df=df.rename(columns={'fixed acidity': 'fixed_acidity','volatile acidity': 'volatile_acidity', 'citric acid': 'citric_acid','free sulfur dioxide': 'free_sulfur_dioxide','residual sugar': 'residual_sugar','total sulfur dioxide': 'total_sulfur_dioxide'})\n",
    "df"
   ]
  },
  {
   "cell_type": "code",
   "execution_count": 296,
   "metadata": {},
   "outputs": [
    {
     "name": "stdout",
     "output_type": "stream",
     "text": [
      "<class 'pandas.core.frame.DataFrame'>\n",
      "RangeIndex: 4898 entries, 0 to 4897\n",
      "Data columns (total 12 columns):\n",
      " #   Column                Non-Null Count  Dtype  \n",
      "---  ------                --------------  -----  \n",
      " 0   fixed_acidity         4898 non-null   float64\n",
      " 1   volatile_acidity      4898 non-null   float64\n",
      " 2   citric_acid           4898 non-null   float64\n",
      " 3   residual_sugar        4898 non-null   float64\n",
      " 4   chlorides             4898 non-null   float64\n",
      " 5   free_sulfur_dioxide   4898 non-null   float64\n",
      " 6   total_sulfur_dioxide  4898 non-null   float64\n",
      " 7   density               4898 non-null   float64\n",
      " 8   pH                    4898 non-null   float64\n",
      " 9   sulphates             4898 non-null   float64\n",
      " 10  alcohol               4898 non-null   float64\n",
      " 11  quality               4898 non-null   int64  \n",
      "dtypes: float64(11), int64(1)\n",
      "memory usage: 459.3 KB\n"
     ]
    }
   ],
   "source": [
    "#checking for categorical values.\n",
    "df.info()"
   ]
  },
  {
   "cell_type": "code",
   "execution_count": 297,
   "metadata": {},
   "outputs": [
    {
     "name": "stdout",
     "output_type": "stream",
     "text": [
      "The number of non-distinct data is : fixed_acidity           4898\n",
      "volatile_acidity        4898\n",
      "citric_acid             4898\n",
      "residual_sugar          4898\n",
      "chlorides               4898\n",
      "free_sulfur_dioxide     4898\n",
      "total_sulfur_dioxide    4898\n",
      "density                 4898\n",
      "pH                      4898\n",
      "sulphates               4898\n",
      "alcohol                 4898\n",
      "quality                 4898\n",
      "dtype: int64\n",
      "After dropping the duplicates, the count of the dictinct data is: fixed_acidity           3961\n",
      "volatile_acidity        3961\n",
      "citric_acid             3961\n",
      "residual_sugar          3961\n",
      "chlorides               3961\n",
      "free_sulfur_dioxide     3961\n",
      "total_sulfur_dioxide    3961\n",
      "density                 3961\n",
      "pH                      3961\n",
      "sulphates               3961\n",
      "alcohol                 3961\n",
      "quality                 3961\n",
      "dtype: int64\n"
     ]
    }
   ],
   "source": [
    "#Checking and removal of duplicates, if any present.\n",
    "print(\"The number of non-distinct data is :\",df.count())\n",
    "df=df.drop_duplicates()\n",
    "print(\"After dropping the duplicates, the count of the dictinct data is:\",df.count()) "
   ]
  },
  {
   "cell_type": "code",
   "execution_count": 298,
   "metadata": {},
   "outputs": [
    {
     "data": {
      "text/html": [
       "<div>\n",
       "<style scoped>\n",
       "    .dataframe tbody tr th:only-of-type {\n",
       "        vertical-align: middle;\n",
       "    }\n",
       "\n",
       "    .dataframe tbody tr th {\n",
       "        vertical-align: top;\n",
       "    }\n",
       "\n",
       "    .dataframe thead th {\n",
       "        text-align: right;\n",
       "    }\n",
       "</style>\n",
       "<table border=\"1\" class=\"dataframe\">\n",
       "  <thead>\n",
       "    <tr style=\"text-align: right;\">\n",
       "      <th></th>\n",
       "      <th>fixed_acidity</th>\n",
       "      <th>volatile_acidity</th>\n",
       "      <th>citric_acid</th>\n",
       "      <th>residual_sugar</th>\n",
       "      <th>chlorides</th>\n",
       "      <th>free_sulfur_dioxide</th>\n",
       "      <th>total_sulfur_dioxide</th>\n",
       "      <th>density</th>\n",
       "      <th>pH</th>\n",
       "      <th>sulphates</th>\n",
       "      <th>alcohol</th>\n",
       "      <th>quality</th>\n",
       "    </tr>\n",
       "  </thead>\n",
       "  <tbody>\n",
       "    <tr>\n",
       "      <th>0</th>\n",
       "      <td>False</td>\n",
       "      <td>False</td>\n",
       "      <td>False</td>\n",
       "      <td>False</td>\n",
       "      <td>False</td>\n",
       "      <td>False</td>\n",
       "      <td>False</td>\n",
       "      <td>False</td>\n",
       "      <td>False</td>\n",
       "      <td>False</td>\n",
       "      <td>False</td>\n",
       "      <td>False</td>\n",
       "    </tr>\n",
       "    <tr>\n",
       "      <th>1</th>\n",
       "      <td>False</td>\n",
       "      <td>False</td>\n",
       "      <td>False</td>\n",
       "      <td>False</td>\n",
       "      <td>False</td>\n",
       "      <td>False</td>\n",
       "      <td>False</td>\n",
       "      <td>False</td>\n",
       "      <td>False</td>\n",
       "      <td>False</td>\n",
       "      <td>False</td>\n",
       "      <td>False</td>\n",
       "    </tr>\n",
       "    <tr>\n",
       "      <th>2</th>\n",
       "      <td>False</td>\n",
       "      <td>False</td>\n",
       "      <td>False</td>\n",
       "      <td>False</td>\n",
       "      <td>False</td>\n",
       "      <td>False</td>\n",
       "      <td>False</td>\n",
       "      <td>False</td>\n",
       "      <td>False</td>\n",
       "      <td>False</td>\n",
       "      <td>False</td>\n",
       "      <td>False</td>\n",
       "    </tr>\n",
       "    <tr>\n",
       "      <th>3</th>\n",
       "      <td>False</td>\n",
       "      <td>False</td>\n",
       "      <td>False</td>\n",
       "      <td>False</td>\n",
       "      <td>False</td>\n",
       "      <td>False</td>\n",
       "      <td>False</td>\n",
       "      <td>False</td>\n",
       "      <td>False</td>\n",
       "      <td>False</td>\n",
       "      <td>False</td>\n",
       "      <td>False</td>\n",
       "    </tr>\n",
       "    <tr>\n",
       "      <th>6</th>\n",
       "      <td>False</td>\n",
       "      <td>False</td>\n",
       "      <td>False</td>\n",
       "      <td>False</td>\n",
       "      <td>False</td>\n",
       "      <td>False</td>\n",
       "      <td>False</td>\n",
       "      <td>False</td>\n",
       "      <td>False</td>\n",
       "      <td>False</td>\n",
       "      <td>False</td>\n",
       "      <td>False</td>\n",
       "    </tr>\n",
       "    <tr>\n",
       "      <th>...</th>\n",
       "      <td>...</td>\n",
       "      <td>...</td>\n",
       "      <td>...</td>\n",
       "      <td>...</td>\n",
       "      <td>...</td>\n",
       "      <td>...</td>\n",
       "      <td>...</td>\n",
       "      <td>...</td>\n",
       "      <td>...</td>\n",
       "      <td>...</td>\n",
       "      <td>...</td>\n",
       "      <td>...</td>\n",
       "    </tr>\n",
       "    <tr>\n",
       "      <th>4893</th>\n",
       "      <td>False</td>\n",
       "      <td>False</td>\n",
       "      <td>False</td>\n",
       "      <td>False</td>\n",
       "      <td>False</td>\n",
       "      <td>False</td>\n",
       "      <td>False</td>\n",
       "      <td>False</td>\n",
       "      <td>False</td>\n",
       "      <td>False</td>\n",
       "      <td>False</td>\n",
       "      <td>False</td>\n",
       "    </tr>\n",
       "    <tr>\n",
       "      <th>4894</th>\n",
       "      <td>False</td>\n",
       "      <td>False</td>\n",
       "      <td>False</td>\n",
       "      <td>False</td>\n",
       "      <td>False</td>\n",
       "      <td>False</td>\n",
       "      <td>False</td>\n",
       "      <td>False</td>\n",
       "      <td>False</td>\n",
       "      <td>False</td>\n",
       "      <td>False</td>\n",
       "      <td>False</td>\n",
       "    </tr>\n",
       "    <tr>\n",
       "      <th>4895</th>\n",
       "      <td>False</td>\n",
       "      <td>False</td>\n",
       "      <td>False</td>\n",
       "      <td>False</td>\n",
       "      <td>False</td>\n",
       "      <td>False</td>\n",
       "      <td>False</td>\n",
       "      <td>False</td>\n",
       "      <td>False</td>\n",
       "      <td>False</td>\n",
       "      <td>False</td>\n",
       "      <td>False</td>\n",
       "    </tr>\n",
       "    <tr>\n",
       "      <th>4896</th>\n",
       "      <td>False</td>\n",
       "      <td>False</td>\n",
       "      <td>False</td>\n",
       "      <td>False</td>\n",
       "      <td>False</td>\n",
       "      <td>False</td>\n",
       "      <td>False</td>\n",
       "      <td>False</td>\n",
       "      <td>False</td>\n",
       "      <td>False</td>\n",
       "      <td>False</td>\n",
       "      <td>False</td>\n",
       "    </tr>\n",
       "    <tr>\n",
       "      <th>4897</th>\n",
       "      <td>False</td>\n",
       "      <td>False</td>\n",
       "      <td>False</td>\n",
       "      <td>False</td>\n",
       "      <td>False</td>\n",
       "      <td>False</td>\n",
       "      <td>False</td>\n",
       "      <td>False</td>\n",
       "      <td>False</td>\n",
       "      <td>False</td>\n",
       "      <td>False</td>\n",
       "      <td>False</td>\n",
       "    </tr>\n",
       "  </tbody>\n",
       "</table>\n",
       "<p>3961 rows × 12 columns</p>\n",
       "</div>"
      ],
      "text/plain": [
       "      fixed_acidity  volatile_acidity  citric_acid  residual_sugar  chlorides  \\\n",
       "0             False             False        False           False      False   \n",
       "1             False             False        False           False      False   \n",
       "2             False             False        False           False      False   \n",
       "3             False             False        False           False      False   \n",
       "6             False             False        False           False      False   \n",
       "...             ...               ...          ...             ...        ...   \n",
       "4893          False             False        False           False      False   \n",
       "4894          False             False        False           False      False   \n",
       "4895          False             False        False           False      False   \n",
       "4896          False             False        False           False      False   \n",
       "4897          False             False        False           False      False   \n",
       "\n",
       "      free_sulfur_dioxide  total_sulfur_dioxide  density     pH  sulphates  \\\n",
       "0                   False                 False    False  False      False   \n",
       "1                   False                 False    False  False      False   \n",
       "2                   False                 False    False  False      False   \n",
       "3                   False                 False    False  False      False   \n",
       "6                   False                 False    False  False      False   \n",
       "...                   ...                   ...      ...    ...        ...   \n",
       "4893                False                 False    False  False      False   \n",
       "4894                False                 False    False  False      False   \n",
       "4895                False                 False    False  False      False   \n",
       "4896                False                 False    False  False      False   \n",
       "4897                False                 False    False  False      False   \n",
       "\n",
       "      alcohol  quality  \n",
       "0       False    False  \n",
       "1       False    False  \n",
       "2       False    False  \n",
       "3       False    False  \n",
       "6       False    False  \n",
       "...       ...      ...  \n",
       "4893    False    False  \n",
       "4894    False    False  \n",
       "4895    False    False  \n",
       "4896    False    False  \n",
       "4897    False    False  \n",
       "\n",
       "[3961 rows x 12 columns]"
      ]
     },
     "execution_count": 298,
     "metadata": {},
     "output_type": "execute_result"
    }
   ],
   "source": [
    "#checking for nulls or missing values.\n",
    "df.isnull()"
   ]
  },
  {
   "cell_type": "code",
   "execution_count": 299,
   "metadata": {},
   "outputs": [],
   "source": [
    "#Create a user defined function to convert the interger values of 'quality' column into binary values such as 0 and 1.\n",
    "import numpy as np\n",
    "df['quality'] = np.where(df['quality']>=6, 1, 0)"
   ]
  },
  {
   "cell_type": "code",
   "execution_count": 300,
   "metadata": {},
   "outputs": [
    {
     "data": {
      "text/html": [
       "<div>\n",
       "<style scoped>\n",
       "    .dataframe tbody tr th:only-of-type {\n",
       "        vertical-align: middle;\n",
       "    }\n",
       "\n",
       "    .dataframe tbody tr th {\n",
       "        vertical-align: top;\n",
       "    }\n",
       "\n",
       "    .dataframe thead th {\n",
       "        text-align: right;\n",
       "    }\n",
       "</style>\n",
       "<table border=\"1\" class=\"dataframe\">\n",
       "  <thead>\n",
       "    <tr style=\"text-align: right;\">\n",
       "      <th></th>\n",
       "      <th>fixed_acidity</th>\n",
       "      <th>volatile_acidity</th>\n",
       "      <th>citric_acid</th>\n",
       "      <th>residual_sugar</th>\n",
       "      <th>chlorides</th>\n",
       "      <th>free_sulfur_dioxide</th>\n",
       "      <th>total_sulfur_dioxide</th>\n",
       "      <th>density</th>\n",
       "      <th>pH</th>\n",
       "      <th>sulphates</th>\n",
       "      <th>alcohol</th>\n",
       "      <th>quality</th>\n",
       "    </tr>\n",
       "  </thead>\n",
       "  <tbody>\n",
       "    <tr>\n",
       "      <th>0</th>\n",
       "      <td>7.0</td>\n",
       "      <td>0.27</td>\n",
       "      <td>0.36</td>\n",
       "      <td>20.7</td>\n",
       "      <td>0.045</td>\n",
       "      <td>45.0</td>\n",
       "      <td>170.0</td>\n",
       "      <td>1.00100</td>\n",
       "      <td>3.00</td>\n",
       "      <td>0.45</td>\n",
       "      <td>8.8</td>\n",
       "      <td>1</td>\n",
       "    </tr>\n",
       "    <tr>\n",
       "      <th>1</th>\n",
       "      <td>6.3</td>\n",
       "      <td>0.30</td>\n",
       "      <td>0.34</td>\n",
       "      <td>1.6</td>\n",
       "      <td>0.049</td>\n",
       "      <td>14.0</td>\n",
       "      <td>132.0</td>\n",
       "      <td>0.99400</td>\n",
       "      <td>3.30</td>\n",
       "      <td>0.49</td>\n",
       "      <td>9.5</td>\n",
       "      <td>1</td>\n",
       "    </tr>\n",
       "    <tr>\n",
       "      <th>2</th>\n",
       "      <td>8.1</td>\n",
       "      <td>0.28</td>\n",
       "      <td>0.40</td>\n",
       "      <td>6.9</td>\n",
       "      <td>0.050</td>\n",
       "      <td>30.0</td>\n",
       "      <td>97.0</td>\n",
       "      <td>0.99510</td>\n",
       "      <td>3.26</td>\n",
       "      <td>0.44</td>\n",
       "      <td>10.1</td>\n",
       "      <td>1</td>\n",
       "    </tr>\n",
       "    <tr>\n",
       "      <th>3</th>\n",
       "      <td>7.2</td>\n",
       "      <td>0.23</td>\n",
       "      <td>0.32</td>\n",
       "      <td>8.5</td>\n",
       "      <td>0.058</td>\n",
       "      <td>47.0</td>\n",
       "      <td>186.0</td>\n",
       "      <td>0.99560</td>\n",
       "      <td>3.19</td>\n",
       "      <td>0.40</td>\n",
       "      <td>9.9</td>\n",
       "      <td>1</td>\n",
       "    </tr>\n",
       "    <tr>\n",
       "      <th>6</th>\n",
       "      <td>6.2</td>\n",
       "      <td>0.32</td>\n",
       "      <td>0.16</td>\n",
       "      <td>7.0</td>\n",
       "      <td>0.045</td>\n",
       "      <td>30.0</td>\n",
       "      <td>136.0</td>\n",
       "      <td>0.99490</td>\n",
       "      <td>3.18</td>\n",
       "      <td>0.47</td>\n",
       "      <td>9.6</td>\n",
       "      <td>1</td>\n",
       "    </tr>\n",
       "    <tr>\n",
       "      <th>...</th>\n",
       "      <td>...</td>\n",
       "      <td>...</td>\n",
       "      <td>...</td>\n",
       "      <td>...</td>\n",
       "      <td>...</td>\n",
       "      <td>...</td>\n",
       "      <td>...</td>\n",
       "      <td>...</td>\n",
       "      <td>...</td>\n",
       "      <td>...</td>\n",
       "      <td>...</td>\n",
       "      <td>...</td>\n",
       "    </tr>\n",
       "    <tr>\n",
       "      <th>4893</th>\n",
       "      <td>6.2</td>\n",
       "      <td>0.21</td>\n",
       "      <td>0.29</td>\n",
       "      <td>1.6</td>\n",
       "      <td>0.039</td>\n",
       "      <td>24.0</td>\n",
       "      <td>92.0</td>\n",
       "      <td>0.99114</td>\n",
       "      <td>3.27</td>\n",
       "      <td>0.50</td>\n",
       "      <td>11.2</td>\n",
       "      <td>1</td>\n",
       "    </tr>\n",
       "    <tr>\n",
       "      <th>4894</th>\n",
       "      <td>6.6</td>\n",
       "      <td>0.32</td>\n",
       "      <td>0.36</td>\n",
       "      <td>8.0</td>\n",
       "      <td>0.047</td>\n",
       "      <td>57.0</td>\n",
       "      <td>168.0</td>\n",
       "      <td>0.99490</td>\n",
       "      <td>3.15</td>\n",
       "      <td>0.46</td>\n",
       "      <td>9.6</td>\n",
       "      <td>0</td>\n",
       "    </tr>\n",
       "    <tr>\n",
       "      <th>4895</th>\n",
       "      <td>6.5</td>\n",
       "      <td>0.24</td>\n",
       "      <td>0.19</td>\n",
       "      <td>1.2</td>\n",
       "      <td>0.041</td>\n",
       "      <td>30.0</td>\n",
       "      <td>111.0</td>\n",
       "      <td>0.99254</td>\n",
       "      <td>2.99</td>\n",
       "      <td>0.46</td>\n",
       "      <td>9.4</td>\n",
       "      <td>1</td>\n",
       "    </tr>\n",
       "    <tr>\n",
       "      <th>4896</th>\n",
       "      <td>5.5</td>\n",
       "      <td>0.29</td>\n",
       "      <td>0.30</td>\n",
       "      <td>1.1</td>\n",
       "      <td>0.022</td>\n",
       "      <td>20.0</td>\n",
       "      <td>110.0</td>\n",
       "      <td>0.98869</td>\n",
       "      <td>3.34</td>\n",
       "      <td>0.38</td>\n",
       "      <td>12.8</td>\n",
       "      <td>1</td>\n",
       "    </tr>\n",
       "    <tr>\n",
       "      <th>4897</th>\n",
       "      <td>6.0</td>\n",
       "      <td>0.21</td>\n",
       "      <td>0.38</td>\n",
       "      <td>0.8</td>\n",
       "      <td>0.020</td>\n",
       "      <td>22.0</td>\n",
       "      <td>98.0</td>\n",
       "      <td>0.98941</td>\n",
       "      <td>3.26</td>\n",
       "      <td>0.32</td>\n",
       "      <td>11.8</td>\n",
       "      <td>1</td>\n",
       "    </tr>\n",
       "  </tbody>\n",
       "</table>\n",
       "<p>3961 rows × 12 columns</p>\n",
       "</div>"
      ],
      "text/plain": [
       "      fixed_acidity  volatile_acidity  citric_acid  residual_sugar  chlorides  \\\n",
       "0               7.0              0.27         0.36            20.7      0.045   \n",
       "1               6.3              0.30         0.34             1.6      0.049   \n",
       "2               8.1              0.28         0.40             6.9      0.050   \n",
       "3               7.2              0.23         0.32             8.5      0.058   \n",
       "6               6.2              0.32         0.16             7.0      0.045   \n",
       "...             ...               ...          ...             ...        ...   \n",
       "4893            6.2              0.21         0.29             1.6      0.039   \n",
       "4894            6.6              0.32         0.36             8.0      0.047   \n",
       "4895            6.5              0.24         0.19             1.2      0.041   \n",
       "4896            5.5              0.29         0.30             1.1      0.022   \n",
       "4897            6.0              0.21         0.38             0.8      0.020   \n",
       "\n",
       "      free_sulfur_dioxide  total_sulfur_dioxide  density    pH  sulphates  \\\n",
       "0                    45.0                 170.0  1.00100  3.00       0.45   \n",
       "1                    14.0                 132.0  0.99400  3.30       0.49   \n",
       "2                    30.0                  97.0  0.99510  3.26       0.44   \n",
       "3                    47.0                 186.0  0.99560  3.19       0.40   \n",
       "6                    30.0                 136.0  0.99490  3.18       0.47   \n",
       "...                   ...                   ...      ...   ...        ...   \n",
       "4893                 24.0                  92.0  0.99114  3.27       0.50   \n",
       "4894                 57.0                 168.0  0.99490  3.15       0.46   \n",
       "4895                 30.0                 111.0  0.99254  2.99       0.46   \n",
       "4896                 20.0                 110.0  0.98869  3.34       0.38   \n",
       "4897                 22.0                  98.0  0.98941  3.26       0.32   \n",
       "\n",
       "      alcohol  quality  \n",
       "0         8.8        1  \n",
       "1         9.5        1  \n",
       "2        10.1        1  \n",
       "3         9.9        1  \n",
       "6         9.6        1  \n",
       "...       ...      ...  \n",
       "4893     11.2        1  \n",
       "4894      9.6        0  \n",
       "4895      9.4        1  \n",
       "4896     12.8        1  \n",
       "4897     11.8        1  \n",
       "\n",
       "[3961 rows x 12 columns]"
      ]
     },
     "execution_count": 300,
     "metadata": {},
     "output_type": "execute_result"
    }
   ],
   "source": [
    "df"
   ]
  },
  {
   "cell_type": "code",
   "execution_count": 301,
   "metadata": {},
   "outputs": [],
   "source": [
    "#Seperating X and y values and storing in different variables.\n",
    "X = df[['fixed_acidity', 'volatile_acidity', 'citric_acid', 'residual_sugar',\n",
    "       'chlorides', 'free_sulfur_dioxide', 'total_sulfur_dioxide', 'density',\n",
    "       'pH', 'sulphates', 'alcohol']]\n",
    "y=df['quality']"
   ]
  },
  {
   "cell_type": "code",
   "execution_count": 302,
   "metadata": {},
   "outputs": [
    {
     "data": {
      "text/plain": [
       "array([[ 0.18535197, -0.10188873,  0.20965146, ..., -1.28992816,\n",
       "        -0.35548818, -1.47039574],\n",
       "       [-0.6222624 ,  0.18817926,  0.04629365, ...,  0.68992438,\n",
       "        -0.00309159, -0.89517431],\n",
       "       [ 1.45446025, -0.0051994 ,  0.53636707, ...,  0.42594404,\n",
       "        -0.44358733, -0.40212736],\n",
       "       ...,\n",
       "       [-0.39151544, -0.39195672, -1.17888992, ..., -1.35592325,\n",
       "        -0.26738904, -0.9773488 ],\n",
       "       [-1.54525024,  0.09148993, -0.28042197, ...,  0.95390472,\n",
       "        -0.97218223,  1.81658387],\n",
       "       [-0.96838284, -0.6820247 ,  0.37300927, ...,  0.42594404,\n",
       "        -1.50077712,  0.99483897]])"
      ]
     },
     "execution_count": 302,
     "metadata": {},
     "output_type": "execute_result"
    }
   ],
   "source": [
    "#Standardize the feature-vector values.\n",
    "from sklearn.preprocessing import StandardScaler\n",
    "sclr=StandardScaler()\n",
    "X = sclr.fit_transform(X)\n",
    "X"
   ]
  },
  {
   "cell_type": "code",
   "execution_count": 303,
   "metadata": {},
   "outputs": [
    {
     "name": "stdout",
     "output_type": "stream",
     "text": [
      "The number of rows and columns in the training dataset (X) post split is: (2772, 11)\n",
      "The number of rows and columns in the training dataset (y) post split is: (2772,)\n",
      "The number of rows and columns in the test dataset post (X) split is: (1189, 11)\n",
      "The number of rows and columns in the test dataset post (y) split is: (1189,)\n"
     ]
    }
   ],
   "source": [
    "#split the data into training and test data.\n",
    "from sklearn.model_selection import train_test_split\n",
    "X_train, X_test, y_train, y_test = train_test_split(X, y, test_size=0.3,random_state=1)\n",
    "print(\"The number of rows and columns in the training dataset (X) post split is:\",X_train.shape)\n",
    "print(\"The number of rows and columns in the training dataset (y) post split is:\",y_train.shape)\n",
    "print(\"The number of rows and columns in the test dataset post (X) split is:\",X_test.shape)\n",
    "print(\"The number of rows and columns in the test dataset post (y) split is:\",y_test.shape)"
   ]
  },
  {
   "cell_type": "markdown",
   "metadata": {},
   "source": [
    "# White-wine Regression "
   ]
  },
  {
   "cell_type": "code",
   "execution_count": 304,
   "metadata": {},
   "outputs": [
    {
     "data": {
      "text/plain": [
       "DecisionTreeRegressor(ccp_alpha=0.0, criterion='mse', max_depth=None,\n",
       "                      max_features=None, max_leaf_nodes=None,\n",
       "                      min_impurity_decrease=0.0, min_impurity_split=None,\n",
       "                      min_samples_leaf=1, min_samples_split=2,\n",
       "                      min_weight_fraction_leaf=0.0, presort='deprecated',\n",
       "                      random_state=None, splitter='best')"
      ]
     },
     "execution_count": 304,
     "metadata": {},
     "output_type": "execute_result"
    }
   ],
   "source": [
    "#create a decision tree regression model using the training dataset.\n",
    "from sklearn import tree\n",
    "decisionTreeRegressor = tree.DecisionTreeRegressor()\n",
    "DTRegModel = decisionTreeRegressor.fit(X_train, y_train)\n",
    "DTRegModel"
   ]
  },
  {
   "cell_type": "code",
   "execution_count": 305,
   "metadata": {},
   "outputs": [
    {
     "data": {
      "text/plain": [
       "array([0., 0., 0., ..., 0., 0., 0.])"
      ]
     },
     "execution_count": 305,
     "metadata": {},
     "output_type": "execute_result"
    }
   ],
   "source": [
    "#Test the model with the test dataset for predictions (without the labels).\n",
    "DTReg_predictions=DTRegModel.predict(X_test)\n",
    "DTReg_predictions"
   ]
  },
  {
   "cell_type": "code",
   "execution_count": 306,
   "metadata": {},
   "outputs": [],
   "source": [
    "#hyper parameter tuning for a better accuracy of our decision tree model.\n",
    "parameter_dist={'criterion':['mse','mae'], \n",
    "                'max_depth':[1,2,3,4,5,6,7,None]}"
   ]
  },
  {
   "cell_type": "code",
   "execution_count": 307,
   "metadata": {},
   "outputs": [
    {
     "data": {
      "text/plain": [
       "GridSearchCV(cv=10, error_score=nan,\n",
       "             estimator=DecisionTreeRegressor(ccp_alpha=0.0, criterion='mse',\n",
       "                                             max_depth=None, max_features=None,\n",
       "                                             max_leaf_nodes=None,\n",
       "                                             min_impurity_decrease=0.0,\n",
       "                                             min_impurity_split=None,\n",
       "                                             min_samples_leaf=1,\n",
       "                                             min_samples_split=2,\n",
       "                                             min_weight_fraction_leaf=0.0,\n",
       "                                             presort='deprecated',\n",
       "                                             random_state=None,\n",
       "                                             splitter='best'),\n",
       "             iid='deprecated', n_jobs=-1,\n",
       "             param_grid={'criterion': ['mse', 'mae'],\n",
       "                         'max_depth': [1, 2, 3, 4, 5, 6, 7, None]},\n",
       "             pre_dispatch='2*n_jobs', refit=True, return_train_score=False,\n",
       "             scoring=None, verbose=0)"
      ]
     },
     "execution_count": 307,
     "metadata": {},
     "output_type": "execute_result"
    }
   ],
   "source": [
    "#one of the method used for fine tuning the algorithm.\n",
    "from sklearn.model_selection import GridSearchCV\n",
    "grid=GridSearchCV(decisionTreeRegressor,param_grid=parameter_dist,cv=10,n_jobs=-1)\n",
    "grid.fit(X_train,y_train)"
   ]
  },
  {
   "cell_type": "code",
   "execution_count": 308,
   "metadata": {},
   "outputs": [
    {
     "data": {
      "text/plain": [
       "DecisionTreeRegressor(ccp_alpha=0.0, criterion='mse', max_depth=3,\n",
       "                      max_features=None, max_leaf_nodes=None,\n",
       "                      min_impurity_decrease=0.0, min_impurity_split=None,\n",
       "                      min_samples_leaf=1, min_samples_split=2,\n",
       "                      min_weight_fraction_leaf=0.0, presort='deprecated',\n",
       "                      random_state=None, splitter='best')"
      ]
     },
     "execution_count": 308,
     "metadata": {},
     "output_type": "execute_result"
    }
   ],
   "source": [
    "#determine best parameter values of a decision tree.\n",
    "grid.best_estimator_"
   ]
  },
  {
   "cell_type": "code",
   "execution_count": 309,
   "metadata": {},
   "outputs": [
    {
     "name": "stdout",
     "output_type": "stream",
     "text": [
      "The score is: 17.97%\n"
     ]
    }
   ],
   "source": [
    "#determine the best accuracy score.\n",
    "print(f'The score is: {round((grid.best_score_*100),2)}%')"
   ]
  },
  {
   "cell_type": "code",
   "execution_count": 310,
   "metadata": {},
   "outputs": [
    {
     "data": {
      "text/plain": [
       "{'criterion': 'mse', 'max_depth': 3}"
      ]
     },
     "execution_count": 310,
     "metadata": {},
     "output_type": "execute_result"
    }
   ],
   "source": [
    "#determine the best parameters for fine tuning.\n",
    "grid.best_params_"
   ]
  },
  {
   "cell_type": "code",
   "execution_count": 311,
   "metadata": {},
   "outputs": [
    {
     "data": {
      "text/plain": [
       "DecisionTreeRegressor(ccp_alpha=0.0, criterion='mse', max_depth=3,\n",
       "                      max_features=None, max_leaf_nodes=None,\n",
       "                      min_impurity_decrease=0.0, min_impurity_split=None,\n",
       "                      min_samples_leaf=1, min_samples_split=2,\n",
       "                      min_weight_fraction_leaf=0.0, presort='deprecated',\n",
       "                      random_state=None, splitter='best')"
      ]
     },
     "execution_count": 311,
     "metadata": {},
     "output_type": "execute_result"
    }
   ],
   "source": [
    "#hyper tuning the parameters and training the model.\n",
    "decisionTreeRegressor = tree.DecisionTreeRegressor(criterion= 'mse', max_depth= 3)\n",
    "DTRegModel = decisionTreeRegressor.fit(X_train, y_train)\n",
    "DTRegModel"
   ]
  },
  {
   "cell_type": "code",
   "execution_count": 312,
   "metadata": {},
   "outputs": [
    {
     "data": {
      "text/plain": [
       "array([0.56108597, 0.56108597, 0.83551674, ..., 0.56108597, 0.78021978,\n",
       "       0.33992806])"
      ]
     },
     "execution_count": 312,
     "metadata": {},
     "output_type": "execute_result"
    }
   ],
   "source": [
    "#Test the model with the test dataset for predictions (without the labels).\n",
    "DTReg_predictions=DTRegModel.predict(X_test)\n",
    "DTReg_predictions"
   ]
  },
  {
   "cell_type": "code",
   "execution_count": 313,
   "metadata": {},
   "outputs": [
    {
     "name": "stdout",
     "output_type": "stream",
     "text": [
      "The mean absolute error of decision tree regression for white-wine quality prediction is 34.47%\n"
     ]
    }
   ],
   "source": [
    "#Check mean absolute error value.\n",
    "from sklearn.metrics import mean_absolute_error\n",
    "MAE=mean_absolute_error(y_test, DTReg_predictions)\n",
    "print(f'The mean absolute error of decision tree regression for white-wine quality prediction is {round((MAE*100),2)}%')\n"
   ]
  },
  {
   "cell_type": "code",
   "execution_count": 314,
   "metadata": {},
   "outputs": [
    {
     "name": "stdout",
     "output_type": "stream",
     "text": [
      "The mean squared error of decision tree regression for white-wine quality prediction is 41.83%\n"
     ]
    }
   ],
   "source": [
    "#check the mean squared error value.\n",
    "from sklearn.metrics import mean_squared_error\n",
    "MSE=mean_squared_error(y_test, DTReg_predictions,squared=False)\n",
    "print(f'The mean squared error of decision tree regression for white-wine quality prediction is {round((MSE*100),2)}%')\n"
   ]
  },
  {
   "cell_type": "code",
   "execution_count": 315,
   "metadata": {},
   "outputs": [
    {
     "name": "stdout",
     "output_type": "stream",
     "text": [
      "The root mean squared error of decision tree regression for white-wine quality prediction is 17.5%\n"
     ]
    }
   ],
   "source": [
    "#Check the root mean squared error (RMSE) value.\n",
    "from sklearn.metrics import mean_squared_error\n",
    "RMSE=mean_squared_error(y_test, DTReg_predictions,squared=True)\n",
    "print(f'The root mean squared error of decision tree regression for white-wine quality prediction is {round((RMSE*100),2)}%')"
   ]
  },
  {
   "cell_type": "code",
   "execution_count": 316,
   "metadata": {},
   "outputs": [
    {
     "name": "stdout",
     "output_type": "stream",
     "text": [
      "The regression score function value of decision tree regression for white-wine quality prediction is 22.47%\n"
     ]
    }
   ],
   "source": [
    "#Check the regression score function value (r2-score).\n",
    "from sklearn.metrics import r2_score\n",
    "r2_score=r2_score(y_test, DTReg_predictions)\n",
    "print(f'The regression score function value of decision tree regression for white-wine quality prediction is {round((r2_score*100),2)}%')"
   ]
  },
  {
   "cell_type": "code",
   "execution_count": 317,
   "metadata": {},
   "outputs": [
    {
     "data": {
      "text/plain": [
       "[Text(418.5, 475.65000000000003, 'X[10] <= 0.132\\nmse = 0.224\\nsamples = 2772\\nvalue = 0.661'),\n",
       " Text(209.25, 339.75, 'X[1] <= 0.067\\nmse = 0.249\\nsamples = 1619\\nvalue = 0.523'),\n",
       " Text(104.625, 203.85000000000002, 'X[1] <= -0.706\\nmse = 0.231\\nsamples = 1027\\nvalue = 0.639'),\n",
       " Text(52.3125, 67.94999999999999, 'mse = 0.171\\nsamples = 364\\nvalue = 0.78'),\n",
       " Text(156.9375, 67.94999999999999, 'mse = 0.246\\nsamples = 663\\nvalue = 0.561'),\n",
       " Text(313.875, 203.85000000000002, 'X[6] <= -1.129\\nmse = 0.219\\nsamples = 592\\nvalue = 0.323'),\n",
       " Text(261.5625, 67.94999999999999, 'mse = 0.052\\nsamples = 36\\nvalue = 0.056'),\n",
       " Text(366.1875, 67.94999999999999, 'mse = 0.224\\nsamples = 556\\nvalue = 0.34'),\n",
       " Text(627.75, 339.75, 'X[5] <= -1.359\\nmse = 0.124\\nsamples = 1153\\nvalue = 0.855'),\n",
       " Text(523.125, 203.85000000000002, 'X[10] <= 0.954\\nmse = 0.25\\nsamples = 77\\nvalue = 0.481'),\n",
       " Text(470.8125, 67.94999999999999, 'mse = 0.204\\nsamples = 42\\nvalue = 0.286'),\n",
       " Text(575.4375, 67.94999999999999, 'mse = 0.204\\nsamples = 35\\nvalue = 0.714'),\n",
       " Text(732.375, 203.85000000000002, 'X[10] <= 1.18\\nmse = 0.104\\nsamples = 1076\\nvalue = 0.882'),\n",
       " Text(680.0625, 67.94999999999999, 'mse = 0.137\\nsamples = 687\\nvalue = 0.836'),\n",
       " Text(784.6875, 67.94999999999999, 'mse = 0.035\\nsamples = 389\\nvalue = 0.964')]"
      ]
     },
     "execution_count": 317,
     "metadata": {},
     "output_type": "execute_result"
    },
    {
     "data": {
      "image/png": "[encoded data removed]",
      "text/plain": [
       "<Figure size 1080x720 with 1 Axes>"
      ]
     },
     "metadata": {
      "needs_background": "light"
     },
     "output_type": "display_data"
    }
   ],
   "source": [
    "#plot the decision tree for white-wine dataset\n",
    "from matplotlib import pyplot as plt\n",
    "plt.figure(figsize=(15,10))\n",
    "tree.plot_tree(decisionTreeRegressor,filled=True)"
   ]
  },
  {
   "cell_type": "code",
   "execution_count": 318,
   "metadata": {},
   "outputs": [
    {
     "name": "stdout",
     "output_type": "stream",
     "text": [
      "|--- feature_10 <= 0.13\n",
      "|   |--- feature_1 <= 0.07\n",
      "|   |   |--- feature_1 <= -0.71\n",
      "|   |   |   |--- value: [0.78]\n",
      "|   |   |--- feature_1 >  -0.71\n",
      "|   |   |   |--- value: [0.56]\n",
      "|   |--- feature_1 >  0.07\n",
      "|   |   |--- feature_6 <= -1.13\n",
      "|   |   |   |--- value: [0.06]\n",
      "|   |   |--- feature_6 >  -1.13\n",
      "|   |   |   |--- value: [0.34]\n",
      "|--- feature_10 >  0.13\n",
      "|   |--- feature_5 <= -1.36\n",
      "|   |   |--- feature_10 <= 0.95\n",
      "|   |   |   |--- value: [0.29]\n",
      "|   |   |--- feature_10 >  0.95\n",
      "|   |   |   |--- value: [0.71]\n",
      "|   |--- feature_5 >  -1.36\n",
      "|   |   |--- feature_10 <= 1.18\n",
      "|   |   |   |--- value: [0.84]\n",
      "|   |   |--- feature_10 >  1.18\n",
      "|   |   |   |--- value: [0.96]\n",
      "\n"
     ]
    }
   ],
   "source": [
    "#Division of tree shown in the form of text.\n",
    "print(tree.export_text(decisionTreeRegressor))"
   ]
  },
  {
   "cell_type": "markdown",
   "metadata": {},
   "source": [
    "## Using the concept of serialization or pickling to store the model in a reusable file"
   ]
  },
  {
   "cell_type": "code",
   "execution_count": 319,
   "metadata": {},
   "outputs": [],
   "source": [
    "#import pickle function and dump the model.\n",
    "import pickle\n",
    "with open('model_pickle_DT_WWReg','wb') as f:\n",
    "    pickle.dump(DTRegModel,f)"
   ]
  },
  {
   "cell_type": "code",
   "execution_count": 320,
   "metadata": {},
   "outputs": [],
   "source": [
    "#Read the pickled file.\n",
    "with open('model_pickle_DT_WWReg','rb') as f:\n",
    "    mp=pickle.load(f)"
   ]
  },
  {
   "cell_type": "code",
   "execution_count": 321,
   "metadata": {},
   "outputs": [
    {
     "data": {
      "text/plain": [
       "array([0.56108597, 0.56108597, 0.83551674, ..., 0.56108597, 0.78021978,\n",
       "       0.33992806])"
      ]
     },
     "execution_count": 321,
     "metadata": {},
     "output_type": "execute_result"
    }
   ],
   "source": [
    "#Test the predictions.\n",
    "pred=mp.predict(X_test)\n",
    "pred"
   ]
  },
  {
   "cell_type": "markdown",
   "metadata": {},
   "source": [
    "# White-wine Classification "
   ]
  },
  {
   "cell_type": "code",
   "execution_count": 322,
   "metadata": {},
   "outputs": [
    {
     "data": {
      "text/plain": [
       "DecisionTreeClassifier(ccp_alpha=0.0, class_weight=None, criterion='gini',\n",
       "                       max_depth=None, max_features=None, max_leaf_nodes=None,\n",
       "                       min_impurity_decrease=0.0, min_impurity_split=None,\n",
       "                       min_samples_leaf=1, min_samples_split=2,\n",
       "                       min_weight_fraction_leaf=0.0, presort='deprecated',\n",
       "                       random_state=None, splitter='best')"
      ]
     },
     "execution_count": 322,
     "metadata": {},
     "output_type": "execute_result"
    }
   ],
   "source": [
    "#create a decision tree classification model using the training dataset.\n",
    "decisionTreeClassifier=tree.DecisionTreeClassifier()\n",
    "DTClsModel=decisionTreeClassifier.fit(X_train,y_train)\n",
    "DTClsModel"
   ]
  },
  {
   "cell_type": "code",
   "execution_count": 323,
   "metadata": {},
   "outputs": [
    {
     "data": {
      "text/plain": [
       "array([0, 0, 0, ..., 0, 0, 0])"
      ]
     },
     "execution_count": 323,
     "metadata": {},
     "output_type": "execute_result"
    }
   ],
   "source": [
    "#Test the model with the test dataset for predictions(without the labels).\n",
    "DTClass_predictions=DTClsModel.predict(X_test)\n",
    "DTClass_predictions"
   ]
  },
  {
   "cell_type": "code",
   "execution_count": 324,
   "metadata": {},
   "outputs": [
    {
     "data": {
      "text/plain": [
       "array([[1., 0.],\n",
       "       [1., 0.],\n",
       "       [1., 0.],\n",
       "       ...,\n",
       "       [1., 0.],\n",
       "       [1., 0.],\n",
       "       [1., 0.]])"
      ]
     },
     "execution_count": 324,
     "metadata": {},
     "output_type": "execute_result"
    }
   ],
   "source": [
    "#check the probability of  predicted labels.\n",
    "DTClsModel.predict_proba(X_test)"
   ]
  },
  {
   "cell_type": "code",
   "execution_count": 325,
   "metadata": {},
   "outputs": [
    {
     "name": "stdout",
     "output_type": "stream",
     "text": [
      "The accuracy  of decision tree classification for white-wine quality prediction is 67.96%\n"
     ]
    }
   ],
   "source": [
    "#Check the accuracy of decision tree classifier before fine tuning.\n",
    "from sklearn.metrics import accuracy_score\n",
    "accuracy_score=accuracy_score(y_test, DTClass_predictions)\n",
    "print(f'The accuracy  of decision tree classification for white-wine quality prediction is {round((accuracy_score*100),2)}%')\n"
   ]
  },
  {
   "cell_type": "code",
   "execution_count": 326,
   "metadata": {},
   "outputs": [],
   "source": [
    "#hyper parameter tuning for a better accuracy of our decision tree model.\n",
    "parameter_dist={'criterion':['gini','entropy'], \n",
    "                'max_depth':[1,2,3,4,5,6,7,None]}\n"
   ]
  },
  {
   "cell_type": "code",
   "execution_count": 327,
   "metadata": {},
   "outputs": [
    {
     "data": {
      "text/plain": [
       "GridSearchCV(cv=10, error_score=nan,\n",
       "             estimator=DecisionTreeClassifier(ccp_alpha=0.0, class_weight=None,\n",
       "                                              criterion='gini', max_depth=None,\n",
       "                                              max_features=None,\n",
       "                                              max_leaf_nodes=None,\n",
       "                                              min_impurity_decrease=0.0,\n",
       "                                              min_impurity_split=None,\n",
       "                                              min_samples_leaf=1,\n",
       "                                              min_samples_split=2,\n",
       "                                              min_weight_fraction_leaf=0.0,\n",
       "                                              presort='deprecated',\n",
       "                                              random_state=None,\n",
       "                                              splitter='best'),\n",
       "             iid='deprecated', n_jobs=-1,\n",
       "             param_grid={'criterion': ['gini', 'entropy'],\n",
       "                         'max_depth': [1, 2, 3, 4, 5, 6, 7, None]},\n",
       "             pre_dispatch='2*n_jobs', refit=True, return_train_score=False,\n",
       "             scoring=None, verbose=0)"
      ]
     },
     "execution_count": 327,
     "metadata": {},
     "output_type": "execute_result"
    }
   ],
   "source": [
    "#one of the method use for fine tuning the algorithm.\n",
    "from sklearn.model_selection import GridSearchCV\n",
    "grid=GridSearchCV(decisionTreeClassifier,param_grid=parameter_dist,cv=10,n_jobs=-1)\n",
    "grid.fit(X_train,y_train)\n"
   ]
  },
  {
   "cell_type": "code",
   "execution_count": 328,
   "metadata": {},
   "outputs": [
    {
     "data": {
      "text/plain": [
       "DecisionTreeClassifier(ccp_alpha=0.0, class_weight=None, criterion='entropy',\n",
       "                       max_depth=3, max_features=None, max_leaf_nodes=None,\n",
       "                       min_impurity_decrease=0.0, min_impurity_split=None,\n",
       "                       min_samples_leaf=1, min_samples_split=2,\n",
       "                       min_weight_fraction_leaf=0.0, presort='deprecated',\n",
       "                       random_state=None, splitter='best')"
      ]
     },
     "execution_count": 328,
     "metadata": {},
     "output_type": "execute_result"
    }
   ],
   "source": [
    "#determine best parameter values of a decision tree.\n",
    "grid.best_estimator_\n"
   ]
  },
  {
   "cell_type": "code",
   "execution_count": 329,
   "metadata": {},
   "outputs": [
    {
     "name": "stdout",
     "output_type": "stream",
     "text": [
      "The score is: 73.49%\n"
     ]
    }
   ],
   "source": [
    "#determine the best accuracy score.\n",
    "print(f'The score is: {round((grid.best_score_*100),2)}%')"
   ]
  },
  {
   "cell_type": "code",
   "execution_count": 330,
   "metadata": {},
   "outputs": [
    {
     "data": {
      "text/plain": [
       "{'criterion': 'entropy', 'max_depth': 3}"
      ]
     },
     "execution_count": 330,
     "metadata": {},
     "output_type": "execute_result"
    }
   ],
   "source": [
    "#determine the best parameters for fine tuning.\n",
    "grid.best_params_\n"
   ]
  },
  {
   "cell_type": "code",
   "execution_count": 331,
   "metadata": {},
   "outputs": [
    {
     "data": {
      "text/plain": [
       "DecisionTreeClassifier(ccp_alpha=0.0, class_weight=None, criterion='entropy',\n",
       "                       max_depth=3, max_features=None, max_leaf_nodes=None,\n",
       "                       min_impurity_decrease=0.0, min_impurity_split=None,\n",
       "                       min_samples_leaf=1, min_samples_split=2,\n",
       "                       min_weight_fraction_leaf=0.0, presort='deprecated',\n",
       "                       random_state=None, splitter='best')"
      ]
     },
     "execution_count": 331,
     "metadata": {},
     "output_type": "execute_result"
    }
   ],
   "source": [
    "#hyper tuning the parameters and training the model.\n",
    "decisionTreeClassifier = tree.DecisionTreeClassifier(criterion= 'entropy', max_depth= 3)\n",
    "DTClsModel = decisionTreeClassifier.fit(X_train, y_train)\n",
    "DTClsModel\n"
   ]
  },
  {
   "cell_type": "code",
   "execution_count": 332,
   "metadata": {},
   "outputs": [
    {
     "data": {
      "text/plain": [
       "array([1, 1, 1, ..., 1, 1, 0])"
      ]
     },
     "execution_count": 332,
     "metadata": {},
     "output_type": "execute_result"
    }
   ],
   "source": [
    "#Test the model with the test dataset for predictions (without the labels).\n",
    "DTClass_predictions=DTClsModel.predict(X_test)\n",
    "DTClass_predictions\n"
   ]
  },
  {
   "cell_type": "code",
   "execution_count": 333,
   "metadata": {},
   "outputs": [
    {
     "name": "stdout",
     "output_type": "stream",
     "text": [
      "The probability is : [[0.43891403 0.56108597]\n",
      " [0.43891403 0.56108597]\n",
      " [0.16448326 0.83551674]\n",
      " [0.21978022 0.78021978]\n",
      " [0.43891403 0.56108597]]\n"
     ]
    }
   ],
   "source": [
    "#check the probability of top 5 predicted labels.\n",
    "prob=DTClsModel.predict_proba(X_test)\n",
    "print(\"The probability is :\",prob[:5,:])"
   ]
  },
  {
   "cell_type": "code",
   "execution_count": 334,
   "metadata": {},
   "outputs": [
    {
     "name": "stdout",
     "output_type": "stream",
     "text": [
      "The balanced score accuracy  of decision tree regression for white-wine quality prediction is 68.14%\n"
     ]
    }
   ],
   "source": [
    "#Check the balanced accuracy score to determine the imbalanced data prediction.\n",
    "from sklearn.metrics import balanced_accuracy_score\n",
    "balanced_accuracy_score=balanced_accuracy_score(y_test, DTClass_predictions)\n",
    "print(f'The balanced score accuracy  of decision tree regression for white-wine quality prediction is {round((balanced_accuracy_score*100),2)}%')"
   ]
  },
  {
   "cell_type": "code",
   "execution_count": 335,
   "metadata": {},
   "outputs": [
    {
     "name": "stdout",
     "output_type": "stream",
     "text": [
      "The accuracy  of decision tree classification for white-wine quality prediction is 73.84%\n"
     ]
    }
   ],
   "source": [
    "#Check the accuracy of decision tree classifier post fine tuning.\n",
    "from sklearn.metrics import accuracy_score\n",
    "accuracy_score=accuracy_score(y_test, DTClass_predictions)\n",
    "print(f'The accuracy  of decision tree classification for white-wine quality prediction is {round((accuracy_score*100),2)}%')\n"
   ]
  },
  {
   "cell_type": "code",
   "execution_count": 336,
   "metadata": {},
   "outputs": [
    {
     "name": "stdout",
     "output_type": "stream",
     "text": [
      "The precision score of decision tree classification for white-wine quality prediction is 76.68%\n"
     ]
    }
   ],
   "source": [
    "#Check the precision score of decision tree classifier.\n",
    "from sklearn.metrics import precision_score\n",
    "precision_score=precision_score(y_test, DTClass_predictions)\n",
    "print(f'The precision score of decision tree classification for white-wine quality prediction is {round((precision_score*100),2)}%')"
   ]
  },
  {
   "cell_type": "code",
   "execution_count": 337,
   "metadata": {},
   "outputs": [
    {
     "name": "stdout",
     "output_type": "stream",
     "text": [
      "The recall score  of decision tree classification for white-wine quality prediction is 86.41%\n"
     ]
    }
   ],
   "source": [
    "#Check the recall score of decision tree classifier.\n",
    "from sklearn.metrics import recall_score\n",
    "recall_score=recall_score(y_test, DTClass_predictions)\n",
    "print(f'The recall score  of decision tree classification for white-wine quality prediction is {round((recall_score*100),2)}%')"
   ]
  },
  {
   "cell_type": "code",
   "execution_count": 338,
   "metadata": {},
   "outputs": [
    {
     "name": "stdout",
     "output_type": "stream",
     "text": [
      "The f1-score of decision tree classification for white-wine quality prediction is 81.25%\n"
     ]
    }
   ],
   "source": [
    "#Check the F1-score of decision tree classifier.\n",
    "from sklearn.metrics import f1_score\n",
    "f1_score=f1_score(y_test, DTClass_predictions)\n",
    "print(f'The f1-score of decision tree classification for white-wine quality prediction is {round((f1_score*100),2)}%')"
   ]
  },
  {
   "cell_type": "code",
   "execution_count": 339,
   "metadata": {},
   "outputs": [
    {
     "data": {
      "image/png": "[encoded data removed]",
      "text/plain": [
       "<Figure size 432x288 with 1 Axes>"
      ]
     },
     "metadata": {
      "needs_background": "light"
     },
     "output_type": "display_data"
    }
   ],
   "source": [
    "# Plot the ROC curve.\n",
    "import scikitplot as skplt\n",
    "skplt.metrics.plot_roc(y_test, prob, plot_micro=False)\n",
    "plt.show()"
   ]
  },
  {
   "cell_type": "code",
   "execution_count": 340,
   "metadata": {},
   "outputs": [
    {
     "data": {
      "image/png": "[encoded data removed]",
      "text/plain": [
       "<Figure size 432x288 with 1 Axes>"
      ]
     },
     "metadata": {
      "needs_background": "light"
     },
     "output_type": "display_data"
    }
   ],
   "source": [
    "# Plot the Cumulative Gains curve curve.\n",
    "skplt.metrics.plot_cumulative_gain(y_test, prob)\n",
    "plt.show()"
   ]
  },
  {
   "cell_type": "code",
   "execution_count": 341,
   "metadata": {},
   "outputs": [
    {
     "name": "stdout",
     "output_type": "stream",
     "text": [
      "The Average precision-recall score is 75.17%\n"
     ]
    }
   ],
   "source": [
    "# Plot the precision-recall curve.\n",
    "from sklearn.metrics import average_precision_score\n",
    "average_precision = average_precision_score(y_test, DTClass_predictions)\n",
    "print('The Average precision-recall score is {0:0.2f}%'.format(((average_precision*100))))"
   ]
  },
  {
   "cell_type": "code",
   "execution_count": 342,
   "metadata": {},
   "outputs": [
    {
     "data": {
      "text/plain": [
       "Text(0.5, 1.0, 'The Precision-Recall curve: AP=75.17%')"
      ]
     },
     "execution_count": 342,
     "metadata": {},
     "output_type": "execute_result"
    },
    {
     "data": {
      "image/png": "[encoded data removed]",
      "text/plain": [
       "<Figure size 432x288 with 1 Axes>"
      ]
     },
     "metadata": {
      "needs_background": "light"
     },
     "output_type": "display_data"
    }
   ],
   "source": [
    "from sklearn.metrics import precision_recall_curve\n",
    "from sklearn.metrics import plot_precision_recall_curve\n",
    "display = plot_precision_recall_curve(DTClsModel, X_test, y_test)\n",
    "display.ax_.set_title('The Precision-Recall curve: ''AP={0:0.2f}%'.format(((average_precision*100))))"
   ]
  },
  {
   "cell_type": "code",
   "execution_count": 343,
   "metadata": {},
   "outputs": [
    {
     "name": "stdout",
     "output_type": "stream",
     "text": [
      "The Receiver Operating Characteristic Curve (ROC AUC) score is 68.14%\n"
     ]
    }
   ],
   "source": [
    "# determine Receiver Operating Characteristic Curve (ROC AUC) score.\n",
    "from sklearn.metrics import roc_auc_score\n",
    "roc_auc_score = roc_auc_score(y_test, DTClass_predictions)\n",
    "print('The Receiver Operating Characteristic Curve (ROC AUC) score is {0:0.2f}%'.format(((roc_auc_score*100))))"
   ]
  },
  {
   "cell_type": "code",
   "execution_count": 344,
   "metadata": {},
   "outputs": [
    {
     "name": "stdout",
     "output_type": "stream",
     "text": [
      "              precision    recall  f1-score   support\n",
      "\n",
      "           0       0.66      0.50      0.57       409\n",
      "           1       0.77      0.86      0.81       780\n",
      "\n",
      "    accuracy                           0.74      1189\n",
      "   macro avg       0.71      0.68      0.69      1189\n",
      "weighted avg       0.73      0.74      0.73      1189\n",
      "\n"
     ]
    }
   ],
   "source": [
    "#determine the classifcation report.\n",
    "from sklearn.metrics import classification_report\n",
    "print(classification_report(y_test, DTClass_predictions))"
   ]
  },
  {
   "cell_type": "code",
   "execution_count": 345,
   "metadata": {},
   "outputs": [
    {
     "data": {
      "text/plain": [
       "array([[204, 205],\n",
       "       [106, 674]], dtype=int64)"
      ]
     },
     "execution_count": 345,
     "metadata": {},
     "output_type": "execute_result"
    }
   ],
   "source": [
    "#build the confusion matrix.\n",
    "from sklearn.metrics import confusion_matrix\n",
    "from sklearn.metrics import plot_confusion_matrix\n",
    "confusion_matrix(y_test, DTClass_predictions)"
   ]
  },
  {
   "cell_type": "code",
   "execution_count": 346,
   "metadata": {},
   "outputs": [
    {
     "name": "stdout",
     "output_type": "stream",
     "text": [
      "[[204 205]\n",
      " [106 674]]\n"
     ]
    },
    {
     "data": {
      "image/png": "[encoded data removed]",
      "text/plain": [
       "<Figure size 432x288 with 2 Axes>"
      ]
     },
     "metadata": {
      "needs_background": "light"
     },
     "output_type": "display_data"
    }
   ],
   "source": [
    "#plot the confusion metrics.\n",
    "display = plot_confusion_matrix(DTClsModel, X_test, y_test,display_labels=y,cmap=plt.cm.Greens)\n",
    "display.ax_.set_title('Confusion matrix')\n",
    "print(display.confusion_matrix)\n"
   ]
  },
  {
   "cell_type": "code",
   "execution_count": 347,
   "metadata": {},
   "outputs": [
    {
     "data": {
      "text/plain": [
       "[Text(418.5, 475.65000000000003, 'X[10] <= 0.132\\nentropy = 0.924\\nsamples = 2772\\nvalue = [939, 1833]'),\n",
       " Text(209.25, 339.75, 'X[1] <= 0.067\\nentropy = 0.998\\nsamples = 1619\\nvalue = [772, 847]'),\n",
       " Text(104.625, 203.85000000000002, 'X[1] <= -0.706\\nentropy = 0.944\\nsamples = 1027\\nvalue = [371, 656]'),\n",
       " Text(52.3125, 67.94999999999999, 'entropy = 0.76\\nsamples = 364\\nvalue = [80, 284]'),\n",
       " Text(156.9375, 67.94999999999999, 'entropy = 0.989\\nsamples = 663\\nvalue = [291, 372]'),\n",
       " Text(313.875, 203.85000000000002, 'X[6] <= -1.129\\nentropy = 0.907\\nsamples = 592\\nvalue = [401, 191]'),\n",
       " Text(261.5625, 67.94999999999999, 'entropy = 0.31\\nsamples = 36\\nvalue = [34, 2]'),\n",
       " Text(366.1875, 67.94999999999999, 'entropy = 0.925\\nsamples = 556\\nvalue = [367, 189]'),\n",
       " Text(627.75, 339.75, 'X[5] <= -1.359\\nentropy = 0.597\\nsamples = 1153\\nvalue = [167, 986]'),\n",
       " Text(523.125, 203.85000000000002, 'X[10] <= 0.954\\nentropy = 0.999\\nsamples = 77\\nvalue = [40, 37]'),\n",
       " Text(470.8125, 67.94999999999999, 'entropy = 0.863\\nsamples = 42\\nvalue = [30, 12]'),\n",
       " Text(575.4375, 67.94999999999999, 'entropy = 0.863\\nsamples = 35\\nvalue = [10, 25]'),\n",
       " Text(732.375, 203.85000000000002, 'X[10] <= 1.18\\nentropy = 0.524\\nsamples = 1076\\nvalue = [127, 949]'),\n",
       " Text(680.0625, 67.94999999999999, 'entropy = 0.645\\nsamples = 687\\nvalue = [113, 574]'),\n",
       " Text(784.6875, 67.94999999999999, 'entropy = 0.224\\nsamples = 389\\nvalue = [14, 375]')]"
      ]
     },
     "execution_count": 347,
     "metadata": {},
     "output_type": "execute_result"
    },
    {
     "data": {
      "image/png": "[encoded data removed]",
      "text/plain": [
       "<Figure size 1080x720 with 1 Axes>"
      ]
     },
     "metadata": {
      "needs_background": "light"
     },
     "output_type": "display_data"
    }
   ],
   "source": [
    "#plot the decision tree for white-wine dataset.\n",
    "plt.figure(figsize=(15,10))\n",
    "tree.plot_tree(decisionTreeClassifier,filled=True)\n"
   ]
  },
  {
   "cell_type": "code",
   "execution_count": 348,
   "metadata": {},
   "outputs": [
    {
     "name": "stdout",
     "output_type": "stream",
     "text": [
      "|--- feature_10 <= 0.13\n",
      "|   |--- feature_1 <= 0.07\n",
      "|   |   |--- feature_1 <= -0.71\n",
      "|   |   |   |--- class: 1\n",
      "|   |   |--- feature_1 >  -0.71\n",
      "|   |   |   |--- class: 1\n",
      "|   |--- feature_1 >  0.07\n",
      "|   |   |--- feature_6 <= -1.13\n",
      "|   |   |   |--- class: 0\n",
      "|   |   |--- feature_6 >  -1.13\n",
      "|   |   |   |--- class: 0\n",
      "|--- feature_10 >  0.13\n",
      "|   |--- feature_5 <= -1.36\n",
      "|   |   |--- feature_10 <= 0.95\n",
      "|   |   |   |--- class: 0\n",
      "|   |   |--- feature_10 >  0.95\n",
      "|   |   |   |--- class: 1\n",
      "|   |--- feature_5 >  -1.36\n",
      "|   |   |--- feature_10 <= 1.18\n",
      "|   |   |   |--- class: 1\n",
      "|   |   |--- feature_10 >  1.18\n",
      "|   |   |   |--- class: 1\n",
      "\n"
     ]
    }
   ],
   "source": [
    "#Division of tree shown in the form of text.\n",
    "print(tree.export_text(decisionTreeClassifier))\n"
   ]
  },
  {
   "cell_type": "code",
   "execution_count": 349,
   "metadata": {},
   "outputs": [],
   "source": [
    "#Using the concept of serialization or pickling to store the model in a reusable file"
   ]
  },
  {
   "cell_type": "code",
   "execution_count": 350,
   "metadata": {},
   "outputs": [],
   "source": [
    "#import pickle function and dump the model.\n",
    "import pickle\n",
    "with open('model_pickle_DT_WWClf','wb') as f:\n",
    "    pickle.dump(DTClsModel,f)\n"
   ]
  },
  {
   "cell_type": "code",
   "execution_count": 351,
   "metadata": {},
   "outputs": [],
   "source": [
    "#Read the pickled file.\n",
    "with open('model_pickle_DT_WWClf','rb') as f:\n",
    "    mp=pickle.load(f)\n"
   ]
  },
  {
   "cell_type": "code",
   "execution_count": 352,
   "metadata": {},
   "outputs": [
    {
     "data": {
      "text/plain": [
       "array([1, 1, 1, ..., 1, 1, 0])"
      ]
     },
     "execution_count": 352,
     "metadata": {},
     "output_type": "execute_result"
    }
   ],
   "source": [
    "#Test the predictions.\n",
    "pred=mp.predict(X_test)\n",
    "pred"
   ]
  },
  {
   "cell_type": "markdown",
   "metadata": {},
   "source": [
    "# Red-wine data reading and cleaning"
   ]
  },
  {
   "cell_type": "code",
   "execution_count": 353,
   "metadata": {},
   "outputs": [
    {
     "data": {
      "text/html": [
       "<div>\n",
       "<style scoped>\n",
       "    .dataframe tbody tr th:only-of-type {\n",
       "        vertical-align: middle;\n",
       "    }\n",
       "\n",
       "    .dataframe tbody tr th {\n",
       "        vertical-align: top;\n",
       "    }\n",
       "\n",
       "    .dataframe thead th {\n",
       "        text-align: right;\n",
       "    }\n",
       "</style>\n",
       "<table border=\"1\" class=\"dataframe\">\n",
       "  <thead>\n",
       "    <tr style=\"text-align: right;\">\n",
       "      <th></th>\n",
       "      <th>fixed acidity</th>\n",
       "      <th>volatile acidity</th>\n",
       "      <th>citric acid</th>\n",
       "      <th>residual sugar</th>\n",
       "      <th>chlorides</th>\n",
       "      <th>free sulfur dioxide</th>\n",
       "      <th>total sulfur dioxide</th>\n",
       "      <th>density</th>\n",
       "      <th>pH</th>\n",
       "      <th>sulphates</th>\n",
       "      <th>...</th>\n",
       "      <th>Decision Tree Classification (Test data)</th>\n",
       "      <th>Unnamed: 16</th>\n",
       "      <th>Unnamed: 17</th>\n",
       "      <th>Unnamed: 18</th>\n",
       "      <th>Unnamed: 19</th>\n",
       "      <th>Unnamed: 20</th>\n",
       "      <th>Unnamed: 21</th>\n",
       "      <th>Unnamed: 22</th>\n",
       "      <th>Unnamed: 23</th>\n",
       "      <th>Unnamed: 24</th>\n",
       "    </tr>\n",
       "  </thead>\n",
       "  <tbody>\n",
       "    <tr>\n",
       "      <th>0</th>\n",
       "      <td>7.4</td>\n",
       "      <td>0.700</td>\n",
       "      <td>0.00</td>\n",
       "      <td>1.9</td>\n",
       "      <td>0.076</td>\n",
       "      <td>11.0</td>\n",
       "      <td>34.0</td>\n",
       "      <td>0.99780</td>\n",
       "      <td>3.51</td>\n",
       "      <td>0.56</td>\n",
       "      <td>...</td>\n",
       "      <td>Dataset</td>\n",
       "      <td>Accuracy</td>\n",
       "      <td>Precision</td>\n",
       "      <td>Recall</td>\n",
       "      <td>F1-score</td>\n",
       "      <td>ROC AUC score</td>\n",
       "      <td>True Positive(TP)</td>\n",
       "      <td>False Positive (FP)</td>\n",
       "      <td>False Negative (FN)</td>\n",
       "      <td>True Negative (TN)</td>\n",
       "    </tr>\n",
       "    <tr>\n",
       "      <th>1</th>\n",
       "      <td>7.8</td>\n",
       "      <td>0.880</td>\n",
       "      <td>0.00</td>\n",
       "      <td>2.6</td>\n",
       "      <td>0.098</td>\n",
       "      <td>25.0</td>\n",
       "      <td>67.0</td>\n",
       "      <td>0.99680</td>\n",
       "      <td>3.20</td>\n",
       "      <td>0.68</td>\n",
       "      <td>...</td>\n",
       "      <td>White-wine</td>\n",
       "      <td>0.7384</td>\n",
       "      <td>0.7668</td>\n",
       "      <td>0.8641</td>\n",
       "      <td>0.8125</td>\n",
       "      <td>0.6841</td>\n",
       "      <td>204</td>\n",
       "      <td>205</td>\n",
       "      <td>106</td>\n",
       "      <td>674</td>\n",
       "    </tr>\n",
       "    <tr>\n",
       "      <th>2</th>\n",
       "      <td>7.8</td>\n",
       "      <td>0.760</td>\n",
       "      <td>0.04</td>\n",
       "      <td>2.3</td>\n",
       "      <td>0.092</td>\n",
       "      <td>15.0</td>\n",
       "      <td>54.0</td>\n",
       "      <td>0.99700</td>\n",
       "      <td>3.26</td>\n",
       "      <td>0.65</td>\n",
       "      <td>...</td>\n",
       "      <td>Red-Wine</td>\n",
       "      <td>0.7059</td>\n",
       "      <td>0.7725</td>\n",
       "      <td>0.6547</td>\n",
       "      <td>0.7087</td>\n",
       "      <td>0.7111</td>\n",
       "      <td>142</td>\n",
       "      <td>43</td>\n",
       "      <td>77</td>\n",
       "      <td>146</td>\n",
       "    </tr>\n",
       "    <tr>\n",
       "      <th>3</th>\n",
       "      <td>11.2</td>\n",
       "      <td>0.280</td>\n",
       "      <td>0.56</td>\n",
       "      <td>1.9</td>\n",
       "      <td>0.075</td>\n",
       "      <td>17.0</td>\n",
       "      <td>60.0</td>\n",
       "      <td>0.99800</td>\n",
       "      <td>3.16</td>\n",
       "      <td>0.58</td>\n",
       "      <td>...</td>\n",
       "      <td>NaN</td>\n",
       "      <td>NaN</td>\n",
       "      <td>NaN</td>\n",
       "      <td>NaN</td>\n",
       "      <td>NaN</td>\n",
       "      <td>NaN</td>\n",
       "      <td>NaN</td>\n",
       "      <td>NaN</td>\n",
       "      <td>NaN</td>\n",
       "      <td>NaN</td>\n",
       "    </tr>\n",
       "    <tr>\n",
       "      <th>4</th>\n",
       "      <td>7.4</td>\n",
       "      <td>0.700</td>\n",
       "      <td>0.00</td>\n",
       "      <td>1.9</td>\n",
       "      <td>0.076</td>\n",
       "      <td>11.0</td>\n",
       "      <td>34.0</td>\n",
       "      <td>0.99780</td>\n",
       "      <td>3.51</td>\n",
       "      <td>0.56</td>\n",
       "      <td>...</td>\n",
       "      <td>NaN</td>\n",
       "      <td>NaN</td>\n",
       "      <td>NaN</td>\n",
       "      <td>NaN</td>\n",
       "      <td>NaN</td>\n",
       "      <td>NaN</td>\n",
       "      <td>NaN</td>\n",
       "      <td>NaN</td>\n",
       "      <td>NaN</td>\n",
       "      <td>NaN</td>\n",
       "    </tr>\n",
       "    <tr>\n",
       "      <th>...</th>\n",
       "      <td>...</td>\n",
       "      <td>...</td>\n",
       "      <td>...</td>\n",
       "      <td>...</td>\n",
       "      <td>...</td>\n",
       "      <td>...</td>\n",
       "      <td>...</td>\n",
       "      <td>...</td>\n",
       "      <td>...</td>\n",
       "      <td>...</td>\n",
       "      <td>...</td>\n",
       "      <td>...</td>\n",
       "      <td>...</td>\n",
       "      <td>...</td>\n",
       "      <td>...</td>\n",
       "      <td>...</td>\n",
       "      <td>...</td>\n",
       "      <td>...</td>\n",
       "      <td>...</td>\n",
       "      <td>...</td>\n",
       "      <td>...</td>\n",
       "    </tr>\n",
       "    <tr>\n",
       "      <th>1594</th>\n",
       "      <td>6.2</td>\n",
       "      <td>0.600</td>\n",
       "      <td>0.08</td>\n",
       "      <td>2.0</td>\n",
       "      <td>0.090</td>\n",
       "      <td>32.0</td>\n",
       "      <td>44.0</td>\n",
       "      <td>0.99490</td>\n",
       "      <td>3.45</td>\n",
       "      <td>0.58</td>\n",
       "      <td>...</td>\n",
       "      <td>NaN</td>\n",
       "      <td>NaN</td>\n",
       "      <td>NaN</td>\n",
       "      <td>NaN</td>\n",
       "      <td>NaN</td>\n",
       "      <td>NaN</td>\n",
       "      <td>NaN</td>\n",
       "      <td>NaN</td>\n",
       "      <td>NaN</td>\n",
       "      <td>NaN</td>\n",
       "    </tr>\n",
       "    <tr>\n",
       "      <th>1595</th>\n",
       "      <td>5.9</td>\n",
       "      <td>0.550</td>\n",
       "      <td>0.10</td>\n",
       "      <td>2.2</td>\n",
       "      <td>0.062</td>\n",
       "      <td>39.0</td>\n",
       "      <td>51.0</td>\n",
       "      <td>0.99512</td>\n",
       "      <td>3.52</td>\n",
       "      <td>0.76</td>\n",
       "      <td>...</td>\n",
       "      <td>NaN</td>\n",
       "      <td>NaN</td>\n",
       "      <td>NaN</td>\n",
       "      <td>NaN</td>\n",
       "      <td>NaN</td>\n",
       "      <td>NaN</td>\n",
       "      <td>NaN</td>\n",
       "      <td>NaN</td>\n",
       "      <td>NaN</td>\n",
       "      <td>NaN</td>\n",
       "    </tr>\n",
       "    <tr>\n",
       "      <th>1596</th>\n",
       "      <td>6.3</td>\n",
       "      <td>0.510</td>\n",
       "      <td>0.13</td>\n",
       "      <td>2.3</td>\n",
       "      <td>0.076</td>\n",
       "      <td>29.0</td>\n",
       "      <td>40.0</td>\n",
       "      <td>0.99574</td>\n",
       "      <td>3.42</td>\n",
       "      <td>0.75</td>\n",
       "      <td>...</td>\n",
       "      <td>NaN</td>\n",
       "      <td>NaN</td>\n",
       "      <td>NaN</td>\n",
       "      <td>NaN</td>\n",
       "      <td>NaN</td>\n",
       "      <td>NaN</td>\n",
       "      <td>NaN</td>\n",
       "      <td>NaN</td>\n",
       "      <td>NaN</td>\n",
       "      <td>NaN</td>\n",
       "    </tr>\n",
       "    <tr>\n",
       "      <th>1597</th>\n",
       "      <td>5.9</td>\n",
       "      <td>0.645</td>\n",
       "      <td>0.12</td>\n",
       "      <td>2.0</td>\n",
       "      <td>0.075</td>\n",
       "      <td>32.0</td>\n",
       "      <td>44.0</td>\n",
       "      <td>0.99547</td>\n",
       "      <td>3.57</td>\n",
       "      <td>0.71</td>\n",
       "      <td>...</td>\n",
       "      <td>NaN</td>\n",
       "      <td>NaN</td>\n",
       "      <td>NaN</td>\n",
       "      <td>NaN</td>\n",
       "      <td>NaN</td>\n",
       "      <td>NaN</td>\n",
       "      <td>NaN</td>\n",
       "      <td>NaN</td>\n",
       "      <td>NaN</td>\n",
       "      <td>NaN</td>\n",
       "    </tr>\n",
       "    <tr>\n",
       "      <th>1598</th>\n",
       "      <td>6.0</td>\n",
       "      <td>0.310</td>\n",
       "      <td>0.47</td>\n",
       "      <td>3.6</td>\n",
       "      <td>0.067</td>\n",
       "      <td>18.0</td>\n",
       "      <td>42.0</td>\n",
       "      <td>0.99549</td>\n",
       "      <td>3.39</td>\n",
       "      <td>0.66</td>\n",
       "      <td>...</td>\n",
       "      <td>NaN</td>\n",
       "      <td>NaN</td>\n",
       "      <td>NaN</td>\n",
       "      <td>NaN</td>\n",
       "      <td>NaN</td>\n",
       "      <td>NaN</td>\n",
       "      <td>NaN</td>\n",
       "      <td>NaN</td>\n",
       "      <td>NaN</td>\n",
       "      <td>NaN</td>\n",
       "    </tr>\n",
       "  </tbody>\n",
       "</table>\n",
       "<p>1599 rows × 25 columns</p>\n",
       "</div>"
      ],
      "text/plain": [
       "      fixed acidity  volatile acidity  citric acid  residual sugar  chlorides  \\\n",
       "0               7.4             0.700         0.00             1.9      0.076   \n",
       "1               7.8             0.880         0.00             2.6      0.098   \n",
       "2               7.8             0.760         0.04             2.3      0.092   \n",
       "3              11.2             0.280         0.56             1.9      0.075   \n",
       "4               7.4             0.700         0.00             1.9      0.076   \n",
       "...             ...               ...          ...             ...        ...   \n",
       "1594            6.2             0.600         0.08             2.0      0.090   \n",
       "1595            5.9             0.550         0.10             2.2      0.062   \n",
       "1596            6.3             0.510         0.13             2.3      0.076   \n",
       "1597            5.9             0.645         0.12             2.0      0.075   \n",
       "1598            6.0             0.310         0.47             3.6      0.067   \n",
       "\n",
       "      free sulfur dioxide  total sulfur dioxide  density    pH  sulphates  \\\n",
       "0                    11.0                  34.0  0.99780  3.51       0.56   \n",
       "1                    25.0                  67.0  0.99680  3.20       0.68   \n",
       "2                    15.0                  54.0  0.99700  3.26       0.65   \n",
       "3                    17.0                  60.0  0.99800  3.16       0.58   \n",
       "4                    11.0                  34.0  0.99780  3.51       0.56   \n",
       "...                   ...                   ...      ...   ...        ...   \n",
       "1594                 32.0                  44.0  0.99490  3.45       0.58   \n",
       "1595                 39.0                  51.0  0.99512  3.52       0.76   \n",
       "1596                 29.0                  40.0  0.99574  3.42       0.75   \n",
       "1597                 32.0                  44.0  0.99547  3.57       0.71   \n",
       "1598                 18.0                  42.0  0.99549  3.39       0.66   \n",
       "\n",
       "      ...  Decision Tree Classification (Test data)  Unnamed: 16  Unnamed: 17  \\\n",
       "0     ...                                   Dataset     Accuracy    Precision   \n",
       "1     ...                                White-wine       0.7384       0.7668   \n",
       "2     ...                                  Red-Wine       0.7059       0.7725   \n",
       "3     ...                                       NaN          NaN          NaN   \n",
       "4     ...                                       NaN          NaN          NaN   \n",
       "...   ...                                       ...          ...          ...   \n",
       "1594  ...                                       NaN          NaN          NaN   \n",
       "1595  ...                                       NaN          NaN          NaN   \n",
       "1596  ...                                       NaN          NaN          NaN   \n",
       "1597  ...                                       NaN          NaN          NaN   \n",
       "1598  ...                                       NaN          NaN          NaN   \n",
       "\n",
       "      Unnamed: 18  Unnamed: 19    Unnamed: 20        Unnamed: 21  \\\n",
       "0          Recall     F1-score  ROC AUC score  True Positive(TP)   \n",
       "1          0.8641       0.8125         0.6841                204   \n",
       "2          0.6547       0.7087         0.7111                142   \n",
       "3             NaN          NaN            NaN                NaN   \n",
       "4             NaN          NaN            NaN                NaN   \n",
       "...           ...          ...            ...                ...   \n",
       "1594          NaN          NaN            NaN                NaN   \n",
       "1595          NaN          NaN            NaN                NaN   \n",
       "1596          NaN          NaN            NaN                NaN   \n",
       "1597          NaN          NaN            NaN                NaN   \n",
       "1598          NaN          NaN            NaN                NaN   \n",
       "\n",
       "              Unnamed: 22          Unnamed: 23         Unnamed: 24  \n",
       "0     False Positive (FP)  False Negative (FN)  True Negative (TN)  \n",
       "1                     205                  106                 674  \n",
       "2                      43                   77                 146  \n",
       "3                     NaN                  NaN                 NaN  \n",
       "4                     NaN                  NaN                 NaN  \n",
       "...                   ...                  ...                 ...  \n",
       "1594                  NaN                  NaN                 NaN  \n",
       "1595                  NaN                  NaN                 NaN  \n",
       "1596                  NaN                  NaN                 NaN  \n",
       "1597                  NaN                  NaN                 NaN  \n",
       "1598                  NaN                  NaN                 NaN  \n",
       "\n",
       "[1599 rows x 25 columns]"
      ]
     },
     "execution_count": 353,
     "metadata": {},
     "output_type": "execute_result"
    }
   ],
   "source": [
    "#Import and read the red-wine file which is in CSV format using pandas.\n",
    "import pandas as pd\n",
    "df=pd.read_csv(r\"C:\\Users\\varsh\\OneDrive\\Desktop\\MSDA\\SEM2\\MACHINE_LEARNING\\Project\\datasets\\winequality-red.csv\",sep=',',header='infer')\n",
    "df\n"
   ]
  },
  {
   "cell_type": "code",
   "execution_count": 354,
   "metadata": {},
   "outputs": [
    {
     "data": {
      "text/html": [
       "<div>\n",
       "<style scoped>\n",
       "    .dataframe tbody tr th:only-of-type {\n",
       "        vertical-align: middle;\n",
       "    }\n",
       "\n",
       "    .dataframe tbody tr th {\n",
       "        vertical-align: top;\n",
       "    }\n",
       "\n",
       "    .dataframe thead th {\n",
       "        text-align: right;\n",
       "    }\n",
       "</style>\n",
       "<table border=\"1\" class=\"dataframe\">\n",
       "  <thead>\n",
       "    <tr style=\"text-align: right;\">\n",
       "      <th></th>\n",
       "      <th>fixed_acidity</th>\n",
       "      <th>volatile_acidity</th>\n",
       "      <th>citric_acid</th>\n",
       "      <th>residual_sugar</th>\n",
       "      <th>chlorides</th>\n",
       "      <th>free_sulfur_dioxide</th>\n",
       "      <th>total_sulfur_dioxide</th>\n",
       "      <th>density</th>\n",
       "      <th>pH</th>\n",
       "      <th>sulphates</th>\n",
       "      <th>...</th>\n",
       "      <th>Decision Tree Classification (Test data)</th>\n",
       "      <th>Unnamed: 16</th>\n",
       "      <th>Unnamed: 17</th>\n",
       "      <th>Unnamed: 18</th>\n",
       "      <th>Unnamed: 19</th>\n",
       "      <th>Unnamed: 20</th>\n",
       "      <th>Unnamed: 21</th>\n",
       "      <th>Unnamed: 22</th>\n",
       "      <th>Unnamed: 23</th>\n",
       "      <th>Unnamed: 24</th>\n",
       "    </tr>\n",
       "  </thead>\n",
       "  <tbody>\n",
       "    <tr>\n",
       "      <th>0</th>\n",
       "      <td>7.4</td>\n",
       "      <td>0.700</td>\n",
       "      <td>0.00</td>\n",
       "      <td>1.9</td>\n",
       "      <td>0.076</td>\n",
       "      <td>11.0</td>\n",
       "      <td>34.0</td>\n",
       "      <td>0.99780</td>\n",
       "      <td>3.51</td>\n",
       "      <td>0.56</td>\n",
       "      <td>...</td>\n",
       "      <td>Dataset</td>\n",
       "      <td>Accuracy</td>\n",
       "      <td>Precision</td>\n",
       "      <td>Recall</td>\n",
       "      <td>F1-score</td>\n",
       "      <td>ROC AUC score</td>\n",
       "      <td>True Positive(TP)</td>\n",
       "      <td>False Positive (FP)</td>\n",
       "      <td>False Negative (FN)</td>\n",
       "      <td>True Negative (TN)</td>\n",
       "    </tr>\n",
       "    <tr>\n",
       "      <th>1</th>\n",
       "      <td>7.8</td>\n",
       "      <td>0.880</td>\n",
       "      <td>0.00</td>\n",
       "      <td>2.6</td>\n",
       "      <td>0.098</td>\n",
       "      <td>25.0</td>\n",
       "      <td>67.0</td>\n",
       "      <td>0.99680</td>\n",
       "      <td>3.20</td>\n",
       "      <td>0.68</td>\n",
       "      <td>...</td>\n",
       "      <td>White-wine</td>\n",
       "      <td>0.7384</td>\n",
       "      <td>0.7668</td>\n",
       "      <td>0.8641</td>\n",
       "      <td>0.8125</td>\n",
       "      <td>0.6841</td>\n",
       "      <td>204</td>\n",
       "      <td>205</td>\n",
       "      <td>106</td>\n",
       "      <td>674</td>\n",
       "    </tr>\n",
       "    <tr>\n",
       "      <th>2</th>\n",
       "      <td>7.8</td>\n",
       "      <td>0.760</td>\n",
       "      <td>0.04</td>\n",
       "      <td>2.3</td>\n",
       "      <td>0.092</td>\n",
       "      <td>15.0</td>\n",
       "      <td>54.0</td>\n",
       "      <td>0.99700</td>\n",
       "      <td>3.26</td>\n",
       "      <td>0.65</td>\n",
       "      <td>...</td>\n",
       "      <td>Red-Wine</td>\n",
       "      <td>0.7059</td>\n",
       "      <td>0.7725</td>\n",
       "      <td>0.6547</td>\n",
       "      <td>0.7087</td>\n",
       "      <td>0.7111</td>\n",
       "      <td>142</td>\n",
       "      <td>43</td>\n",
       "      <td>77</td>\n",
       "      <td>146</td>\n",
       "    </tr>\n",
       "    <tr>\n",
       "      <th>3</th>\n",
       "      <td>11.2</td>\n",
       "      <td>0.280</td>\n",
       "      <td>0.56</td>\n",
       "      <td>1.9</td>\n",
       "      <td>0.075</td>\n",
       "      <td>17.0</td>\n",
       "      <td>60.0</td>\n",
       "      <td>0.99800</td>\n",
       "      <td>3.16</td>\n",
       "      <td>0.58</td>\n",
       "      <td>...</td>\n",
       "      <td>NaN</td>\n",
       "      <td>NaN</td>\n",
       "      <td>NaN</td>\n",
       "      <td>NaN</td>\n",
       "      <td>NaN</td>\n",
       "      <td>NaN</td>\n",
       "      <td>NaN</td>\n",
       "      <td>NaN</td>\n",
       "      <td>NaN</td>\n",
       "      <td>NaN</td>\n",
       "    </tr>\n",
       "    <tr>\n",
       "      <th>4</th>\n",
       "      <td>7.4</td>\n",
       "      <td>0.700</td>\n",
       "      <td>0.00</td>\n",
       "      <td>1.9</td>\n",
       "      <td>0.076</td>\n",
       "      <td>11.0</td>\n",
       "      <td>34.0</td>\n",
       "      <td>0.99780</td>\n",
       "      <td>3.51</td>\n",
       "      <td>0.56</td>\n",
       "      <td>...</td>\n",
       "      <td>NaN</td>\n",
       "      <td>NaN</td>\n",
       "      <td>NaN</td>\n",
       "      <td>NaN</td>\n",
       "      <td>NaN</td>\n",
       "      <td>NaN</td>\n",
       "      <td>NaN</td>\n",
       "      <td>NaN</td>\n",
       "      <td>NaN</td>\n",
       "      <td>NaN</td>\n",
       "    </tr>\n",
       "    <tr>\n",
       "      <th>...</th>\n",
       "      <td>...</td>\n",
       "      <td>...</td>\n",
       "      <td>...</td>\n",
       "      <td>...</td>\n",
       "      <td>...</td>\n",
       "      <td>...</td>\n",
       "      <td>...</td>\n",
       "      <td>...</td>\n",
       "      <td>...</td>\n",
       "      <td>...</td>\n",
       "      <td>...</td>\n",
       "      <td>...</td>\n",
       "      <td>...</td>\n",
       "      <td>...</td>\n",
       "      <td>...</td>\n",
       "      <td>...</td>\n",
       "      <td>...</td>\n",
       "      <td>...</td>\n",
       "      <td>...</td>\n",
       "      <td>...</td>\n",
       "      <td>...</td>\n",
       "    </tr>\n",
       "    <tr>\n",
       "      <th>1594</th>\n",
       "      <td>6.2</td>\n",
       "      <td>0.600</td>\n",
       "      <td>0.08</td>\n",
       "      <td>2.0</td>\n",
       "      <td>0.090</td>\n",
       "      <td>32.0</td>\n",
       "      <td>44.0</td>\n",
       "      <td>0.99490</td>\n",
       "      <td>3.45</td>\n",
       "      <td>0.58</td>\n",
       "      <td>...</td>\n",
       "      <td>NaN</td>\n",
       "      <td>NaN</td>\n",
       "      <td>NaN</td>\n",
       "      <td>NaN</td>\n",
       "      <td>NaN</td>\n",
       "      <td>NaN</td>\n",
       "      <td>NaN</td>\n",
       "      <td>NaN</td>\n",
       "      <td>NaN</td>\n",
       "      <td>NaN</td>\n",
       "    </tr>\n",
       "    <tr>\n",
       "      <th>1595</th>\n",
       "      <td>5.9</td>\n",
       "      <td>0.550</td>\n",
       "      <td>0.10</td>\n",
       "      <td>2.2</td>\n",
       "      <td>0.062</td>\n",
       "      <td>39.0</td>\n",
       "      <td>51.0</td>\n",
       "      <td>0.99512</td>\n",
       "      <td>3.52</td>\n",
       "      <td>0.76</td>\n",
       "      <td>...</td>\n",
       "      <td>NaN</td>\n",
       "      <td>NaN</td>\n",
       "      <td>NaN</td>\n",
       "      <td>NaN</td>\n",
       "      <td>NaN</td>\n",
       "      <td>NaN</td>\n",
       "      <td>NaN</td>\n",
       "      <td>NaN</td>\n",
       "      <td>NaN</td>\n",
       "      <td>NaN</td>\n",
       "    </tr>\n",
       "    <tr>\n",
       "      <th>1596</th>\n",
       "      <td>6.3</td>\n",
       "      <td>0.510</td>\n",
       "      <td>0.13</td>\n",
       "      <td>2.3</td>\n",
       "      <td>0.076</td>\n",
       "      <td>29.0</td>\n",
       "      <td>40.0</td>\n",
       "      <td>0.99574</td>\n",
       "      <td>3.42</td>\n",
       "      <td>0.75</td>\n",
       "      <td>...</td>\n",
       "      <td>NaN</td>\n",
       "      <td>NaN</td>\n",
       "      <td>NaN</td>\n",
       "      <td>NaN</td>\n",
       "      <td>NaN</td>\n",
       "      <td>NaN</td>\n",
       "      <td>NaN</td>\n",
       "      <td>NaN</td>\n",
       "      <td>NaN</td>\n",
       "      <td>NaN</td>\n",
       "    </tr>\n",
       "    <tr>\n",
       "      <th>1597</th>\n",
       "      <td>5.9</td>\n",
       "      <td>0.645</td>\n",
       "      <td>0.12</td>\n",
       "      <td>2.0</td>\n",
       "      <td>0.075</td>\n",
       "      <td>32.0</td>\n",
       "      <td>44.0</td>\n",
       "      <td>0.99547</td>\n",
       "      <td>3.57</td>\n",
       "      <td>0.71</td>\n",
       "      <td>...</td>\n",
       "      <td>NaN</td>\n",
       "      <td>NaN</td>\n",
       "      <td>NaN</td>\n",
       "      <td>NaN</td>\n",
       "      <td>NaN</td>\n",
       "      <td>NaN</td>\n",
       "      <td>NaN</td>\n",
       "      <td>NaN</td>\n",
       "      <td>NaN</td>\n",
       "      <td>NaN</td>\n",
       "    </tr>\n",
       "    <tr>\n",
       "      <th>1598</th>\n",
       "      <td>6.0</td>\n",
       "      <td>0.310</td>\n",
       "      <td>0.47</td>\n",
       "      <td>3.6</td>\n",
       "      <td>0.067</td>\n",
       "      <td>18.0</td>\n",
       "      <td>42.0</td>\n",
       "      <td>0.99549</td>\n",
       "      <td>3.39</td>\n",
       "      <td>0.66</td>\n",
       "      <td>...</td>\n",
       "      <td>NaN</td>\n",
       "      <td>NaN</td>\n",
       "      <td>NaN</td>\n",
       "      <td>NaN</td>\n",
       "      <td>NaN</td>\n",
       "      <td>NaN</td>\n",
       "      <td>NaN</td>\n",
       "      <td>NaN</td>\n",
       "      <td>NaN</td>\n",
       "      <td>NaN</td>\n",
       "    </tr>\n",
       "  </tbody>\n",
       "</table>\n",
       "<p>1599 rows × 25 columns</p>\n",
       "</div>"
      ],
      "text/plain": [
       "      fixed_acidity  volatile_acidity  citric_acid  residual_sugar  chlorides  \\\n",
       "0               7.4             0.700         0.00             1.9      0.076   \n",
       "1               7.8             0.880         0.00             2.6      0.098   \n",
       "2               7.8             0.760         0.04             2.3      0.092   \n",
       "3              11.2             0.280         0.56             1.9      0.075   \n",
       "4               7.4             0.700         0.00             1.9      0.076   \n",
       "...             ...               ...          ...             ...        ...   \n",
       "1594            6.2             0.600         0.08             2.0      0.090   \n",
       "1595            5.9             0.550         0.10             2.2      0.062   \n",
       "1596            6.3             0.510         0.13             2.3      0.076   \n",
       "1597            5.9             0.645         0.12             2.0      0.075   \n",
       "1598            6.0             0.310         0.47             3.6      0.067   \n",
       "\n",
       "      free_sulfur_dioxide  total_sulfur_dioxide  density    pH  sulphates  \\\n",
       "0                    11.0                  34.0  0.99780  3.51       0.56   \n",
       "1                    25.0                  67.0  0.99680  3.20       0.68   \n",
       "2                    15.0                  54.0  0.99700  3.26       0.65   \n",
       "3                    17.0                  60.0  0.99800  3.16       0.58   \n",
       "4                    11.0                  34.0  0.99780  3.51       0.56   \n",
       "...                   ...                   ...      ...   ...        ...   \n",
       "1594                 32.0                  44.0  0.99490  3.45       0.58   \n",
       "1595                 39.0                  51.0  0.99512  3.52       0.76   \n",
       "1596                 29.0                  40.0  0.99574  3.42       0.75   \n",
       "1597                 32.0                  44.0  0.99547  3.57       0.71   \n",
       "1598                 18.0                  42.0  0.99549  3.39       0.66   \n",
       "\n",
       "      ...  Decision Tree Classification (Test data)  Unnamed: 16  Unnamed: 17  \\\n",
       "0     ...                                   Dataset     Accuracy    Precision   \n",
       "1     ...                                White-wine       0.7384       0.7668   \n",
       "2     ...                                  Red-Wine       0.7059       0.7725   \n",
       "3     ...                                       NaN          NaN          NaN   \n",
       "4     ...                                       NaN          NaN          NaN   \n",
       "...   ...                                       ...          ...          ...   \n",
       "1594  ...                                       NaN          NaN          NaN   \n",
       "1595  ...                                       NaN          NaN          NaN   \n",
       "1596  ...                                       NaN          NaN          NaN   \n",
       "1597  ...                                       NaN          NaN          NaN   \n",
       "1598  ...                                       NaN          NaN          NaN   \n",
       "\n",
       "      Unnamed: 18  Unnamed: 19    Unnamed: 20        Unnamed: 21  \\\n",
       "0          Recall     F1-score  ROC AUC score  True Positive(TP)   \n",
       "1          0.8641       0.8125         0.6841                204   \n",
       "2          0.6547       0.7087         0.7111                142   \n",
       "3             NaN          NaN            NaN                NaN   \n",
       "4             NaN          NaN            NaN                NaN   \n",
       "...           ...          ...            ...                ...   \n",
       "1594          NaN          NaN            NaN                NaN   \n",
       "1595          NaN          NaN            NaN                NaN   \n",
       "1596          NaN          NaN            NaN                NaN   \n",
       "1597          NaN          NaN            NaN                NaN   \n",
       "1598          NaN          NaN            NaN                NaN   \n",
       "\n",
       "              Unnamed: 22          Unnamed: 23         Unnamed: 24  \n",
       "0     False Positive (FP)  False Negative (FN)  True Negative (TN)  \n",
       "1                     205                  106                 674  \n",
       "2                      43                   77                 146  \n",
       "3                     NaN                  NaN                 NaN  \n",
       "4                     NaN                  NaN                 NaN  \n",
       "...                   ...                  ...                 ...  \n",
       "1594                  NaN                  NaN                 NaN  \n",
       "1595                  NaN                  NaN                 NaN  \n",
       "1596                  NaN                  NaN                 NaN  \n",
       "1597                  NaN                  NaN                 NaN  \n",
       "1598                  NaN                  NaN                 NaN  \n",
       "\n",
       "[1599 rows x 25 columns]"
      ]
     },
     "execution_count": 354,
     "metadata": {},
     "output_type": "execute_result"
    }
   ],
   "source": [
    "#checking and renaming headers into single value.\n",
    "df=df.rename(columns={'fixed acidity': 'fixed_acidity','volatile acidity': 'volatile_acidity', 'citric acid': 'citric_acid','free sulfur dioxide': 'free_sulfur_dioxide','residual sugar': 'residual_sugar','total sulfur dioxide': 'total_sulfur_dioxide'})\n",
    "df\n"
   ]
  },
  {
   "cell_type": "code",
   "execution_count": 355,
   "metadata": {},
   "outputs": [
    {
     "name": "stdout",
     "output_type": "stream",
     "text": [
      "<class 'pandas.core.frame.DataFrame'>\n",
      "RangeIndex: 1599 entries, 0 to 1598\n",
      "Data columns (total 25 columns):\n",
      " #   Column                                    Non-Null Count  Dtype  \n",
      "---  ------                                    --------------  -----  \n",
      " 0   fixed_acidity                             1599 non-null   float64\n",
      " 1   volatile_acidity                          1599 non-null   float64\n",
      " 2   citric_acid                               1599 non-null   float64\n",
      " 3   residual_sugar                            1599 non-null   float64\n",
      " 4   chlorides                                 1599 non-null   float64\n",
      " 5   free_sulfur_dioxide                       1599 non-null   float64\n",
      " 6   total_sulfur_dioxide                      1599 non-null   float64\n",
      " 7   density                                   1599 non-null   float64\n",
      " 8   pH                                        1599 non-null   float64\n",
      " 9   sulphates                                 1599 non-null   float64\n",
      " 10  alcohol                                   1599 non-null   float64\n",
      " 11  quality                                   1599 non-null   int64  \n",
      " 12  Unnamed: 12                               0 non-null      float64\n",
      " 13  Unnamed: 13                               0 non-null      float64\n",
      " 14  Unnamed: 14                               0 non-null      float64\n",
      " 15  Decision Tree Classification (Test data)  3 non-null      object \n",
      " 16  Unnamed: 16                               3 non-null      object \n",
      " 17  Unnamed: 17                               3 non-null      object \n",
      " 18  Unnamed: 18                               3 non-null      object \n",
      " 19  Unnamed: 19                               3 non-null      object \n",
      " 20  Unnamed: 20                               3 non-null      object \n",
      " 21  Unnamed: 21                               3 non-null      object \n",
      " 22  Unnamed: 22                               3 non-null      object \n",
      " 23  Unnamed: 23                               3 non-null      object \n",
      " 24  Unnamed: 24                               3 non-null      object \n",
      "dtypes: float64(14), int64(1), object(10)\n",
      "memory usage: 312.4+ KB\n"
     ]
    }
   ],
   "source": [
    "#checking for categorical values.\n",
    "df.info()\n"
   ]
  },
  {
   "cell_type": "code",
   "execution_count": 356,
   "metadata": {},
   "outputs": [
    {
     "name": "stdout",
     "output_type": "stream",
     "text": [
      "The number of non-distinct data is : fixed_acidity                               1599\n",
      "volatile_acidity                            1599\n",
      "citric_acid                                 1599\n",
      "residual_sugar                              1599\n",
      "chlorides                                   1599\n",
      "free_sulfur_dioxide                         1599\n",
      "total_sulfur_dioxide                        1599\n",
      "density                                     1599\n",
      "pH                                          1599\n",
      "sulphates                                   1599\n",
      "alcohol                                     1599\n",
      "quality                                     1599\n",
      "Unnamed: 12                                    0\n",
      "Unnamed: 13                                    0\n",
      "Unnamed: 14                                    0\n",
      "Decision Tree Classification (Test data)       3\n",
      "Unnamed: 16                                    3\n",
      "Unnamed: 17                                    3\n",
      "Unnamed: 18                                    3\n",
      "Unnamed: 19                                    3\n",
      "Unnamed: 20                                    3\n",
      "Unnamed: 21                                    3\n",
      "Unnamed: 22                                    3\n",
      "Unnamed: 23                                    3\n",
      "Unnamed: 24                                    3\n",
      "dtype: int64\n",
      "After dropping the duplicates, the count of the dictinct data is: fixed_acidity                               1360\n",
      "volatile_acidity                            1360\n",
      "citric_acid                                 1360\n",
      "residual_sugar                              1360\n",
      "chlorides                                   1360\n",
      "free_sulfur_dioxide                         1360\n",
      "total_sulfur_dioxide                        1360\n",
      "density                                     1360\n",
      "pH                                          1360\n",
      "sulphates                                   1360\n",
      "alcohol                                     1360\n",
      "quality                                     1360\n",
      "Unnamed: 12                                    0\n",
      "Unnamed: 13                                    0\n",
      "Unnamed: 14                                    0\n",
      "Decision Tree Classification (Test data)       3\n",
      "Unnamed: 16                                    3\n",
      "Unnamed: 17                                    3\n",
      "Unnamed: 18                                    3\n",
      "Unnamed: 19                                    3\n",
      "Unnamed: 20                                    3\n",
      "Unnamed: 21                                    3\n",
      "Unnamed: 22                                    3\n",
      "Unnamed: 23                                    3\n",
      "Unnamed: 24                                    3\n",
      "dtype: int64\n"
     ]
    }
   ],
   "source": [
    "#Checking and removal of duplicates, if any present.\n",
    "print(\"The number of non-distinct data is :\",df.count())\n",
    "df=df.drop_duplicates()\n",
    "print(\"After dropping the duplicates, the count of the dictinct data is:\",df.count())"
   ]
  },
  {
   "cell_type": "code",
   "execution_count": 357,
   "metadata": {},
   "outputs": [
    {
     "data": {
      "text/html": [
       "<div>\n",
       "<style scoped>\n",
       "    .dataframe tbody tr th:only-of-type {\n",
       "        vertical-align: middle;\n",
       "    }\n",
       "\n",
       "    .dataframe tbody tr th {\n",
       "        vertical-align: top;\n",
       "    }\n",
       "\n",
       "    .dataframe thead th {\n",
       "        text-align: right;\n",
       "    }\n",
       "</style>\n",
       "<table border=\"1\" class=\"dataframe\">\n",
       "  <thead>\n",
       "    <tr style=\"text-align: right;\">\n",
       "      <th></th>\n",
       "      <th>fixed_acidity</th>\n",
       "      <th>volatile_acidity</th>\n",
       "      <th>citric_acid</th>\n",
       "      <th>residual_sugar</th>\n",
       "      <th>chlorides</th>\n",
       "      <th>free_sulfur_dioxide</th>\n",
       "      <th>total_sulfur_dioxide</th>\n",
       "      <th>density</th>\n",
       "      <th>pH</th>\n",
       "      <th>sulphates</th>\n",
       "      <th>...</th>\n",
       "      <th>Decision Tree Classification (Test data)</th>\n",
       "      <th>Unnamed: 16</th>\n",
       "      <th>Unnamed: 17</th>\n",
       "      <th>Unnamed: 18</th>\n",
       "      <th>Unnamed: 19</th>\n",
       "      <th>Unnamed: 20</th>\n",
       "      <th>Unnamed: 21</th>\n",
       "      <th>Unnamed: 22</th>\n",
       "      <th>Unnamed: 23</th>\n",
       "      <th>Unnamed: 24</th>\n",
       "    </tr>\n",
       "  </thead>\n",
       "  <tbody>\n",
       "    <tr>\n",
       "      <th>0</th>\n",
       "      <td>False</td>\n",
       "      <td>False</td>\n",
       "      <td>False</td>\n",
       "      <td>False</td>\n",
       "      <td>False</td>\n",
       "      <td>False</td>\n",
       "      <td>False</td>\n",
       "      <td>False</td>\n",
       "      <td>False</td>\n",
       "      <td>False</td>\n",
       "      <td>...</td>\n",
       "      <td>False</td>\n",
       "      <td>False</td>\n",
       "      <td>False</td>\n",
       "      <td>False</td>\n",
       "      <td>False</td>\n",
       "      <td>False</td>\n",
       "      <td>False</td>\n",
       "      <td>False</td>\n",
       "      <td>False</td>\n",
       "      <td>False</td>\n",
       "    </tr>\n",
       "    <tr>\n",
       "      <th>1</th>\n",
       "      <td>False</td>\n",
       "      <td>False</td>\n",
       "      <td>False</td>\n",
       "      <td>False</td>\n",
       "      <td>False</td>\n",
       "      <td>False</td>\n",
       "      <td>False</td>\n",
       "      <td>False</td>\n",
       "      <td>False</td>\n",
       "      <td>False</td>\n",
       "      <td>...</td>\n",
       "      <td>False</td>\n",
       "      <td>False</td>\n",
       "      <td>False</td>\n",
       "      <td>False</td>\n",
       "      <td>False</td>\n",
       "      <td>False</td>\n",
       "      <td>False</td>\n",
       "      <td>False</td>\n",
       "      <td>False</td>\n",
       "      <td>False</td>\n",
       "    </tr>\n",
       "    <tr>\n",
       "      <th>2</th>\n",
       "      <td>False</td>\n",
       "      <td>False</td>\n",
       "      <td>False</td>\n",
       "      <td>False</td>\n",
       "      <td>False</td>\n",
       "      <td>False</td>\n",
       "      <td>False</td>\n",
       "      <td>False</td>\n",
       "      <td>False</td>\n",
       "      <td>False</td>\n",
       "      <td>...</td>\n",
       "      <td>False</td>\n",
       "      <td>False</td>\n",
       "      <td>False</td>\n",
       "      <td>False</td>\n",
       "      <td>False</td>\n",
       "      <td>False</td>\n",
       "      <td>False</td>\n",
       "      <td>False</td>\n",
       "      <td>False</td>\n",
       "      <td>False</td>\n",
       "    </tr>\n",
       "    <tr>\n",
       "      <th>3</th>\n",
       "      <td>False</td>\n",
       "      <td>False</td>\n",
       "      <td>False</td>\n",
       "      <td>False</td>\n",
       "      <td>False</td>\n",
       "      <td>False</td>\n",
       "      <td>False</td>\n",
       "      <td>False</td>\n",
       "      <td>False</td>\n",
       "      <td>False</td>\n",
       "      <td>...</td>\n",
       "      <td>True</td>\n",
       "      <td>True</td>\n",
       "      <td>True</td>\n",
       "      <td>True</td>\n",
       "      <td>True</td>\n",
       "      <td>True</td>\n",
       "      <td>True</td>\n",
       "      <td>True</td>\n",
       "      <td>True</td>\n",
       "      <td>True</td>\n",
       "    </tr>\n",
       "    <tr>\n",
       "      <th>4</th>\n",
       "      <td>False</td>\n",
       "      <td>False</td>\n",
       "      <td>False</td>\n",
       "      <td>False</td>\n",
       "      <td>False</td>\n",
       "      <td>False</td>\n",
       "      <td>False</td>\n",
       "      <td>False</td>\n",
       "      <td>False</td>\n",
       "      <td>False</td>\n",
       "      <td>...</td>\n",
       "      <td>True</td>\n",
       "      <td>True</td>\n",
       "      <td>True</td>\n",
       "      <td>True</td>\n",
       "      <td>True</td>\n",
       "      <td>True</td>\n",
       "      <td>True</td>\n",
       "      <td>True</td>\n",
       "      <td>True</td>\n",
       "      <td>True</td>\n",
       "    </tr>\n",
       "    <tr>\n",
       "      <th>...</th>\n",
       "      <td>...</td>\n",
       "      <td>...</td>\n",
       "      <td>...</td>\n",
       "      <td>...</td>\n",
       "      <td>...</td>\n",
       "      <td>...</td>\n",
       "      <td>...</td>\n",
       "      <td>...</td>\n",
       "      <td>...</td>\n",
       "      <td>...</td>\n",
       "      <td>...</td>\n",
       "      <td>...</td>\n",
       "      <td>...</td>\n",
       "      <td>...</td>\n",
       "      <td>...</td>\n",
       "      <td>...</td>\n",
       "      <td>...</td>\n",
       "      <td>...</td>\n",
       "      <td>...</td>\n",
       "      <td>...</td>\n",
       "      <td>...</td>\n",
       "    </tr>\n",
       "    <tr>\n",
       "      <th>1593</th>\n",
       "      <td>False</td>\n",
       "      <td>False</td>\n",
       "      <td>False</td>\n",
       "      <td>False</td>\n",
       "      <td>False</td>\n",
       "      <td>False</td>\n",
       "      <td>False</td>\n",
       "      <td>False</td>\n",
       "      <td>False</td>\n",
       "      <td>False</td>\n",
       "      <td>...</td>\n",
       "      <td>True</td>\n",
       "      <td>True</td>\n",
       "      <td>True</td>\n",
       "      <td>True</td>\n",
       "      <td>True</td>\n",
       "      <td>True</td>\n",
       "      <td>True</td>\n",
       "      <td>True</td>\n",
       "      <td>True</td>\n",
       "      <td>True</td>\n",
       "    </tr>\n",
       "    <tr>\n",
       "      <th>1594</th>\n",
       "      <td>False</td>\n",
       "      <td>False</td>\n",
       "      <td>False</td>\n",
       "      <td>False</td>\n",
       "      <td>False</td>\n",
       "      <td>False</td>\n",
       "      <td>False</td>\n",
       "      <td>False</td>\n",
       "      <td>False</td>\n",
       "      <td>False</td>\n",
       "      <td>...</td>\n",
       "      <td>True</td>\n",
       "      <td>True</td>\n",
       "      <td>True</td>\n",
       "      <td>True</td>\n",
       "      <td>True</td>\n",
       "      <td>True</td>\n",
       "      <td>True</td>\n",
       "      <td>True</td>\n",
       "      <td>True</td>\n",
       "      <td>True</td>\n",
       "    </tr>\n",
       "    <tr>\n",
       "      <th>1595</th>\n",
       "      <td>False</td>\n",
       "      <td>False</td>\n",
       "      <td>False</td>\n",
       "      <td>False</td>\n",
       "      <td>False</td>\n",
       "      <td>False</td>\n",
       "      <td>False</td>\n",
       "      <td>False</td>\n",
       "      <td>False</td>\n",
       "      <td>False</td>\n",
       "      <td>...</td>\n",
       "      <td>True</td>\n",
       "      <td>True</td>\n",
       "      <td>True</td>\n",
       "      <td>True</td>\n",
       "      <td>True</td>\n",
       "      <td>True</td>\n",
       "      <td>True</td>\n",
       "      <td>True</td>\n",
       "      <td>True</td>\n",
       "      <td>True</td>\n",
       "    </tr>\n",
       "    <tr>\n",
       "      <th>1597</th>\n",
       "      <td>False</td>\n",
       "      <td>False</td>\n",
       "      <td>False</td>\n",
       "      <td>False</td>\n",
       "      <td>False</td>\n",
       "      <td>False</td>\n",
       "      <td>False</td>\n",
       "      <td>False</td>\n",
       "      <td>False</td>\n",
       "      <td>False</td>\n",
       "      <td>...</td>\n",
       "      <td>True</td>\n",
       "      <td>True</td>\n",
       "      <td>True</td>\n",
       "      <td>True</td>\n",
       "      <td>True</td>\n",
       "      <td>True</td>\n",
       "      <td>True</td>\n",
       "      <td>True</td>\n",
       "      <td>True</td>\n",
       "      <td>True</td>\n",
       "    </tr>\n",
       "    <tr>\n",
       "      <th>1598</th>\n",
       "      <td>False</td>\n",
       "      <td>False</td>\n",
       "      <td>False</td>\n",
       "      <td>False</td>\n",
       "      <td>False</td>\n",
       "      <td>False</td>\n",
       "      <td>False</td>\n",
       "      <td>False</td>\n",
       "      <td>False</td>\n",
       "      <td>False</td>\n",
       "      <td>...</td>\n",
       "      <td>True</td>\n",
       "      <td>True</td>\n",
       "      <td>True</td>\n",
       "      <td>True</td>\n",
       "      <td>True</td>\n",
       "      <td>True</td>\n",
       "      <td>True</td>\n",
       "      <td>True</td>\n",
       "      <td>True</td>\n",
       "      <td>True</td>\n",
       "    </tr>\n",
       "  </tbody>\n",
       "</table>\n",
       "<p>1360 rows × 25 columns</p>\n",
       "</div>"
      ],
      "text/plain": [
       "      fixed_acidity  volatile_acidity  citric_acid  residual_sugar  chlorides  \\\n",
       "0             False             False        False           False      False   \n",
       "1             False             False        False           False      False   \n",
       "2             False             False        False           False      False   \n",
       "3             False             False        False           False      False   \n",
       "4             False             False        False           False      False   \n",
       "...             ...               ...          ...             ...        ...   \n",
       "1593          False             False        False           False      False   \n",
       "1594          False             False        False           False      False   \n",
       "1595          False             False        False           False      False   \n",
       "1597          False             False        False           False      False   \n",
       "1598          False             False        False           False      False   \n",
       "\n",
       "      free_sulfur_dioxide  total_sulfur_dioxide  density     pH  sulphates  \\\n",
       "0                   False                 False    False  False      False   \n",
       "1                   False                 False    False  False      False   \n",
       "2                   False                 False    False  False      False   \n",
       "3                   False                 False    False  False      False   \n",
       "4                   False                 False    False  False      False   \n",
       "...                   ...                   ...      ...    ...        ...   \n",
       "1593                False                 False    False  False      False   \n",
       "1594                False                 False    False  False      False   \n",
       "1595                False                 False    False  False      False   \n",
       "1597                False                 False    False  False      False   \n",
       "1598                False                 False    False  False      False   \n",
       "\n",
       "      ...  Decision Tree Classification (Test data)  Unnamed: 16  Unnamed: 17  \\\n",
       "0     ...                                     False        False        False   \n",
       "1     ...                                     False        False        False   \n",
       "2     ...                                     False        False        False   \n",
       "3     ...                                      True         True         True   \n",
       "4     ...                                      True         True         True   \n",
       "...   ...                                       ...          ...          ...   \n",
       "1593  ...                                      True         True         True   \n",
       "1594  ...                                      True         True         True   \n",
       "1595  ...                                      True         True         True   \n",
       "1597  ...                                      True         True         True   \n",
       "1598  ...                                      True         True         True   \n",
       "\n",
       "      Unnamed: 18  Unnamed: 19  Unnamed: 20  Unnamed: 21  Unnamed: 22  \\\n",
       "0           False        False        False        False        False   \n",
       "1           False        False        False        False        False   \n",
       "2           False        False        False        False        False   \n",
       "3            True         True         True         True         True   \n",
       "4            True         True         True         True         True   \n",
       "...           ...          ...          ...          ...          ...   \n",
       "1593         True         True         True         True         True   \n",
       "1594         True         True         True         True         True   \n",
       "1595         True         True         True         True         True   \n",
       "1597         True         True         True         True         True   \n",
       "1598         True         True         True         True         True   \n",
       "\n",
       "      Unnamed: 23  Unnamed: 24  \n",
       "0           False        False  \n",
       "1           False        False  \n",
       "2           False        False  \n",
       "3            True         True  \n",
       "4            True         True  \n",
       "...           ...          ...  \n",
       "1593         True         True  \n",
       "1594         True         True  \n",
       "1595         True         True  \n",
       "1597         True         True  \n",
       "1598         True         True  \n",
       "\n",
       "[1360 rows x 25 columns]"
      ]
     },
     "execution_count": 357,
     "metadata": {},
     "output_type": "execute_result"
    }
   ],
   "source": [
    "#checking for nulls or missing values.\n",
    "df.isnull()\n"
   ]
  },
  {
   "cell_type": "code",
   "execution_count": 358,
   "metadata": {},
   "outputs": [
    {
     "data": {
      "text/html": [
       "<div>\n",
       "<style scoped>\n",
       "    .dataframe tbody tr th:only-of-type {\n",
       "        vertical-align: middle;\n",
       "    }\n",
       "\n",
       "    .dataframe tbody tr th {\n",
       "        vertical-align: top;\n",
       "    }\n",
       "\n",
       "    .dataframe thead th {\n",
       "        text-align: right;\n",
       "    }\n",
       "</style>\n",
       "<table border=\"1\" class=\"dataframe\">\n",
       "  <thead>\n",
       "    <tr style=\"text-align: right;\">\n",
       "      <th></th>\n",
       "      <th>fixed_acidity</th>\n",
       "      <th>volatile_acidity</th>\n",
       "      <th>citric_acid</th>\n",
       "      <th>residual_sugar</th>\n",
       "      <th>chlorides</th>\n",
       "      <th>free_sulfur_dioxide</th>\n",
       "      <th>total_sulfur_dioxide</th>\n",
       "      <th>density</th>\n",
       "      <th>pH</th>\n",
       "      <th>sulphates</th>\n",
       "      <th>...</th>\n",
       "      <th>Decision Tree Classification (Test data)</th>\n",
       "      <th>Unnamed: 16</th>\n",
       "      <th>Unnamed: 17</th>\n",
       "      <th>Unnamed: 18</th>\n",
       "      <th>Unnamed: 19</th>\n",
       "      <th>Unnamed: 20</th>\n",
       "      <th>Unnamed: 21</th>\n",
       "      <th>Unnamed: 22</th>\n",
       "      <th>Unnamed: 23</th>\n",
       "      <th>Unnamed: 24</th>\n",
       "    </tr>\n",
       "  </thead>\n",
       "  <tbody>\n",
       "    <tr>\n",
       "      <th>0</th>\n",
       "      <td>7.4</td>\n",
       "      <td>0.700</td>\n",
       "      <td>0.00</td>\n",
       "      <td>1.9</td>\n",
       "      <td>0.076</td>\n",
       "      <td>11.0</td>\n",
       "      <td>34.0</td>\n",
       "      <td>0.99780</td>\n",
       "      <td>3.51</td>\n",
       "      <td>0.56</td>\n",
       "      <td>...</td>\n",
       "      <td>Dataset</td>\n",
       "      <td>Accuracy</td>\n",
       "      <td>Precision</td>\n",
       "      <td>Recall</td>\n",
       "      <td>F1-score</td>\n",
       "      <td>ROC AUC score</td>\n",
       "      <td>True Positive(TP)</td>\n",
       "      <td>False Positive (FP)</td>\n",
       "      <td>False Negative (FN)</td>\n",
       "      <td>True Negative (TN)</td>\n",
       "    </tr>\n",
       "    <tr>\n",
       "      <th>1</th>\n",
       "      <td>7.8</td>\n",
       "      <td>0.880</td>\n",
       "      <td>0.00</td>\n",
       "      <td>2.6</td>\n",
       "      <td>0.098</td>\n",
       "      <td>25.0</td>\n",
       "      <td>67.0</td>\n",
       "      <td>0.99680</td>\n",
       "      <td>3.20</td>\n",
       "      <td>0.68</td>\n",
       "      <td>...</td>\n",
       "      <td>White-wine</td>\n",
       "      <td>0.7384</td>\n",
       "      <td>0.7668</td>\n",
       "      <td>0.8641</td>\n",
       "      <td>0.8125</td>\n",
       "      <td>0.6841</td>\n",
       "      <td>204</td>\n",
       "      <td>205</td>\n",
       "      <td>106</td>\n",
       "      <td>674</td>\n",
       "    </tr>\n",
       "    <tr>\n",
       "      <th>2</th>\n",
       "      <td>7.8</td>\n",
       "      <td>0.760</td>\n",
       "      <td>0.04</td>\n",
       "      <td>2.3</td>\n",
       "      <td>0.092</td>\n",
       "      <td>15.0</td>\n",
       "      <td>54.0</td>\n",
       "      <td>0.99700</td>\n",
       "      <td>3.26</td>\n",
       "      <td>0.65</td>\n",
       "      <td>...</td>\n",
       "      <td>Red-Wine</td>\n",
       "      <td>0.7059</td>\n",
       "      <td>0.7725</td>\n",
       "      <td>0.6547</td>\n",
       "      <td>0.7087</td>\n",
       "      <td>0.7111</td>\n",
       "      <td>142</td>\n",
       "      <td>43</td>\n",
       "      <td>77</td>\n",
       "      <td>146</td>\n",
       "    </tr>\n",
       "    <tr>\n",
       "      <th>3</th>\n",
       "      <td>11.2</td>\n",
       "      <td>0.280</td>\n",
       "      <td>0.56</td>\n",
       "      <td>1.9</td>\n",
       "      <td>0.075</td>\n",
       "      <td>17.0</td>\n",
       "      <td>60.0</td>\n",
       "      <td>0.99800</td>\n",
       "      <td>3.16</td>\n",
       "      <td>0.58</td>\n",
       "      <td>...</td>\n",
       "      <td>NaN</td>\n",
       "      <td>NaN</td>\n",
       "      <td>NaN</td>\n",
       "      <td>NaN</td>\n",
       "      <td>NaN</td>\n",
       "      <td>NaN</td>\n",
       "      <td>NaN</td>\n",
       "      <td>NaN</td>\n",
       "      <td>NaN</td>\n",
       "      <td>NaN</td>\n",
       "    </tr>\n",
       "    <tr>\n",
       "      <th>4</th>\n",
       "      <td>7.4</td>\n",
       "      <td>0.700</td>\n",
       "      <td>0.00</td>\n",
       "      <td>1.9</td>\n",
       "      <td>0.076</td>\n",
       "      <td>11.0</td>\n",
       "      <td>34.0</td>\n",
       "      <td>0.99780</td>\n",
       "      <td>3.51</td>\n",
       "      <td>0.56</td>\n",
       "      <td>...</td>\n",
       "      <td>NaN</td>\n",
       "      <td>NaN</td>\n",
       "      <td>NaN</td>\n",
       "      <td>NaN</td>\n",
       "      <td>NaN</td>\n",
       "      <td>NaN</td>\n",
       "      <td>NaN</td>\n",
       "      <td>NaN</td>\n",
       "      <td>NaN</td>\n",
       "      <td>NaN</td>\n",
       "    </tr>\n",
       "    <tr>\n",
       "      <th>...</th>\n",
       "      <td>...</td>\n",
       "      <td>...</td>\n",
       "      <td>...</td>\n",
       "      <td>...</td>\n",
       "      <td>...</td>\n",
       "      <td>...</td>\n",
       "      <td>...</td>\n",
       "      <td>...</td>\n",
       "      <td>...</td>\n",
       "      <td>...</td>\n",
       "      <td>...</td>\n",
       "      <td>...</td>\n",
       "      <td>...</td>\n",
       "      <td>...</td>\n",
       "      <td>...</td>\n",
       "      <td>...</td>\n",
       "      <td>...</td>\n",
       "      <td>...</td>\n",
       "      <td>...</td>\n",
       "      <td>...</td>\n",
       "      <td>...</td>\n",
       "    </tr>\n",
       "    <tr>\n",
       "      <th>1593</th>\n",
       "      <td>6.8</td>\n",
       "      <td>0.620</td>\n",
       "      <td>0.08</td>\n",
       "      <td>1.9</td>\n",
       "      <td>0.068</td>\n",
       "      <td>28.0</td>\n",
       "      <td>38.0</td>\n",
       "      <td>0.99651</td>\n",
       "      <td>3.42</td>\n",
       "      <td>0.82</td>\n",
       "      <td>...</td>\n",
       "      <td>NaN</td>\n",
       "      <td>NaN</td>\n",
       "      <td>NaN</td>\n",
       "      <td>NaN</td>\n",
       "      <td>NaN</td>\n",
       "      <td>NaN</td>\n",
       "      <td>NaN</td>\n",
       "      <td>NaN</td>\n",
       "      <td>NaN</td>\n",
       "      <td>NaN</td>\n",
       "    </tr>\n",
       "    <tr>\n",
       "      <th>1594</th>\n",
       "      <td>6.2</td>\n",
       "      <td>0.600</td>\n",
       "      <td>0.08</td>\n",
       "      <td>2.0</td>\n",
       "      <td>0.090</td>\n",
       "      <td>32.0</td>\n",
       "      <td>44.0</td>\n",
       "      <td>0.99490</td>\n",
       "      <td>3.45</td>\n",
       "      <td>0.58</td>\n",
       "      <td>...</td>\n",
       "      <td>NaN</td>\n",
       "      <td>NaN</td>\n",
       "      <td>NaN</td>\n",
       "      <td>NaN</td>\n",
       "      <td>NaN</td>\n",
       "      <td>NaN</td>\n",
       "      <td>NaN</td>\n",
       "      <td>NaN</td>\n",
       "      <td>NaN</td>\n",
       "      <td>NaN</td>\n",
       "    </tr>\n",
       "    <tr>\n",
       "      <th>1595</th>\n",
       "      <td>5.9</td>\n",
       "      <td>0.550</td>\n",
       "      <td>0.10</td>\n",
       "      <td>2.2</td>\n",
       "      <td>0.062</td>\n",
       "      <td>39.0</td>\n",
       "      <td>51.0</td>\n",
       "      <td>0.99512</td>\n",
       "      <td>3.52</td>\n",
       "      <td>0.76</td>\n",
       "      <td>...</td>\n",
       "      <td>NaN</td>\n",
       "      <td>NaN</td>\n",
       "      <td>NaN</td>\n",
       "      <td>NaN</td>\n",
       "      <td>NaN</td>\n",
       "      <td>NaN</td>\n",
       "      <td>NaN</td>\n",
       "      <td>NaN</td>\n",
       "      <td>NaN</td>\n",
       "      <td>NaN</td>\n",
       "    </tr>\n",
       "    <tr>\n",
       "      <th>1597</th>\n",
       "      <td>5.9</td>\n",
       "      <td>0.645</td>\n",
       "      <td>0.12</td>\n",
       "      <td>2.0</td>\n",
       "      <td>0.075</td>\n",
       "      <td>32.0</td>\n",
       "      <td>44.0</td>\n",
       "      <td>0.99547</td>\n",
       "      <td>3.57</td>\n",
       "      <td>0.71</td>\n",
       "      <td>...</td>\n",
       "      <td>NaN</td>\n",
       "      <td>NaN</td>\n",
       "      <td>NaN</td>\n",
       "      <td>NaN</td>\n",
       "      <td>NaN</td>\n",
       "      <td>NaN</td>\n",
       "      <td>NaN</td>\n",
       "      <td>NaN</td>\n",
       "      <td>NaN</td>\n",
       "      <td>NaN</td>\n",
       "    </tr>\n",
       "    <tr>\n",
       "      <th>1598</th>\n",
       "      <td>6.0</td>\n",
       "      <td>0.310</td>\n",
       "      <td>0.47</td>\n",
       "      <td>3.6</td>\n",
       "      <td>0.067</td>\n",
       "      <td>18.0</td>\n",
       "      <td>42.0</td>\n",
       "      <td>0.99549</td>\n",
       "      <td>3.39</td>\n",
       "      <td>0.66</td>\n",
       "      <td>...</td>\n",
       "      <td>NaN</td>\n",
       "      <td>NaN</td>\n",
       "      <td>NaN</td>\n",
       "      <td>NaN</td>\n",
       "      <td>NaN</td>\n",
       "      <td>NaN</td>\n",
       "      <td>NaN</td>\n",
       "      <td>NaN</td>\n",
       "      <td>NaN</td>\n",
       "      <td>NaN</td>\n",
       "    </tr>\n",
       "  </tbody>\n",
       "</table>\n",
       "<p>1360 rows × 25 columns</p>\n",
       "</div>"
      ],
      "text/plain": [
       "      fixed_acidity  volatile_acidity  citric_acid  residual_sugar  chlorides  \\\n",
       "0               7.4             0.700         0.00             1.9      0.076   \n",
       "1               7.8             0.880         0.00             2.6      0.098   \n",
       "2               7.8             0.760         0.04             2.3      0.092   \n",
       "3              11.2             0.280         0.56             1.9      0.075   \n",
       "4               7.4             0.700         0.00             1.9      0.076   \n",
       "...             ...               ...          ...             ...        ...   \n",
       "1593            6.8             0.620         0.08             1.9      0.068   \n",
       "1594            6.2             0.600         0.08             2.0      0.090   \n",
       "1595            5.9             0.550         0.10             2.2      0.062   \n",
       "1597            5.9             0.645         0.12             2.0      0.075   \n",
       "1598            6.0             0.310         0.47             3.6      0.067   \n",
       "\n",
       "      free_sulfur_dioxide  total_sulfur_dioxide  density    pH  sulphates  \\\n",
       "0                    11.0                  34.0  0.99780  3.51       0.56   \n",
       "1                    25.0                  67.0  0.99680  3.20       0.68   \n",
       "2                    15.0                  54.0  0.99700  3.26       0.65   \n",
       "3                    17.0                  60.0  0.99800  3.16       0.58   \n",
       "4                    11.0                  34.0  0.99780  3.51       0.56   \n",
       "...                   ...                   ...      ...   ...        ...   \n",
       "1593                 28.0                  38.0  0.99651  3.42       0.82   \n",
       "1594                 32.0                  44.0  0.99490  3.45       0.58   \n",
       "1595                 39.0                  51.0  0.99512  3.52       0.76   \n",
       "1597                 32.0                  44.0  0.99547  3.57       0.71   \n",
       "1598                 18.0                  42.0  0.99549  3.39       0.66   \n",
       "\n",
       "      ...  Decision Tree Classification (Test data)  Unnamed: 16  Unnamed: 17  \\\n",
       "0     ...                                   Dataset     Accuracy    Precision   \n",
       "1     ...                                White-wine       0.7384       0.7668   \n",
       "2     ...                                  Red-Wine       0.7059       0.7725   \n",
       "3     ...                                       NaN          NaN          NaN   \n",
       "4     ...                                       NaN          NaN          NaN   \n",
       "...   ...                                       ...          ...          ...   \n",
       "1593  ...                                       NaN          NaN          NaN   \n",
       "1594  ...                                       NaN          NaN          NaN   \n",
       "1595  ...                                       NaN          NaN          NaN   \n",
       "1597  ...                                       NaN          NaN          NaN   \n",
       "1598  ...                                       NaN          NaN          NaN   \n",
       "\n",
       "      Unnamed: 18  Unnamed: 19    Unnamed: 20        Unnamed: 21  \\\n",
       "0          Recall     F1-score  ROC AUC score  True Positive(TP)   \n",
       "1          0.8641       0.8125         0.6841                204   \n",
       "2          0.6547       0.7087         0.7111                142   \n",
       "3             NaN          NaN            NaN                NaN   \n",
       "4             NaN          NaN            NaN                NaN   \n",
       "...           ...          ...            ...                ...   \n",
       "1593          NaN          NaN            NaN                NaN   \n",
       "1594          NaN          NaN            NaN                NaN   \n",
       "1595          NaN          NaN            NaN                NaN   \n",
       "1597          NaN          NaN            NaN                NaN   \n",
       "1598          NaN          NaN            NaN                NaN   \n",
       "\n",
       "              Unnamed: 22          Unnamed: 23         Unnamed: 24  \n",
       "0     False Positive (FP)  False Negative (FN)  True Negative (TN)  \n",
       "1                     205                  106                 674  \n",
       "2                      43                   77                 146  \n",
       "3                     NaN                  NaN                 NaN  \n",
       "4                     NaN                  NaN                 NaN  \n",
       "...                   ...                  ...                 ...  \n",
       "1593                  NaN                  NaN                 NaN  \n",
       "1594                  NaN                  NaN                 NaN  \n",
       "1595                  NaN                  NaN                 NaN  \n",
       "1597                  NaN                  NaN                 NaN  \n",
       "1598                  NaN                  NaN                 NaN  \n",
       "\n",
       "[1360 rows x 25 columns]"
      ]
     },
     "execution_count": 358,
     "metadata": {},
     "output_type": "execute_result"
    }
   ],
   "source": [
    "#Create a user defined function to convert the interger values of 'quality' column into binary values such as 0 and 1.\n",
    "import numpy as np\n",
    "df['quality'] = np.where(df['quality']>=6, 1, 0)\n",
    "df"
   ]
  },
  {
   "cell_type": "code",
   "execution_count": 359,
   "metadata": {},
   "outputs": [],
   "source": [
    "#Seperating X and y values and storing in different variables.\n",
    "X = df[['fixed_acidity', 'volatile_acidity', 'citric_acid', 'residual_sugar',\n",
    "       'chlorides', 'free_sulfur_dioxide', 'total_sulfur_dioxide', 'density',\n",
    "       'pH', 'sulphates', 'alcohol']]\n",
    "y=df['quality']\n"
   ]
  },
  {
   "cell_type": "code",
   "execution_count": 360,
   "metadata": {},
   "outputs": [
    {
     "data": {
      "text/plain": [
       "array([[-0.52418512,  0.93136006, -1.39175276, ...,  1.29060548,\n",
       "        -0.57827744, -0.95370404],\n",
       "       [-0.29375546,  1.9152081 , -1.39175276, ..., -0.70917132,\n",
       "         0.12527764, -0.58389234],\n",
       "       [-0.29375546,  1.25930941, -1.18718278, ..., -0.32211775,\n",
       "        -0.05061113, -0.58389234],\n",
       "       ...,\n",
       "       [-1.38829635,  0.1114867 , -0.8803278 , ...,  1.35511441,\n",
       "         0.59431435,  0.71044861],\n",
       "       [-1.38829635,  0.63073983, -0.77804281, ...,  1.67765905,\n",
       "         0.30116641, -0.21408064],\n",
       "       [-1.33068894, -1.20031068,  1.01194452, ...,  0.51649833,\n",
       "         0.00801846,  0.52554276]])"
      ]
     },
     "execution_count": 360,
     "metadata": {},
     "output_type": "execute_result"
    }
   ],
   "source": [
    "#Standardize the feature-vector values.\n",
    "from sklearn.preprocessing import StandardScaler\n",
    "sclr=StandardScaler()\n",
    "X = sclr.fit_transform(X)\n",
    "X\n"
   ]
  },
  {
   "cell_type": "code",
   "execution_count": 361,
   "metadata": {},
   "outputs": [
    {
     "name": "stdout",
     "output_type": "stream",
     "text": [
      "The number of rows and columns in the training dataset (X) post split is: (952, 11)\n",
      "The number of rows and columns in the training dataset (y) post split is: (952,)\n",
      "The number of rows and columns in the test dataset post (X) split is: (408, 11)\n",
      "The number of rows and columns in the test dataset post (y) split is: (408,)\n"
     ]
    }
   ],
   "source": [
    "#split the data into training and test data.\n",
    "from sklearn.model_selection import train_test_split\n",
    "X_train, X_test, y_train, y_test = train_test_split(X, y, test_size=0.3)\n",
    "print(\"The number of rows and columns in the training dataset (X) post split is:\",X_train.shape)\n",
    "print(\"The number of rows and columns in the training dataset (y) post split is:\",y_train.shape)\n",
    "print(\"The number of rows and columns in the test dataset post (X) split is:\",X_test.shape)\n",
    "print(\"The number of rows and columns in the test dataset post (y) split is:\",y_test.shape)\n"
   ]
  },
  {
   "cell_type": "markdown",
   "metadata": {},
   "source": [
    "# Red-wine regression"
   ]
  },
  {
   "cell_type": "code",
   "execution_count": 362,
   "metadata": {},
   "outputs": [],
   "source": [
    "#create a decision tree regression model using the training dataset.\n",
    "from sklearn import tree\n",
    "decisionTreeRegressor = tree.DecisionTreeRegressor()\n",
    "DTRegModel = decisionTreeRegressor.fit(X_train, y_train)\n"
   ]
  },
  {
   "cell_type": "code",
   "execution_count": 363,
   "metadata": {},
   "outputs": [
    {
     "data": {
      "text/plain": [
       "array([0., 0., 1., 1., 0.])"
      ]
     },
     "execution_count": 363,
     "metadata": {},
     "output_type": "execute_result"
    }
   ],
   "source": [
    "#Test the model with the test dataset for predictions (without the labels).\n",
    "DTReg_predictions=DTRegModel.predict(X_test)\n",
    "DTReg_predictions[:5]\n"
   ]
  },
  {
   "cell_type": "code",
   "execution_count": 364,
   "metadata": {},
   "outputs": [],
   "source": [
    "#hyper parameter tuning for a better accuracy of our decision tree model.\n",
    "parameter_dist={'criterion':['mse','mae'], \n",
    "                'max_depth':[1,2,3,4,5,6,7,None]}\n"
   ]
  },
  {
   "cell_type": "code",
   "execution_count": 365,
   "metadata": {},
   "outputs": [
    {
     "data": {
      "text/plain": [
       "GridSearchCV(cv=10, error_score=nan,\n",
       "             estimator=DecisionTreeRegressor(ccp_alpha=0.0, criterion='mse',\n",
       "                                             max_depth=None, max_features=None,\n",
       "                                             max_leaf_nodes=None,\n",
       "                                             min_impurity_decrease=0.0,\n",
       "                                             min_impurity_split=None,\n",
       "                                             min_samples_leaf=1,\n",
       "                                             min_samples_split=2,\n",
       "                                             min_weight_fraction_leaf=0.0,\n",
       "                                             presort='deprecated',\n",
       "                                             random_state=None,\n",
       "                                             splitter='best'),\n",
       "             iid='deprecated', n_jobs=-1,\n",
       "             param_grid={'criterion': ['mse', 'mae'],\n",
       "                         'max_depth': [1, 2, 3, 4, 5, 6, 7, None]},\n",
       "             pre_dispatch='2*n_jobs', refit=True, return_train_score=False,\n",
       "             scoring=None, verbose=0)"
      ]
     },
     "execution_count": 365,
     "metadata": {},
     "output_type": "execute_result"
    }
   ],
   "source": [
    "#one of the method use for fine tuning the algorithm.\n",
    "from sklearn.model_selection import GridSearchCV\n",
    "grid=GridSearchCV(decisionTreeRegressor,param_grid=parameter_dist,cv=10,n_jobs=-1)\n",
    "grid.fit(X_train,y_train)\n"
   ]
  },
  {
   "cell_type": "code",
   "execution_count": 366,
   "metadata": {},
   "outputs": [
    {
     "data": {
      "text/plain": [
       "DecisionTreeRegressor(ccp_alpha=0.0, criterion='mse', max_depth=4,\n",
       "                      max_features=None, max_leaf_nodes=None,\n",
       "                      min_impurity_decrease=0.0, min_impurity_split=None,\n",
       "                      min_samples_leaf=1, min_samples_split=2,\n",
       "                      min_weight_fraction_leaf=0.0, presort='deprecated',\n",
       "                      random_state=None, splitter='best')"
      ]
     },
     "execution_count": 366,
     "metadata": {},
     "output_type": "execute_result"
    }
   ],
   "source": [
    "#determine best parameter values of a decision tree.\n",
    "grid.best_estimator_\n"
   ]
  },
  {
   "cell_type": "code",
   "execution_count": 367,
   "metadata": {},
   "outputs": [
    {
     "name": "stdout",
     "output_type": "stream",
     "text": [
      "The score is: 21.1%\n"
     ]
    }
   ],
   "source": [
    "#determine the best accuracy score.\n",
    "print(f'The score is: {round((grid.best_score_*100),2)}%')\n"
   ]
  },
  {
   "cell_type": "code",
   "execution_count": 368,
   "metadata": {},
   "outputs": [
    {
     "data": {
      "text/plain": [
       "{'criterion': 'mse', 'max_depth': 4}"
      ]
     },
     "execution_count": 368,
     "metadata": {},
     "output_type": "execute_result"
    }
   ],
   "source": [
    "#determine the best parameters for fine tuning.\n",
    "grid.best_params_\n"
   ]
  },
  {
   "cell_type": "code",
   "execution_count": 369,
   "metadata": {},
   "outputs": [
    {
     "data": {
      "text/plain": [
       "DecisionTreeRegressor(ccp_alpha=0.0, criterion='mse', max_depth=4,\n",
       "                      max_features=None, max_leaf_nodes=None,\n",
       "                      min_impurity_decrease=0.0, min_impurity_split=None,\n",
       "                      min_samples_leaf=1, min_samples_split=2,\n",
       "                      min_weight_fraction_leaf=0.0, presort='deprecated',\n",
       "                      random_state=None, splitter='best')"
      ]
     },
     "execution_count": 369,
     "metadata": {},
     "output_type": "execute_result"
    }
   ],
   "source": [
    "#hyper tuning the parameters and training the model.\n",
    "decisionTreeRegressor = tree.DecisionTreeRegressor(criterion= 'mse', max_depth= 4)\n",
    "DTRegModel = decisionTreeRegressor.fit(X_train, y_train)\n",
    "DTRegModel\n",
    "\n"
   ]
  },
  {
   "cell_type": "code",
   "execution_count": 370,
   "metadata": {},
   "outputs": [
    {
     "data": {
      "text/plain": [
       "array([0.375     , 0.375     , 0.44366197, 0.96296296, 0.92990654])"
      ]
     },
     "execution_count": 370,
     "metadata": {},
     "output_type": "execute_result"
    }
   ],
   "source": [
    "#Test the model with the test dataset for predictions of top 5 labels (without the labels).\n",
    "DTReg_predictions=DTRegModel.predict(X_test)\n",
    "DTReg_predictions[:5]"
   ]
  },
  {
   "cell_type": "code",
   "execution_count": 371,
   "metadata": {},
   "outputs": [
    {
     "name": "stdout",
     "output_type": "stream",
     "text": [
      "The mean absolute error score of decision tree classification for red-wine quality prediction is 35.83%\n"
     ]
    }
   ],
   "source": [
    "#check the mean absolute error value.\n",
    "from sklearn.metrics import mean_absolute_error\n",
    "MAE=mean_absolute_error(y_test, DTReg_predictions)\n",
    "print(f'The mean absolute error score of decision tree classification for red-wine quality prediction is {round((MAE*100),2)}%')\n",
    "\n"
   ]
  },
  {
   "cell_type": "code",
   "execution_count": 372,
   "metadata": {},
   "outputs": [
    {
     "name": "stdout",
     "output_type": "stream",
     "text": [
      "The mean squared error score of decision tree classification for red-wine quality prediction is 44.5%\n"
     ]
    }
   ],
   "source": [
    "#check the mean squared error value.\n",
    "from sklearn.metrics import mean_squared_error\n",
    "MSE=mean_squared_error(y_test, DTReg_predictions,squared=False)\n",
    "print(f'The mean squared error score of decision tree classification for red-wine quality prediction is {round((MSE*100),2)}%')\n"
   ]
  },
  {
   "cell_type": "code",
   "execution_count": 373,
   "metadata": {},
   "outputs": [
    {
     "name": "stdout",
     "output_type": "stream",
     "text": [
      "The root mean squared error score of decision tree classification for red-wine quality prediction is 19.8%\n"
     ]
    }
   ],
   "source": [
    "#Check the root mean squared error (RMSE) value.\n",
    "from sklearn.metrics import mean_squared_error\n",
    "RMSE=mean_squared_error(y_test, DTReg_predictions,squared=True)\n",
    "print(f'The root mean squared error score of decision tree classification for red-wine quality prediction is {round((RMSE*100),2)}%')\n"
   ]
  },
  {
   "cell_type": "code",
   "execution_count": 374,
   "metadata": {},
   "outputs": [
    {
     "name": "stdout",
     "output_type": "stream",
     "text": [
      "The regression score of decision tree classification for red-wine quality prediction is 20.73%\n"
     ]
    }
   ],
   "source": [
    "#Check the regression score function value (r2-score).\n",
    "from sklearn.metrics import r2_score\n",
    "r2_score=r2_score(y_test, DTReg_predictions)\n",
    "print(f'The regression score of decision tree classification for red-wine quality prediction is {round((r2_score*100),2)}%')"
   ]
  },
  {
   "cell_type": "code",
   "execution_count": 375,
   "metadata": {},
   "outputs": [
    {
     "data": {
      "text/plain": [
       "[Text(453.375, 489.24, 'X[10] <= 0.086\\nmse = 0.249\\nsamples = 952\\nvalue = 0.536'),\n",
       " Text(261.5625, 380.52000000000004, 'X[1] <= 0.098\\nmse = 0.232\\nsamples = 579\\nvalue = 0.366'),\n",
       " Text(139.5, 271.8, 'X[6] <= 1.069\\nmse = 0.25\\nsamples = 279\\nvalue = 0.498'),\n",
       " Text(69.75, 163.08000000000004, 'X[9] <= 0.037\\nmse = 0.246\\nsamples = 233\\nvalue = 0.562'),\n",
       " Text(34.875, 54.360000000000014, 'mse = 0.247\\nsamples = 142\\nvalue = 0.444'),\n",
       " Text(104.625, 54.360000000000014, 'mse = 0.189\\nsamples = 91\\nvalue = 0.747'),\n",
       " Text(209.25, 163.08000000000004, 'X[1] <= -0.134\\nmse = 0.144\\nsamples = 46\\nvalue = 0.174'),\n",
       " Text(174.375, 54.360000000000014, 'mse = 0.094\\nsamples = 38\\nvalue = 0.105'),\n",
       " Text(244.125, 54.360000000000014, 'mse = 0.25\\nsamples = 8\\nvalue = 0.5'),\n",
       " Text(383.625, 271.8, 'X[0] <= 1.55\\nmse = 0.184\\nsamples = 300\\nvalue = 0.243'),\n",
       " Text(348.75, 163.08000000000004, 'X[10] <= -0.445\\nmse = 0.179\\nsamples = 296\\nvalue = 0.233'),\n",
       " Text(313.875, 54.360000000000014, 'mse = 0.152\\nsamples = 224\\nvalue = 0.188'),\n",
       " Text(383.625, 54.360000000000014, 'mse = 0.234\\nsamples = 72\\nvalue = 0.375'),\n",
       " Text(418.5, 163.08000000000004, 'mse = 0.0\\nsamples = 4\\nvalue = 1.0'),\n",
       " Text(645.1875, 380.52000000000004, 'X[1] <= 1.861\\nmse = 0.161\\nsamples = 373\\nvalue = 0.799'),\n",
       " Text(558.0, 271.8, 'X[9] <= -0.432\\nmse = 0.14\\nsamples = 355\\nvalue = 0.831'),\n",
       " Text(488.25, 163.08000000000004, 'X[1] <= -0.79\\nmse = 0.226\\nsamples = 93\\nvalue = 0.656'),\n",
       " Text(453.375, 54.360000000000014, 'mse = 0.036\\nsamples = 27\\nvalue = 0.963'),\n",
       " Text(523.125, 54.360000000000014, 'mse = 0.249\\nsamples = 66\\nvalue = 0.53'),\n",
       " Text(627.75, 163.08000000000004, 'X[6] <= 0.23\\nmse = 0.095\\nsamples = 262\\nvalue = 0.893'),\n",
       " Text(592.875, 54.360000000000014, 'mse = 0.065\\nsamples = 214\\nvalue = 0.93'),\n",
       " Text(662.625, 54.360000000000014, 'mse = 0.197\\nsamples = 48\\nvalue = 0.729'),\n",
       " Text(732.375, 271.8, 'X[10] <= 0.294\\nmse = 0.139\\nsamples = 18\\nvalue = 0.167'),\n",
       " Text(697.5, 163.08000000000004, 'mse = 0.0\\nsamples = 1\\nvalue = 1.0'),\n",
       " Text(767.25, 163.08000000000004, 'X[10] <= 1.173\\nmse = 0.104\\nsamples = 17\\nvalue = 0.118'),\n",
       " Text(732.375, 54.360000000000014, 'mse = 0.059\\nsamples = 16\\nvalue = 0.062'),\n",
       " Text(802.125, 54.360000000000014, 'mse = 0.0\\nsamples = 1\\nvalue = 1.0')]"
      ]
     },
     "execution_count": 375,
     "metadata": {},
     "output_type": "execute_result"
    },
    {
     "data": {
      "image/png": "[encoded data removed]",
      "text/plain": [
       "<Figure size 1080x720 with 1 Axes>"
      ]
     },
     "metadata": {
      "needs_background": "light"
     },
     "output_type": "display_data"
    }
   ],
   "source": [
    "#plot the decision tree for red-wine dataset\n",
    "plt.figure(figsize=(15,10))\n",
    "tree.plot_tree(decisionTreeRegressor,filled=True)"
   ]
  },
  {
   "cell_type": "code",
   "execution_count": 376,
   "metadata": {},
   "outputs": [
    {
     "name": "stdout",
     "output_type": "stream",
     "text": [
      "|--- feature_10 <= 0.09\n",
      "|   |--- feature_1 <= 0.10\n",
      "|   |   |--- feature_6 <= 1.07\n",
      "|   |   |   |--- feature_9 <= 0.04\n",
      "|   |   |   |   |--- value: [0.44]\n",
      "|   |   |   |--- feature_9 >  0.04\n",
      "|   |   |   |   |--- value: [0.75]\n",
      "|   |   |--- feature_6 >  1.07\n",
      "|   |   |   |--- feature_1 <= -0.13\n",
      "|   |   |   |   |--- value: [0.11]\n",
      "|   |   |   |--- feature_1 >  -0.13\n",
      "|   |   |   |   |--- value: [0.50]\n",
      "|   |--- feature_1 >  0.10\n",
      "|   |   |--- feature_0 <= 1.55\n",
      "|   |   |   |--- feature_10 <= -0.45\n",
      "|   |   |   |   |--- value: [0.19]\n",
      "|   |   |   |--- feature_10 >  -0.45\n",
      "|   |   |   |   |--- value: [0.38]\n",
      "|   |   |--- feature_0 >  1.55\n",
      "|   |   |   |--- value: [1.00]\n",
      "|--- feature_10 >  0.09\n",
      "|   |--- feature_1 <= 1.86\n",
      "|   |   |--- feature_9 <= -0.43\n",
      "|   |   |   |--- feature_1 <= -0.79\n",
      "|   |   |   |   |--- value: [0.96]\n",
      "|   |   |   |--- feature_1 >  -0.79\n",
      "|   |   |   |   |--- value: [0.53]\n",
      "|   |   |--- feature_9 >  -0.43\n",
      "|   |   |   |--- feature_6 <= 0.23\n",
      "|   |   |   |   |--- value: [0.93]\n",
      "|   |   |   |--- feature_6 >  0.23\n",
      "|   |   |   |   |--- value: [0.73]\n",
      "|   |--- feature_1 >  1.86\n",
      "|   |   |--- feature_10 <= 0.29\n",
      "|   |   |   |--- value: [1.00]\n",
      "|   |   |--- feature_10 >  0.29\n",
      "|   |   |   |--- feature_10 <= 1.17\n",
      "|   |   |   |   |--- value: [0.06]\n",
      "|   |   |   |--- feature_10 >  1.17\n",
      "|   |   |   |   |--- value: [1.00]\n",
      "\n"
     ]
    }
   ],
   "source": [
    "#Division of tree shown in the form of text.\n",
    "print(tree.export_text(decisionTreeRegressor))\n"
   ]
  },
  {
   "cell_type": "markdown",
   "metadata": {},
   "source": [
    "## Using the concept of serialization or pickling to store the model in a reusable file"
   ]
  },
  {
   "cell_type": "code",
   "execution_count": 377,
   "metadata": {},
   "outputs": [],
   "source": [
    "#import pickle function and dump the model.\n",
    "import pickle\n",
    "with open('model_pickle_DT_RWReg','wb') as f:\n",
    "    pickle.dump(DTRegModel,f)\n"
   ]
  },
  {
   "cell_type": "code",
   "execution_count": 378,
   "metadata": {},
   "outputs": [],
   "source": [
    "#Read the pickled file.\n",
    "with open('model_pickle_DT_RWReg','rb') as f:\n",
    "    mp=pickle.load(f)\n"
   ]
  },
  {
   "cell_type": "code",
   "execution_count": 379,
   "metadata": {},
   "outputs": [
    {
     "data": {
      "text/plain": [
       "array([0.375     , 0.375     , 0.44366197, 0.96296296, 0.92990654])"
      ]
     },
     "execution_count": 379,
     "metadata": {},
     "output_type": "execute_result"
    }
   ],
   "source": [
    "#Test the predictions.\n",
    "pred=mp.predict(X_test)\n",
    "pred[:5]"
   ]
  },
  {
   "cell_type": "markdown",
   "metadata": {},
   "source": [
    "# Red-wine Classification"
   ]
  },
  {
   "cell_type": "code",
   "execution_count": 380,
   "metadata": {},
   "outputs": [],
   "source": [
    "#create a decision tree classification model using the training dataset.\n",
    "decisionTreeClassifier=tree.DecisionTreeClassifier()\n",
    "DTClsModel=decisionTreeClassifier.fit(X_train,y_train)\n"
   ]
  },
  {
   "cell_type": "code",
   "execution_count": 381,
   "metadata": {},
   "outputs": [
    {
     "data": {
      "text/plain": [
       "array([0, 0, 1, 1, 0])"
      ]
     },
     "execution_count": 381,
     "metadata": {},
     "output_type": "execute_result"
    }
   ],
   "source": [
    "#Test the model with the test dataset for predictions for top 5 labels(without the labels).\n",
    "DTClass_predictions=DTClsModel.predict(X_test)\n",
    "DTClass_predictions[:5]"
   ]
  },
  {
   "cell_type": "code",
   "execution_count": 382,
   "metadata": {},
   "outputs": [
    {
     "data": {
      "text/plain": [
       "array([[1., 0.],\n",
       "       [1., 0.],\n",
       "       [0., 1.],\n",
       "       [0., 1.],\n",
       "       [1., 0.]])"
      ]
     },
     "execution_count": 382,
     "metadata": {},
     "output_type": "execute_result"
    }
   ],
   "source": [
    "#check the probability of top 5predicted labels.\n",
    "prob=DTClsModel.predict_proba(X_test)\n",
    "prob[:5]"
   ]
  },
  {
   "cell_type": "code",
   "execution_count": 383,
   "metadata": {},
   "outputs": [
    {
     "name": "stdout",
     "output_type": "stream",
     "text": [
      "The accuracy  of decision tree classification for red-wine quality prediction is 64.46%\n"
     ]
    }
   ],
   "source": [
    "#Check the accuracy of decision tree classifier before fine tuning.\n",
    "from sklearn.metrics import accuracy_score\n",
    "accuracy_score=accuracy_score(y_test, DTClass_predictions)\n",
    "print(f'The accuracy  of decision tree classification for red-wine quality prediction is {round((accuracy_score*100),2)}%')"
   ]
  },
  {
   "cell_type": "code",
   "execution_count": 384,
   "metadata": {},
   "outputs": [],
   "source": [
    "#hyper parameter tuning for a better accuracy of our decision tree model.\n",
    "parameter_dist={'criterion':['gini','entropy'], \n",
    "                'max_depth':[1,2,3,4,5,6,7,None]}\n"
   ]
  },
  {
   "cell_type": "code",
   "execution_count": 385,
   "metadata": {},
   "outputs": [
    {
     "data": {
      "text/plain": [
       "GridSearchCV(cv=10, error_score=nan,\n",
       "             estimator=DecisionTreeClassifier(ccp_alpha=0.0, class_weight=None,\n",
       "                                              criterion='gini', max_depth=None,\n",
       "                                              max_features=None,\n",
       "                                              max_leaf_nodes=None,\n",
       "                                              min_impurity_decrease=0.0,\n",
       "                                              min_impurity_split=None,\n",
       "                                              min_samples_leaf=1,\n",
       "                                              min_samples_split=2,\n",
       "                                              min_weight_fraction_leaf=0.0,\n",
       "                                              presort='deprecated',\n",
       "                                              random_state=None,\n",
       "                                              splitter='best'),\n",
       "             iid='deprecated', n_jobs=-1,\n",
       "             param_grid={'criterion': ['gini', 'entropy'],\n",
       "                         'max_depth': [1, 2, 3, 4, 5, 6, 7, None]},\n",
       "             pre_dispatch='2*n_jobs', refit=True, return_train_score=False,\n",
       "             scoring=None, verbose=0)"
      ]
     },
     "execution_count": 385,
     "metadata": {},
     "output_type": "execute_result"
    }
   ],
   "source": [
    "#one of the method use for fine tyning the alforithm\n",
    "from sklearn.model_selection import GridSearchCV\n",
    "grid=GridSearchCV(decisionTreeClassifier,param_grid=parameter_dist,cv=10,n_jobs=-1)\n",
    "grid.fit(X_train,y_train)\n"
   ]
  },
  {
   "cell_type": "code",
   "execution_count": 386,
   "metadata": {},
   "outputs": [
    {
     "data": {
      "text/plain": [
       "DecisionTreeClassifier(ccp_alpha=0.0, class_weight=None, criterion='gini',\n",
       "                       max_depth=6, max_features=None, max_leaf_nodes=None,\n",
       "                       min_impurity_decrease=0.0, min_impurity_split=None,\n",
       "                       min_samples_leaf=1, min_samples_split=2,\n",
       "                       min_weight_fraction_leaf=0.0, presort='deprecated',\n",
       "                       random_state=None, splitter='best')"
      ]
     },
     "execution_count": 386,
     "metadata": {},
     "output_type": "execute_result"
    }
   ],
   "source": [
    "#determine best parameter values of a decision tree\n",
    "grid.best_estimator_\n"
   ]
  },
  {
   "cell_type": "code",
   "execution_count": 387,
   "metadata": {},
   "outputs": [
    {
     "name": "stdout",
     "output_type": "stream",
     "text": [
      "The score is: 72.68%\n"
     ]
    }
   ],
   "source": [
    "#determine the best accuracy score\n",
    "print(f'The score is: {round((grid.best_score_*100),2)}%')\n"
   ]
  },
  {
   "cell_type": "code",
   "execution_count": 388,
   "metadata": {},
   "outputs": [
    {
     "data": {
      "text/plain": [
       "{'criterion': 'gini', 'max_depth': 6}"
      ]
     },
     "execution_count": 388,
     "metadata": {},
     "output_type": "execute_result"
    }
   ],
   "source": [
    "#determine the best parameters for fine tuning\n",
    "grid.best_params_\n"
   ]
  },
  {
   "cell_type": "code",
   "execution_count": 389,
   "metadata": {},
   "outputs": [
    {
     "data": {
      "text/plain": [
       "DecisionTreeClassifier(ccp_alpha=0.0, class_weight=None, criterion='entropy',\n",
       "                       max_depth=3, max_features=None, max_leaf_nodes=None,\n",
       "                       min_impurity_decrease=0.0, min_impurity_split=None,\n",
       "                       min_samples_leaf=1, min_samples_split=2,\n",
       "                       min_weight_fraction_leaf=0.0, presort='deprecated',\n",
       "                       random_state=None, splitter='best')"
      ]
     },
     "execution_count": 389,
     "metadata": {},
     "output_type": "execute_result"
    }
   ],
   "source": [
    "#hyper tuning the parameters and training the model:\n",
    "decisionTreeClassifier = tree.DecisionTreeClassifier(criterion= 'entropy', max_depth= 3)\n",
    "DTClsModel = decisionTreeClassifier.fit(X_train, y_train)\n",
    "DTClsModel\n"
   ]
  },
  {
   "cell_type": "code",
   "execution_count": 390,
   "metadata": {},
   "outputs": [
    {
     "data": {
      "text/plain": [
       "array([0, 0, 1, 1, 1])"
      ]
     },
     "execution_count": 390,
     "metadata": {},
     "output_type": "execute_result"
    }
   ],
   "source": [
    "#Test the model with the test dataset for predictions (without the labels).\n",
    "DTClass_predictions=DTClsModel.predict(X_test)\n",
    "DTClass_predictions[:5]\n"
   ]
  },
  {
   "cell_type": "code",
   "execution_count": 391,
   "metadata": {},
   "outputs": [
    {
     "data": {
      "text/plain": [
       "array([[0.73357664, 0.26642336],\n",
       "       [0.73357664, 0.26642336],\n",
       "       [0.43776824, 0.56223176],\n",
       "       [0.34408602, 0.65591398],\n",
       "       [0.10687023, 0.89312977]])"
      ]
     },
     "execution_count": 391,
     "metadata": {},
     "output_type": "execute_result"
    }
   ],
   "source": [
    "#check the probability of top 5predicted labels.\n",
    "prob=DTClsModel.predict_proba(X_test)\n",
    "prob[:5]"
   ]
  },
  {
   "cell_type": "code",
   "execution_count": 392,
   "metadata": {},
   "outputs": [
    {
     "name": "stdout",
     "output_type": "stream",
     "text": [
      "The accuracy  of decision tree classification for red-wine quality prediction is 69.36%\n"
     ]
    }
   ],
   "source": [
    "#Check the accuracy of decision tree classifier post fine tuning.\n",
    "from sklearn.metrics import accuracy_score\n",
    "accuracy_score=accuracy_score(y_test, DTClass_predictions)\n",
    "print(f'The accuracy  of decision tree classification for red-wine quality prediction is {round((accuracy_score*100),2)}%')\n"
   ]
  },
  {
   "cell_type": "code",
   "execution_count": 393,
   "metadata": {},
   "outputs": [
    {
     "name": "stdout",
     "output_type": "stream",
     "text": [
      "The precision score of decision tree classification for red-wine quality prediction is 67.5%\n"
     ]
    }
   ],
   "source": [
    "#Check the precision score of decision tree classifier.\n",
    "from sklearn.metrics import precision_score\n",
    "precision_score=precision_score(y_test, DTClass_predictions)\n",
    "print(f'The precision score of decision tree classification for red-wine quality prediction is {round((precision_score*100),2)}%')\n"
   ]
  },
  {
   "cell_type": "code",
   "execution_count": 394,
   "metadata": {},
   "outputs": [
    {
     "name": "stdout",
     "output_type": "stream",
     "text": [
      "The recall score  of decision tree classification for red-wine quality prediction is 77.51%\n"
     ]
    }
   ],
   "source": [
    "#Check the recall score of decision tree classifier.\n",
    "from sklearn.metrics import recall_score\n",
    "recall_score=recall_score(y_test, DTClass_predictions)\n",
    "print(f'The recall score  of decision tree classification for red-wine quality prediction is {round((recall_score*100),2)}%')\n"
   ]
  },
  {
   "cell_type": "code",
   "execution_count": 395,
   "metadata": {},
   "outputs": [
    {
     "name": "stdout",
     "output_type": "stream",
     "text": [
      "The f1-score of decision tree classification for red-wine quality prediction is 72.16%\n"
     ]
    }
   ],
   "source": [
    "#Check the F1-score of decision tree classifier.\n",
    "from sklearn.metrics import f1_score\n",
    "f1_score=f1_score(y_test, DTClass_predictions)\n",
    "print(f'The f1-score of decision tree classification for red-wine quality prediction is {round((f1_score*100),2)}%')"
   ]
  },
  {
   "cell_type": "code",
   "execution_count": 396,
   "metadata": {},
   "outputs": [
    {
     "data": {
      "image/png": "[encoded data removed]",
      "text/plain": [
       "<Figure size 432x288 with 1 Axes>"
      ]
     },
     "metadata": {
      "needs_background": "light"
     },
     "output_type": "display_data"
    }
   ],
   "source": [
    "# Plot the ROC curve.\n",
    "import scikitplot as skplt\n",
    "skplt.metrics.plot_roc(y_test, prob, plot_micro=False)\n",
    "plt.show()"
   ]
  },
  {
   "cell_type": "code",
   "execution_count": 397,
   "metadata": {},
   "outputs": [
    {
     "data": {
      "image/png": "[encoded data removed]",
      "text/plain": [
       "<Figure size 432x288 with 1 Axes>"
      ]
     },
     "metadata": {
      "needs_background": "light"
     },
     "output_type": "display_data"
    }
   ],
   "source": [
    "\n",
    "# Plot the Cumulative Gains curve curve.\n",
    "skplt.metrics.plot_cumulative_gain(y_test, prob)\n",
    "plt.show()"
   ]
  },
  {
   "cell_type": "code",
   "execution_count": 398,
   "metadata": {},
   "outputs": [
    {
     "name": "stdout",
     "output_type": "stream",
     "text": [
      "The Average precision-recall score is 63.84%\n"
     ]
    }
   ],
   "source": [
    "# Plot the precision-recall curve.\n",
    "\n",
    "from sklearn.metrics import average_precision_score\n",
    "average_precision = average_precision_score(y_test, DTClass_predictions)\n",
    "print('The Average precision-recall score is {0:0.2f}%'.format(round((average_precision*100),2)))\n"
   ]
  },
  {
   "cell_type": "code",
   "execution_count": 399,
   "metadata": {},
   "outputs": [
    {
     "data": {
      "text/plain": [
       "Text(0.5, 1.0, 'The Precision-Recall curve: AP=63.84%')"
      ]
     },
     "execution_count": 399,
     "metadata": {},
     "output_type": "execute_result"
    },
    {
     "data": {
      "image/png": "[encoded data removed]",
      "text/plain": [
       "<Figure size 432x288 with 1 Axes>"
      ]
     },
     "metadata": {
      "needs_background": "light"
     },
     "output_type": "display_data"
    }
   ],
   "source": [
    "from sklearn.metrics import precision_recall_curve\n",
    "from sklearn.metrics import plot_precision_recall_curve\n",
    "display = plot_precision_recall_curve(DTClsModel, X_test, y_test)\n",
    "display.ax_.set_title('The Precision-Recall curve: ''AP={0:0.2f}%'.format(round((average_precision*100),2)))"
   ]
  },
  {
   "cell_type": "code",
   "execution_count": 400,
   "metadata": {},
   "outputs": [
    {
     "name": "stdout",
     "output_type": "stream",
     "text": [
      "The Receiver Operating Characteristic Curve (ROC AUC) score is 69.16%\n"
     ]
    }
   ],
   "source": [
    "# determine Receiver Operating Characteristic Curve (ROC AUC) score.\n",
    "from sklearn.metrics import roc_auc_score\n",
    "roc_auc_score = roc_auc_score(y_test, DTClass_predictions)\n",
    "print('The Receiver Operating Characteristic Curve (ROC AUC) score is {0:0.2f}%'.format(((roc_auc_score*100))))"
   ]
  },
  {
   "cell_type": "code",
   "execution_count": 401,
   "metadata": {},
   "outputs": [
    {
     "name": "stdout",
     "output_type": "stream",
     "text": [
      "              precision    recall  f1-score   support\n",
      "\n",
      "           0       0.72      0.61      0.66       199\n",
      "           1       0.68      0.78      0.72       209\n",
      "\n",
      "    accuracy                           0.69       408\n",
      "   macro avg       0.70      0.69      0.69       408\n",
      "weighted avg       0.70      0.69      0.69       408\n",
      "\n"
     ]
    }
   ],
   "source": [
    "#determine the classifcation report.\n",
    "from sklearn.metrics import classification_report\n",
    "print(classification_report(y_test, DTClass_predictions))"
   ]
  },
  {
   "cell_type": "code",
   "execution_count": 402,
   "metadata": {},
   "outputs": [
    {
     "data": {
      "text/plain": [
       "array([[121,  78],\n",
       "       [ 47, 162]], dtype=int64)"
      ]
     },
     "execution_count": 402,
     "metadata": {},
     "output_type": "execute_result"
    }
   ],
   "source": [
    "#build the confusion matrix.\n",
    "from sklearn.metrics import confusion_matrix\n",
    "from sklearn.metrics import plot_confusion_matrix\n",
    "confusion_matrix(y_test, DTClass_predictions)\n"
   ]
  },
  {
   "cell_type": "code",
   "execution_count": 403,
   "metadata": {},
   "outputs": [
    {
     "name": "stdout",
     "output_type": "stream",
     "text": [
      "[[121  78]\n",
      " [ 47 162]]\n"
     ]
    },
    {
     "data": {
      "image/png": "[encoded data removed]",
      "text/plain": [
       "<Figure size 432x288 with 2 Axes>"
      ]
     },
     "metadata": {
      "needs_background": "light"
     },
     "output_type": "display_data"
    }
   ],
   "source": [
    "#plot the confusion metrics\n",
    "display = plot_confusion_matrix(DTClsModel, X_test, y_test,display_labels=y,cmap=plt.cm.Greens)\n",
    "display.ax_.set_title('Confusion matrix')\n",
    "print(display.confusion_matrix)"
   ]
  },
  {
   "cell_type": "code",
   "execution_count": 404,
   "metadata": {},
   "outputs": [
    {
     "data": {
      "text/plain": [
       "[Text(418.5, 475.65000000000003, 'X[10] <= 0.086\\nentropy = 0.996\\nsamples = 952\\nvalue = [442, 510]'),\n",
       " Text(209.25, 339.75, 'X[1] <= 0.098\\nentropy = 0.948\\nsamples = 579\\nvalue = [367, 212]'),\n",
       " Text(104.625, 203.85000000000002, 'X[6] <= 1.069\\nentropy = 1.0\\nsamples = 279\\nvalue = [140, 139]'),\n",
       " Text(52.3125, 67.94999999999999, 'entropy = 0.989\\nsamples = 233\\nvalue = [102, 131]'),\n",
       " Text(156.9375, 67.94999999999999, 'entropy = 0.667\\nsamples = 46\\nvalue = [38, 8]'),\n",
       " Text(313.875, 203.85000000000002, 'X[6] <= 1.878\\nentropy = 0.801\\nsamples = 300\\nvalue = [227, 73]'),\n",
       " Text(261.5625, 67.94999999999999, 'entropy = 0.836\\nsamples = 274\\nvalue = [201, 73]'),\n",
       " Text(366.1875, 67.94999999999999, 'entropy = 0.0\\nsamples = 26\\nvalue = [26, 0]'),\n",
       " Text(627.75, 339.75, 'X[1] <= 1.861\\nentropy = 0.724\\nsamples = 373\\nvalue = [75, 298]'),\n",
       " Text(523.125, 203.85000000000002, 'X[9] <= -0.432\\nentropy = 0.655\\nsamples = 355\\nvalue = [60, 295]'),\n",
       " Text(470.8125, 67.94999999999999, 'entropy = 0.929\\nsamples = 93\\nvalue = [32, 61]'),\n",
       " Text(575.4375, 67.94999999999999, 'entropy = 0.49\\nsamples = 262\\nvalue = [28, 234]'),\n",
       " Text(732.375, 203.85000000000002, 'X[10] <= 0.294\\nentropy = 0.65\\nsamples = 18\\nvalue = [15, 3]'),\n",
       " Text(680.0625, 67.94999999999999, 'entropy = 0.0\\nsamples = 1\\nvalue = [0, 1]'),\n",
       " Text(784.6875, 67.94999999999999, 'entropy = 0.523\\nsamples = 17\\nvalue = [15, 2]')]"
      ]
     },
     "execution_count": 404,
     "metadata": {},
     "output_type": "execute_result"
    },
    {
     "data": {
      "image/png": "[encoded data removed]",
      "text/plain": [
       "<Figure size 1080x720 with 1 Axes>"
      ]
     },
     "metadata": {
      "needs_background": "light"
     },
     "output_type": "display_data"
    }
   ],
   "source": [
    "#plot the decision tree for red-wine dataset\n",
    "plt.figure(figsize=(15,10))\n",
    "tree.plot_tree(decisionTreeClassifier,filled=True)"
   ]
  },
  {
   "cell_type": "code",
   "execution_count": 405,
   "metadata": {
    "scrolled": true
   },
   "outputs": [
    {
     "name": "stdout",
     "output_type": "stream",
     "text": [
      "|--- feature_10 <= 0.09\n",
      "|   |--- feature_1 <= 0.10\n",
      "|   |   |--- feature_6 <= 1.07\n",
      "|   |   |   |--- class: 1\n",
      "|   |   |--- feature_6 >  1.07\n",
      "|   |   |   |--- class: 0\n",
      "|   |--- feature_1 >  0.10\n",
      "|   |   |--- feature_6 <= 1.88\n",
      "|   |   |   |--- class: 0\n",
      "|   |   |--- feature_6 >  1.88\n",
      "|   |   |   |--- class: 0\n",
      "|--- feature_10 >  0.09\n",
      "|   |--- feature_1 <= 1.86\n",
      "|   |   |--- feature_9 <= -0.43\n",
      "|   |   |   |--- class: 1\n",
      "|   |   |--- feature_9 >  -0.43\n",
      "|   |   |   |--- class: 1\n",
      "|   |--- feature_1 >  1.86\n",
      "|   |   |--- feature_10 <= 0.29\n",
      "|   |   |   |--- class: 1\n",
      "|   |   |--- feature_10 >  0.29\n",
      "|   |   |   |--- class: 0\n",
      "\n"
     ]
    }
   ],
   "source": [
    "#Division of tree shown in the form of text.\n",
    "print(tree.export_text(decisionTreeClassifier))"
   ]
  },
  {
   "cell_type": "markdown",
   "metadata": {},
   "source": [
    "## Using the concept of serialization or pickling to store the model in a reusable file"
   ]
  },
  {
   "cell_type": "code",
   "execution_count": 406,
   "metadata": {},
   "outputs": [],
   "source": [
    "#import pickle function and dump the model.\n",
    "import pickle\n",
    "with open('model_pickle_DT_RWClf','wb') as f:\n",
    "    pickle.dump(DTClsModel,f)\n"
   ]
  },
  {
   "cell_type": "code",
   "execution_count": 407,
   "metadata": {},
   "outputs": [],
   "source": [
    "#Read the pickled file.\n",
    "with open('model_pickle_DT_RWClf','rb') as f:\n",
    "    mp=pickle.load(f)\n"
   ]
  },
  {
   "cell_type": "code",
   "execution_count": 408,
   "metadata": {},
   "outputs": [
    {
     "data": {
      "text/plain": [
       "array([0, 0, 1, 1, 1])"
      ]
     },
     "execution_count": 408,
     "metadata": {},
     "output_type": "execute_result"
    }
   ],
   "source": [
    "#Test the predictions.\n",
    "pred=mp.predict(X_test)\n",
    "pred[:5]"
   ]
  },
  {
   "cell_type": "code",
   "execution_count": null,
   "metadata": {},
   "outputs": [],
   "source": []
  }
 ],
 "metadata": {
  "kernelspec": {
   "display_name": "Python 3",
   "language": "python",
   "name": "python3"
  },
  "language_info": {
   "codemirror_mode": {
    "name": "ipython",
    "version": 3
   },
   "file_extension": ".py",
   "mimetype": "text/x-python",
   "name": "python",
   "nbconvert_exporter": "python",
   "pygments_lexer": "ipython3",
   "version": "3.7.6"
  }
 },
 "nbformat": 4,
 "nbformat_minor": 4
}
